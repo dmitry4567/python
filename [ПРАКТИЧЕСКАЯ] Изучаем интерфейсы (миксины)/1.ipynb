{
 "cells": [
  {
   "cell_type": "code",
   "execution_count": 11,
   "metadata": {},
   "outputs": [],
   "source": [
    "class Character:\n",
    "    def __init__(self, name, age):\n",
    "        self.name = name\n",
    "        self.age = age"
   ]
  },
  {
   "cell_type": "code",
   "execution_count": 12,
   "metadata": {},
   "outputs": [],
   "source": [
    "class GarryPoter(Character):\n",
    "    def __init__(self, name, age):\n",
    "        super().__init__(name, age)\n",
    "\n",
    "\n",
    "class Hagrid(Character):\n",
    "    def __init__(self, name, age):\n",
    "        super().__init__(name, age)\n",
    "\n",
    "\n",
    "class Shrek(Character):\n",
    "    def __init__(self, name, age):\n",
    "        super().__init__(name, age)\n"
   ]
  },
  {
   "cell_type": "code",
   "execution_count": 15,
   "metadata": {},
   "outputs": [],
   "source": [
    "class MixinFallable:\n",
    "    def fly(self):\n",
    "        print(\"fly\")\n",
    "\n",
    "\n",
    "class MixinRemovable:\n",
    "    def remove(self):\n",
    "        print(\"remove\")\n",
    "\n",
    "\n",
    "class MixinMagickable:\n",
    "    def magic(self):\n",
    "        print(\"magic\")\n",
    "\n",
    "\n",
    "class MixinJumpable:\n",
    "    def jump(self):\n",
    "        print(\"jump\")\n",
    "\n",
    "\n",
    "class MixinTalkable:\n",
    "    def talk(self):\n",
    "        print(\"talk\")\n",
    "\n",
    "\n",
    "class MixinPlayable(MixinJumpable, MixinTalkable):\n",
    "    def __init__(self):\n",
    "        pass\n",
    "\n",
    "\n",
    "class MixinFunkoPop(MixinFallable, MixinRemovable, MixinMagickable):\n",
    "    def __init__(self):\n",
    "        pass\n",
    "\n",
    "\n",
    "class PlayableHarryPotter(GarryPoter,  MixinPlayable):\n",
    "    pass\n",
    "\n",
    "\n",
    "class FunkoPopHarryPotter(GarryPoter, MixinFunkoPop):\n",
    "    pass"
   ]
  },
  {
   "cell_type": "code",
   "execution_count": 18,
   "metadata": {},
   "outputs": [],
   "source": [
    "harry_potter = GarryPoter(\"Гарри Поттер\", 15)\n",
    "hagrid = Hagrid(\"Хагрид\", 40)\n",
    "shrek = Shrek(\"Шрек\", 30)\n",
    "playable_harry_potter = PlayableHarryPotter(name=\"Gary\", age=20)\n",
    "funko_pop_harry_potter = FunkoPopHarryPotter(name=\"Gary2\", age=25)\n",
    "\n",
    "playable_harry_potter.jump()\n",
    "playable_harry_potter.talk()\n",
    "\n",
    "funko_pop_harry_potter.fly()\n",
    "funko_pop_harry_potter.magic()\n",
    "funko_pop_harry_potter.remove()"
   ]
  }
 ],
 "metadata": {
  "kernelspec": {
   "display_name": "Python 3",
   "language": "python",
   "name": "python3"
  },
  "language_info": {
   "codemirror_mode": {
    "name": "ipython",
    "version": 3
   },
   "file_extension": ".py",
   "mimetype": "text/x-python",
   "name": "python",
   "nbconvert_exporter": "python",
   "pygments_lexer": "ipython3",
   "version": "3.10.7"
  },
  "orig_nbformat": 4
 },
 "nbformat": 4,
 "nbformat_minor": 2
}
