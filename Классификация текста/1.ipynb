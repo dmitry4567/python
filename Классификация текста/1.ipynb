{
 "cells": [
  {
   "cell_type": "code",
   "execution_count": 39,
   "metadata": {},
   "outputs": [],
   "source": [
    "import pandas as pd\n",
    "from sklearn.model_selection import train_test_split\n",
    "from sklearn.preprocessing import LabelEncoder"
   ]
  },
  {
   "cell_type": "code",
   "execution_count": 40,
   "metadata": {},
   "outputs": [],
   "source": [
    "data = pd.read_csv('banks.csv',sep=\"\\t\")"
   ]
  },
  {
   "cell_type": "code",
   "execution_count": 41,
   "metadata": {},
   "outputs": [],
   "source": [
    "encoder = LabelEncoder()\n",
    "\n",
    "data['Score'] = encoder.fit_transform(data['Score'])\n",
    "data['Score'] = data['Score'].map(lambda x: 1 if x=='Positive' else 0)"
   ]
  },
  {
   "cell_type": "code",
   "execution_count": 42,
   "metadata": {},
   "outputs": [
    {
     "name": "stdout",
     "output_type": "stream",
     "text": [
      "Accuracy: 0.95\n"
     ]
    }
   ],
   "source": [
    "import pandas as pd\n",
    "from sklearn.model_selection import train_test_split\n",
    "from sklearn.feature_extraction.text import TfidfVectorizer\n",
    "from sklearn.linear_model import LogisticRegression\n",
    "from sklearn.metrics import accuracy_score\n",
    "\n",
    "data = pd.read_csv('banks.csv',sep=\"\\t\")\n",
    "\n",
    "X_train, X_test, y_train, y_test = train_test_split(data['Text'],data['Score'], test_size=0.2, random_state=40)\n",
    "\n",
    "vectorizer = TfidfVectorizer(max_features=8000)\n",
    "X_train_tfidf = vectorizer.fit_transform(X_train)\n",
    "X_test_tfidf = vectorizer.transform(X_test)\n",
    "\n",
    "model = LogisticRegression()\n",
    "model.fit(X_train_tfidf, y_train)\n",
    "\n",
    "predictions = model.predict(X_test_tfidf)\n",
    "\n",
    "accuracy = accuracy_score(y_test, predictions)\n",
    "print(f'Accuracy: {accuracy}')"
   ]
  },
  {
   "cell_type": "code",
   "execution_count": 43,
   "metadata": {},
   "outputs": [],
   "source": [
    "y_train = y_train.map(lambda x: 1 if x=='Positive' else 0)"
   ]
  },
  {
   "cell_type": "code",
   "execution_count": 44,
   "metadata": {},
   "outputs": [
    {
     "name": "stdout",
     "output_type": "stream",
     "text": [
      "Epoch 1/5\n",
      "88/88 [==============================] - 1s 1ms/step - loss: 0.5279 - accuracy: 0.8414\n",
      "Epoch 2/5\n",
      "88/88 [==============================] - 0s 1ms/step - loss: 0.2697 - accuracy: 0.9177\n",
      "Epoch 3/5\n",
      "88/88 [==============================] - 0s 1ms/step - loss: 0.1958 - accuracy: 0.9348\n",
      "Epoch 4/5\n",
      "88/88 [==============================] - 0s 1ms/step - loss: 0.1660 - accuracy: 0.9434\n",
      "Epoch 5/5\n",
      "88/88 [==============================] - 0s 1ms/step - loss: 0.1498 - accuracy: 0.9470\n",
      "88/88 [==============================] - 0s 901us/step - loss: 0.1761 - accuracy: 0.9346\n",
      "Loss: 0.1760753095149994, Accuracy: 0.9346428513526917\n"
     ]
    }
   ],
   "source": [
    "import tensorflow as tf\n",
    "from sklearn.model_selection import train_test_split\n",
    "from sklearn.feature_extraction.text import TfidfVectorizer\n",
    "\n",
    "\n",
    "data = pd.read_csv('banks.csv',sep=\"\\t\")\n",
    "\n",
    "data['Score'] = data['Score'].map(lambda x: 1 if x=='Positive' else 0)\n",
    "\n",
    "X_train, X_test, y_train, y_test = train_test_split(data['Text'], data['Score'], test_size=0.2, random_state=40)\n",
    "\n",
    "vectorizer = TfidfVectorizer(max_features=1024)  \n",
    "X_train_tfidf = vectorizer.fit_transform(X_train).toarray()\n",
    "X_test_tfidf = vectorizer.transform(X_test).toarray()\n",
    "\n",
    "model = tf.keras.models.Sequential()\n",
    "model.add(tf.keras.layers.Input(shape=(32*32,)))\n",
    "model.add(tf.keras.layers.Dense(64, activation='relu'))\n",
    "model.add(tf.keras.layers.Dense(1, activation='sigmoid')) \n",
    "\n",
    "model.compile(loss='binary_crossentropy', optimizer='adam', metrics=['accuracy'])  \n",
    "\n",
    "model.fit(X_train_tfidf, y_train, epochs=5, batch_size=128)\n",
    "\n",
    "\n",
    "loss, accuracy = model.evaluate(X_test_tfidf, y_test)\n",
    "print(f'Loss: {loss}, Accuracy: {accuracy}') "
   ]
  }
 ],
 "metadata": {
  "kernelspec": {
   "display_name": "Python 3",
   "language": "python",
   "name": "python3"
  },
  "language_info": {
   "codemirror_mode": {
    "name": "ipython",
    "version": 3
   },
   "file_extension": ".py",
   "mimetype": "text/x-python",
   "name": "python",
   "nbconvert_exporter": "python",
   "pygments_lexer": "ipython3",
   "version": "3.11.2"
  }
 },
 "nbformat": 4,
 "nbformat_minor": 2
}
