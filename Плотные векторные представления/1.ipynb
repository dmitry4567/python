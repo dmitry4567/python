{
 "cells": [
  {
   "cell_type": "code",
   "execution_count": 1,
   "metadata": {},
   "outputs": [
    {
     "name": "stdout",
     "output_type": "stream",
     "text": [
      "Requirement already satisfied: gensim in c:\\users\\user\\appdata\\local\\packages\\pythonsoftwarefoundation.python.3.10_qbz5n2kfra8p0\\localcache\\local-packages\\python310\\site-packages (4.3.2)\n",
      "Requirement already satisfied: nltk in c:\\users\\user\\appdata\\local\\packages\\pythonsoftwarefoundation.python.3.10_qbz5n2kfra8p0\\localcache\\local-packages\\python310\\site-packages (3.8.1)\n",
      "Requirement already satisfied: spacy in c:\\users\\user\\appdata\\local\\packages\\pythonsoftwarefoundation.python.3.10_qbz5n2kfra8p0\\localcache\\local-packages\\python310\\site-packages (3.7.1)\n",
      "Requirement already satisfied: scipy>=1.7.0 in c:\\users\\user\\appdata\\local\\packages\\pythonsoftwarefoundation.python.3.10_qbz5n2kfra8p0\\localcache\\local-packages\\python310\\site-packages (from gensim) (1.10.1)\n",
      "Requirement already satisfied: smart-open>=1.8.1 in c:\\users\\user\\appdata\\local\\packages\\pythonsoftwarefoundation.python.3.10_qbz5n2kfra8p0\\localcache\\local-packages\\python310\\site-packages (from gensim) (6.4.0)\n",
      "Requirement already satisfied: numpy>=1.18.5 in c:\\users\\user\\appdata\\local\\packages\\pythonsoftwarefoundation.python.3.10_qbz5n2kfra8p0\\localcache\\local-packages\\python310\\site-packages (from gensim) (1.24.2)\n",
      "Requirement already satisfied: joblib in c:\\users\\user\\appdata\\local\\packages\\pythonsoftwarefoundation.python.3.10_qbz5n2kfra8p0\\localcache\\local-packages\\python310\\site-packages (from nltk) (1.3.2)\n",
      "Requirement already satisfied: regex>=2021.8.3 in c:\\users\\user\\appdata\\local\\packages\\pythonsoftwarefoundation.python.3.10_qbz5n2kfra8p0\\localcache\\local-packages\\python310\\site-packages (from nltk) (2023.10.3)\n",
      "Requirement already satisfied: click in c:\\users\\user\\appdata\\local\\packages\\pythonsoftwarefoundation.python.3.10_qbz5n2kfra8p0\\localcache\\local-packages\\python310\\site-packages (from nltk) (8.1.3)\n",
      "Requirement already satisfied: tqdm in c:\\users\\user\\appdata\\local\\packages\\pythonsoftwarefoundation.python.3.10_qbz5n2kfra8p0\\localcache\\local-packages\\python310\\site-packages (from nltk) (4.66.1)\n",
      "Requirement already satisfied: requests<3.0.0,>=2.13.0 in c:\\users\\user\\appdata\\local\\packages\\pythonsoftwarefoundation.python.3.10_qbz5n2kfra8p0\\localcache\\local-packages\\python310\\site-packages (from spacy) (2.28.2)\n",
      "Requirement already satisfied: catalogue<2.1.0,>=2.0.6 in c:\\users\\user\\appdata\\local\\packages\\pythonsoftwarefoundation.python.3.10_qbz5n2kfra8p0\\localcache\\local-packages\\python310\\site-packages (from spacy) (2.0.10)\n",
      "Requirement already satisfied: spacy-legacy<3.1.0,>=3.0.11 in c:\\users\\user\\appdata\\local\\packages\\pythonsoftwarefoundation.python.3.10_qbz5n2kfra8p0\\localcache\\local-packages\\python310\\site-packages (from spacy) (3.0.12)\n",
      "Requirement already satisfied: jinja2 in c:\\users\\user\\appdata\\local\\packages\\pythonsoftwarefoundation.python.3.10_qbz5n2kfra8p0\\localcache\\local-packages\\python310\\site-packages (from spacy) (3.1.2)\n",
      "Requirement already satisfied: pathy>=0.10.0 in c:\\users\\user\\appdata\\local\\packages\\pythonsoftwarefoundation.python.3.10_qbz5n2kfra8p0\\localcache\\local-packages\\python310\\site-packages (from spacy) (0.10.2)\n",
      "Requirement already satisfied: srsly<3.0.0,>=2.4.3 in c:\\users\\user\\appdata\\local\\packages\\pythonsoftwarefoundation.python.3.10_qbz5n2kfra8p0\\localcache\\local-packages\\python310\\site-packages (from spacy) (2.4.8)\n",
      "Requirement already satisfied: murmurhash<1.1.0,>=0.28.0 in c:\\users\\user\\appdata\\local\\packages\\pythonsoftwarefoundation.python.3.10_qbz5n2kfra8p0\\localcache\\local-packages\\python310\\site-packages (from spacy) (1.0.10)\n",
      "Requirement already satisfied: typer<0.10.0,>=0.3.0 in c:\\users\\user\\appdata\\local\\packages\\pythonsoftwarefoundation.python.3.10_qbz5n2kfra8p0\\localcache\\local-packages\\python310\\site-packages (from spacy) (0.9.0)\n",
      "Requirement already satisfied: setuptools in c:\\program files\\windowsapps\\pythonsoftwarefoundation.python.3.10_3.10.3056.0_x64__qbz5n2kfra8p0\\lib\\site-packages (from spacy) (65.5.0)\n",
      "Requirement already satisfied: spacy-loggers<2.0.0,>=1.0.0 in c:\\users\\user\\appdata\\local\\packages\\pythonsoftwarefoundation.python.3.10_qbz5n2kfra8p0\\localcache\\local-packages\\python310\\site-packages (from spacy) (1.0.5)\n",
      "Requirement already satisfied: wasabi<1.2.0,>=0.9.1 in c:\\users\\user\\appdata\\local\\packages\\pythonsoftwarefoundation.python.3.10_qbz5n2kfra8p0\\localcache\\local-packages\\python310\\site-packages (from spacy) (1.1.2)\n",
      "Requirement already satisfied: thinc<8.3.0,>=8.1.8 in c:\\users\\user\\appdata\\local\\packages\\pythonsoftwarefoundation.python.3.10_qbz5n2kfra8p0\\localcache\\local-packages\\python310\\site-packages (from spacy) (8.2.1)\n",
      "Requirement already satisfied: cymem<2.1.0,>=2.0.2 in c:\\users\\user\\appdata\\local\\packages\\pythonsoftwarefoundation.python.3.10_qbz5n2kfra8p0\\localcache\\local-packages\\python310\\site-packages (from spacy) (2.0.8)\n",
      "Requirement already satisfied: pydantic!=1.8,!=1.8.1,<3.0.0,>=1.7.4 in c:\\users\\user\\appdata\\local\\packages\\pythonsoftwarefoundation.python.3.10_qbz5n2kfra8p0\\localcache\\local-packages\\python310\\site-packages (from spacy) (2.4.2)\n",
      "Requirement already satisfied: weasel<0.4.0,>=0.1.0 in c:\\users\\user\\appdata\\local\\packages\\pythonsoftwarefoundation.python.3.10_qbz5n2kfra8p0\\localcache\\local-packages\\python310\\site-packages (from spacy) (0.3.2)\n",
      "Requirement already satisfied: packaging>=20.0 in c:\\users\\user\\appdata\\local\\packages\\pythonsoftwarefoundation.python.3.10_qbz5n2kfra8p0\\localcache\\local-packages\\python310\\site-packages (from spacy) (23.0)\n",
      "Requirement already satisfied: langcodes<4.0.0,>=3.2.0 in c:\\users\\user\\appdata\\local\\packages\\pythonsoftwarefoundation.python.3.10_qbz5n2kfra8p0\\localcache\\local-packages\\python310\\site-packages (from spacy) (3.3.0)\n",
      "Requirement already satisfied: preshed<3.1.0,>=3.0.2 in c:\\users\\user\\appdata\\local\\packages\\pythonsoftwarefoundation.python.3.10_qbz5n2kfra8p0\\localcache\\local-packages\\python310\\site-packages (from spacy) (3.0.9)\n",
      "Requirement already satisfied: annotated-types>=0.4.0 in c:\\users\\user\\appdata\\local\\packages\\pythonsoftwarefoundation.python.3.10_qbz5n2kfra8p0\\localcache\\local-packages\\python310\\site-packages (from pydantic!=1.8,!=1.8.1,<3.0.0,>=1.7.4->spacy) (0.6.0)\n",
      "Requirement already satisfied: pydantic-core==2.10.1 in c:\\users\\user\\appdata\\local\\packages\\pythonsoftwarefoundation.python.3.10_qbz5n2kfra8p0\\localcache\\local-packages\\python310\\site-packages (from pydantic!=1.8,!=1.8.1,<3.0.0,>=1.7.4->spacy) (2.10.1)\n",
      "Requirement already satisfied: typing-extensions>=4.6.1 in c:\\users\\user\\appdata\\local\\packages\\pythonsoftwarefoundation.python.3.10_qbz5n2kfra8p0\\localcache\\local-packages\\python310\\site-packages (from pydantic!=1.8,!=1.8.1,<3.0.0,>=1.7.4->spacy) (4.8.0)\n",
      "Requirement already satisfied: charset-normalizer<4,>=2 in c:\\users\\user\\appdata\\local\\packages\\pythonsoftwarefoundation.python.3.10_qbz5n2kfra8p0\\localcache\\local-packages\\python310\\site-packages (from requests<3.0.0,>=2.13.0->spacy) (3.1.0)\n",
      "Requirement already satisfied: certifi>=2017.4.17 in c:\\users\\user\\appdata\\local\\packages\\pythonsoftwarefoundation.python.3.10_qbz5n2kfra8p0\\localcache\\local-packages\\python310\\site-packages (from requests<3.0.0,>=2.13.0->spacy) (2022.12.7)\n",
      "Requirement already satisfied: urllib3<1.27,>=1.21.1 in c:\\users\\user\\appdata\\local\\packages\\pythonsoftwarefoundation.python.3.10_qbz5n2kfra8p0\\localcache\\local-packages\\python310\\site-packages (from requests<3.0.0,>=2.13.0->spacy) (1.26.15)\n",
      "Requirement already satisfied: idna<4,>=2.5 in c:\\users\\user\\appdata\\local\\packages\\pythonsoftwarefoundation.python.3.10_qbz5n2kfra8p0\\localcache\\local-packages\\python310\\site-packages (from requests<3.0.0,>=2.13.0->spacy) (3.4)\n",
      "Requirement already satisfied: blis<0.8.0,>=0.7.8 in c:\\users\\user\\appdata\\local\\packages\\pythonsoftwarefoundation.python.3.10_qbz5n2kfra8p0\\localcache\\local-packages\\python310\\site-packages (from thinc<8.3.0,>=8.1.8->spacy) (0.7.11)\n",
      "Requirement already satisfied: confection<1.0.0,>=0.0.1 in c:\\users\\user\\appdata\\local\\packages\\pythonsoftwarefoundation.python.3.10_qbz5n2kfra8p0\\localcache\\local-packages\\python310\\site-packages (from thinc<8.3.0,>=8.1.8->spacy) (0.1.3)\n",
      "Requirement already satisfied: colorama in c:\\users\\user\\appdata\\local\\packages\\pythonsoftwarefoundation.python.3.10_qbz5n2kfra8p0\\localcache\\local-packages\\python310\\site-packages (from tqdm->nltk) (0.4.6)\n",
      "Requirement already satisfied: cloudpathlib<0.16.0,>=0.7.0 in c:\\users\\user\\appdata\\local\\packages\\pythonsoftwarefoundation.python.3.10_qbz5n2kfra8p0\\localcache\\local-packages\\python310\\site-packages (from weasel<0.4.0,>=0.1.0->spacy) (0.15.1)\n",
      "Requirement already satisfied: MarkupSafe>=2.0 in c:\\users\\user\\appdata\\local\\packages\\pythonsoftwarefoundation.python.3.10_qbz5n2kfra8p0\\localcache\\local-packages\\python310\\site-packages (from jinja2->spacy) (2.1.2)\n",
      "Note: you may need to restart the kernel to use updated packages.\n"
     ]
    },
    {
     "name": "stderr",
     "output_type": "stream",
     "text": [
      "\n",
      "[notice] A new release of pip is available: 23.0.1 -> 23.3.1\n",
      "[notice] To update, run: C:\\Users\\user\\AppData\\Local\\Microsoft\\WindowsApps\\PythonSoftwareFoundation.Python.3.10_qbz5n2kfra8p0\\python.exe -m pip install --upgrade pip\n"
     ]
    }
   ],
   "source": [
    "%pip install gensim nltk spacy"
   ]
  },
  {
   "cell_type": "code",
   "execution_count": 2,
   "metadata": {},
   "outputs": [],
   "source": [
    "import gensim.downloader\n",
    "import nltk\n",
    "from nltk import word_tokenize\n",
    "from nltk.corpus import stopwords\n",
    "import spacy\n",
    "nlp=spacy.load('ru_core_news_sm')\n",
    "from nltk.corpus import wordnet"
   ]
  },
  {
   "cell_type": "code",
   "execution_count": 3,
   "metadata": {},
   "outputs": [
    {
     "data": {
      "text/plain": [
       "['fasttext-wiki-news-subwords-300',\n",
       " 'conceptnet-numberbatch-17-06-300',\n",
       " 'word2vec-ruscorpora-300',\n",
       " 'word2vec-google-news-300',\n",
       " 'glove-wiki-gigaword-50',\n",
       " 'glove-wiki-gigaword-100',\n",
       " 'glove-wiki-gigaword-200',\n",
       " 'glove-wiki-gigaword-300',\n",
       " 'glove-twitter-25',\n",
       " 'glove-twitter-50',\n",
       " 'glove-twitter-100',\n",
       " 'glove-twitter-200',\n",
       " '__testing_word2vec-matrix-synopsis']"
      ]
     },
     "execution_count": 3,
     "metadata": {},
     "output_type": "execute_result"
    }
   ],
   "source": [
    "list(gensim.downloader.info()['models'].keys())"
   ]
  },
  {
   "cell_type": "code",
   "execution_count": 4,
   "metadata": {},
   "outputs": [],
   "source": [
    "with open(\"5. Мцыри.txt\") as file:\n",
    "    text=file.read()"
   ]
  },
  {
   "cell_type": "code",
   "execution_count": 5,
   "metadata": {},
   "outputs": [],
   "source": [
    "doc=nlp(text)"
   ]
  },
  {
   "cell_type": "code",
   "execution_count": 6,
   "metadata": {},
   "outputs": [
    {
     "data": {
      "text/plain": [
       "['1',\n",
       " 'Немного',\n",
       " 'лет',\n",
       " 'тому',\n",
       " 'назад',\n",
       " ',',\n",
       " 'Там',\n",
       " ',',\n",
       " 'где',\n",
       " 'сливаяся',\n",
       " 'шумят',\n",
       " 'Обнявшись',\n",
       " ',',\n",
       " 'будто',\n",
       " 'две',\n",
       " 'сестры',\n",
       " ',',\n",
       " 'Струи',\n",
       " 'Арагвы',\n",
       " 'и',\n",
       " 'Куры',\n",
       " ',',\n",
       " 'Был',\n",
       " 'монастырь',\n",
       " '.',\n",
       " 'Из-за',\n",
       " 'горы',\n",
       " 'И',\n",
       " 'нынче',\n",
       " 'видит',\n",
       " 'пешеход',\n",
       " 'Столбы',\n",
       " 'обрушенных',\n",
       " 'ворот',\n",
       " ',',\n",
       " 'И',\n",
       " 'башни',\n",
       " ',',\n",
       " 'и',\n",
       " 'церковный',\n",
       " 'свод',\n",
       " ';',\n",
       " 'Но',\n",
       " 'не',\n",
       " 'курится',\n",
       " 'уж',\n",
       " 'под',\n",
       " 'ним',\n",
       " 'Кадильниц',\n",
       " 'благовонный',\n",
       " 'дым',\n",
       " ',',\n",
       " 'Не',\n",
       " 'слышно',\n",
       " 'пенье',\n",
       " 'в',\n",
       " 'поздний',\n",
       " 'час',\n",
       " 'Молящих',\n",
       " 'иноков',\n",
       " 'за',\n",
       " 'нас',\n",
       " '.',\n",
       " 'Теперь',\n",
       " 'один',\n",
       " 'старик',\n",
       " 'седой',\n",
       " ',',\n",
       " 'Развалин',\n",
       " 'страж',\n",
       " 'полуживой',\n",
       " ',',\n",
       " 'Людьми',\n",
       " 'и',\n",
       " 'смертию',\n",
       " 'забыт',\n",
       " ',',\n",
       " 'Сметает',\n",
       " 'пыль',\n",
       " 'с',\n",
       " 'могильных',\n",
       " 'плит',\n",
       " ',',\n",
       " 'Которых',\n",
       " 'надпись',\n",
       " 'говорит',\n",
       " 'О',\n",
       " 'славе',\n",
       " 'прошлой',\n",
       " '–',\n",
       " 'и',\n",
       " 'о',\n",
       " 'том',\n",
       " ',',\n",
       " 'Как',\n",
       " 'удручен',\n",
       " 'своим',\n",
       " 'венцом',\n",
       " ',',\n",
       " 'Такой-то',\n",
       " 'царь',\n",
       " ',',\n",
       " 'в',\n",
       " 'такой-то',\n",
       " 'год',\n",
       " ',',\n",
       " 'Вручал',\n",
       " 'России',\n",
       " 'свой',\n",
       " 'народ',\n",
       " '.',\n",
       " 'И',\n",
       " 'божья',\n",
       " 'благодать',\n",
       " 'сошла',\n",
       " 'На',\n",
       " 'Грузию',\n",
       " '!',\n",
       " '–',\n",
       " 'она',\n",
       " 'цвела',\n",
       " 'С',\n",
       " 'тех',\n",
       " 'пор',\n",
       " 'в',\n",
       " 'тени',\n",
       " 'своих',\n",
       " 'садов',\n",
       " ',',\n",
       " 'Не',\n",
       " 'опасаяся',\n",
       " 'врагов',\n",
       " ',',\n",
       " 'За',\n",
       " 'гранью',\n",
       " 'дружеских',\n",
       " 'штыков',\n",
       " '.',\n",
       " '2',\n",
       " 'Однажды',\n",
       " 'русский',\n",
       " 'генерал',\n",
       " 'Из',\n",
       " 'гор',\n",
       " 'к',\n",
       " 'Тифлису',\n",
       " 'проезжал',\n",
       " ';',\n",
       " 'Ребенка',\n",
       " 'пленного',\n",
       " 'он',\n",
       " 'вез',\n",
       " '.',\n",
       " 'Тот',\n",
       " 'занемог',\n",
       " ',',\n",
       " 'не',\n",
       " 'перенес',\n",
       " 'Трудов',\n",
       " 'далекого',\n",
       " 'пути',\n",
       " '.',\n",
       " 'Он',\n",
       " 'был',\n",
       " ',',\n",
       " 'казалось',\n",
       " ',',\n",
       " 'лет',\n",
       " 'шести',\n",
       " ';',\n",
       " 'Как',\n",
       " 'серна',\n",
       " 'гор',\n",
       " ',',\n",
       " 'пуглив',\n",
       " 'и',\n",
       " 'дик',\n",
       " 'И',\n",
       " 'слаб',\n",
       " 'и',\n",
       " 'гибок',\n",
       " ',',\n",
       " 'как',\n",
       " 'тростник',\n",
       " '.',\n",
       " 'Но',\n",
       " 'в',\n",
       " 'нем',\n",
       " 'мучительный',\n",
       " 'недуг',\n",
       " 'Развил',\n",
       " 'тогда',\n",
       " 'могучий',\n",
       " 'дух',\n",
       " 'Его',\n",
       " 'отцов',\n",
       " '.',\n",
       " 'Без',\n",
       " 'жалоб',\n",
       " 'он',\n",
       " 'Томился',\n",
       " '–',\n",
       " 'даже',\n",
       " 'слабый',\n",
       " 'стон',\n",
       " 'Из',\n",
       " 'детских',\n",
       " 'губ',\n",
       " 'не',\n",
       " 'вылетал',\n",
       " ',',\n",
       " 'Он',\n",
       " 'знаком',\n",
       " 'пищу',\n",
       " 'отвергал',\n",
       " ',',\n",
       " 'И',\n",
       " 'тихо',\n",
       " ',',\n",
       " 'гордо',\n",
       " 'умирал',\n",
       " '.',\n",
       " 'Из',\n",
       " 'жалости',\n",
       " 'один',\n",
       " 'монах',\n",
       " 'Больного',\n",
       " 'призрел',\n",
       " ',',\n",
       " 'и',\n",
       " 'в',\n",
       " 'стенах',\n",
       " 'Хранительных',\n",
       " 'остался',\n",
       " 'он',\n",
       " 'Искусством',\n",
       " 'дружеским',\n",
       " 'спасен',\n",
       " '.',\n",
       " 'Но',\n",
       " ',',\n",
       " 'чужд',\n",
       " 'ребяческих',\n",
       " 'утех',\n",
       " ',',\n",
       " 'Сначала',\n",
       " 'бегал',\n",
       " 'он',\n",
       " 'от',\n",
       " 'всех',\n",
       " ',',\n",
       " 'Бродил',\n",
       " 'безмолвен',\n",
       " ',',\n",
       " 'одинок',\n",
       " ',',\n",
       " 'Смотрел',\n",
       " 'вздыхая',\n",
       " 'на',\n",
       " 'восток',\n",
       " ',',\n",
       " 'Томим',\n",
       " 'неясною',\n",
       " 'тоской',\n",
       " 'По',\n",
       " 'стороне',\n",
       " 'своей',\n",
       " 'родной',\n",
       " '.',\n",
       " 'Но',\n",
       " 'после',\n",
       " 'к',\n",
       " 'плену',\n",
       " 'он',\n",
       " 'привык',\n",
       " ',',\n",
       " 'Стал',\n",
       " 'понимать',\n",
       " 'чужой',\n",
       " 'язык',\n",
       " ',',\n",
       " 'Был',\n",
       " 'окрещен',\n",
       " 'святым',\n",
       " 'отцом',\n",
       " ',',\n",
       " 'И',\n",
       " ',',\n",
       " 'с',\n",
       " 'шумным',\n",
       " 'светом',\n",
       " 'незнаком',\n",
       " ',',\n",
       " 'Уже',\n",
       " 'хотел',\n",
       " 'во',\n",
       " 'цвете',\n",
       " 'лет',\n",
       " 'Изречь',\n",
       " 'монашеский',\n",
       " 'обет',\n",
       " ',',\n",
       " 'Как',\n",
       " 'вдруг',\n",
       " 'однажды',\n",
       " 'он',\n",
       " 'исчез',\n",
       " 'Осенней',\n",
       " 'ночью',\n",
       " '.',\n",
       " 'Темный',\n",
       " 'лес',\n",
       " 'Тянулся',\n",
       " 'по',\n",
       " 'горам',\n",
       " 'кругом',\n",
       " '.',\n",
       " 'Три',\n",
       " 'дня',\n",
       " 'все',\n",
       " 'поиски',\n",
       " 'по',\n",
       " 'нем',\n",
       " 'Напрасны',\n",
       " 'были',\n",
       " ',',\n",
       " 'но',\n",
       " 'потом',\n",
       " 'Его',\n",
       " 'в',\n",
       " 'степи',\n",
       " 'без',\n",
       " 'чувств',\n",
       " 'нашли',\n",
       " 'И',\n",
       " 'вновь',\n",
       " 'в',\n",
       " 'обитель',\n",
       " 'принесли',\n",
       " ';',\n",
       " 'Он',\n",
       " 'страшно',\n",
       " 'бледен',\n",
       " 'был',\n",
       " 'и',\n",
       " 'худ',\n",
       " 'И',\n",
       " 'слаб',\n",
       " ',',\n",
       " 'как',\n",
       " 'будто',\n",
       " 'долгий',\n",
       " 'труд',\n",
       " ',',\n",
       " 'Болезнь',\n",
       " 'иль',\n",
       " 'голод',\n",
       " 'испытал',\n",
       " '.',\n",
       " 'Он',\n",
       " 'на',\n",
       " 'допрос',\n",
       " 'не',\n",
       " 'отвечал',\n",
       " ',',\n",
       " 'И',\n",
       " 'с',\n",
       " 'каждым',\n",
       " 'днем',\n",
       " 'приметно',\n",
       " 'вял',\n",
       " ';',\n",
       " 'И',\n",
       " 'близок',\n",
       " 'стал',\n",
       " 'его',\n",
       " 'конец',\n",
       " '.',\n",
       " 'Тогда',\n",
       " 'пришел',\n",
       " 'к',\n",
       " 'нему',\n",
       " 'чернец',\n",
       " 'С',\n",
       " 'увещеваньем',\n",
       " 'и',\n",
       " 'мольбой',\n",
       " ';',\n",
       " 'И',\n",
       " ',',\n",
       " 'гордо',\n",
       " 'выслушав',\n",
       " ',',\n",
       " 'больной',\n",
       " 'Привстал',\n",
       " ',',\n",
       " 'собрав',\n",
       " 'остаток',\n",
       " 'сил',\n",
       " ',',\n",
       " 'И',\n",
       " 'долго',\n",
       " 'так',\n",
       " 'он',\n",
       " 'говорил',\n",
       " ':',\n",
       " '3',\n",
       " '«',\n",
       " 'Ты',\n",
       " 'слушать',\n",
       " 'исповедь',\n",
       " 'мою',\n",
       " 'Сюда',\n",
       " 'пришел',\n",
       " ',',\n",
       " 'благодарю',\n",
       " '.',\n",
       " 'Всё',\n",
       " 'лучше',\n",
       " 'перед',\n",
       " 'кем-нибудь',\n",
       " 'Словами',\n",
       " 'облегчить',\n",
       " 'мне',\n",
       " 'грудь',\n",
       " ';',\n",
       " 'Но',\n",
       " 'людям',\n",
       " 'я',\n",
       " 'не',\n",
       " 'делал',\n",
       " 'зла',\n",
       " ',',\n",
       " 'И',\n",
       " 'потому',\n",
       " 'мои',\n",
       " 'дела',\n",
       " 'Не',\n",
       " 'много',\n",
       " 'пользы',\n",
       " 'вам',\n",
       " 'узнать',\n",
       " ';',\n",
       " 'А',\n",
       " 'душу',\n",
       " 'можно',\n",
       " 'ль',\n",
       " 'рассказать',\n",
       " '?',\n",
       " 'Я',\n",
       " 'мало',\n",
       " 'жил',\n",
       " ',',\n",
       " 'и',\n",
       " 'жил',\n",
       " 'в',\n",
       " 'плену',\n",
       " '.',\n",
       " 'Таких',\n",
       " 'две',\n",
       " 'жизни',\n",
       " 'за',\n",
       " 'одну',\n",
       " ',',\n",
       " 'Но',\n",
       " 'только',\n",
       " 'полную',\n",
       " 'тревог',\n",
       " ',',\n",
       " 'Я',\n",
       " 'променял',\n",
       " 'бы',\n",
       " ',',\n",
       " 'если',\n",
       " 'б',\n",
       " 'мог',\n",
       " '.',\n",
       " 'Я',\n",
       " 'знал',\n",
       " 'одной',\n",
       " 'лишь',\n",
       " 'думы',\n",
       " 'власть',\n",
       " ',',\n",
       " 'Одну',\n",
       " '–',\n",
       " 'но',\n",
       " 'пламенную',\n",
       " 'страсть',\n",
       " ':',\n",
       " 'Она',\n",
       " ',',\n",
       " 'как',\n",
       " 'червь',\n",
       " ',',\n",
       " 'во',\n",
       " 'мне',\n",
       " 'жила',\n",
       " ',',\n",
       " 'Изгрызла',\n",
       " 'душу',\n",
       " 'и',\n",
       " 'сожгла',\n",
       " '.',\n",
       " 'Она',\n",
       " 'мечты',\n",
       " 'мои',\n",
       " 'звала',\n",
       " 'От',\n",
       " 'келий',\n",
       " 'душных',\n",
       " 'и',\n",
       " 'молитв',\n",
       " 'В',\n",
       " 'тот',\n",
       " 'чудный',\n",
       " 'мир',\n",
       " 'тревог',\n",
       " 'и',\n",
       " 'битв',\n",
       " ',',\n",
       " 'Где',\n",
       " 'в',\n",
       " 'тучах',\n",
       " 'прячутся',\n",
       " 'скалы',\n",
       " ',',\n",
       " 'Где',\n",
       " 'люди',\n",
       " 'вольны',\n",
       " ',',\n",
       " 'как',\n",
       " 'орлы',\n",
       " '.',\n",
       " 'Я',\n",
       " 'эту',\n",
       " 'страсть',\n",
       " 'во',\n",
       " 'тьме',\n",
       " 'ночной',\n",
       " 'Вскормил',\n",
       " 'слезами',\n",
       " 'и',\n",
       " 'тоской',\n",
       " ';',\n",
       " 'Ее',\n",
       " 'пред',\n",
       " 'небом',\n",
       " 'и',\n",
       " 'землей',\n",
       " 'Я',\n",
       " 'ныне',\n",
       " 'громко',\n",
       " 'признаю',\n",
       " 'И',\n",
       " 'о',\n",
       " 'прощеньи',\n",
       " 'не',\n",
       " 'молю',\n",
       " '.',\n",
       " '4',\n",
       " '«',\n",
       " 'Старик',\n",
       " '!',\n",
       " 'я',\n",
       " 'слышал',\n",
       " 'много',\n",
       " 'раз',\n",
       " ',',\n",
       " 'Что',\n",
       " 'ты',\n",
       " 'меня',\n",
       " 'от',\n",
       " 'смерти',\n",
       " 'спас',\n",
       " '—',\n",
       " 'Зачем',\n",
       " '?',\n",
       " '…',\n",
       " 'угрюм',\n",
       " 'и',\n",
       " 'одинок',\n",
       " ',',\n",
       " 'Грозой',\n",
       " 'оторванный',\n",
       " 'листок',\n",
       " ',',\n",
       " 'Я',\n",
       " 'вырос',\n",
       " 'в',\n",
       " 'сумрачных',\n",
       " 'стенах',\n",
       " ',',\n",
       " 'Душой',\n",
       " 'дитя',\n",
       " ',',\n",
       " 'судьбой',\n",
       " 'монах',\n",
       " '.',\n",
       " 'Я',\n",
       " 'никому',\n",
       " 'не',\n",
       " 'мог',\n",
       " 'сказать',\n",
       " 'Священных',\n",
       " 'слов',\n",
       " '–',\n",
       " '«',\n",
       " 'отец',\n",
       " '»',\n",
       " 'и',\n",
       " '«',\n",
       " 'мать',\n",
       " '»',\n",
       " '.',\n",
       " 'Конечно',\n",
       " ',',\n",
       " 'ты',\n",
       " 'хотел',\n",
       " ',',\n",
       " 'старик',\n",
       " ',',\n",
       " 'Чтоб',\n",
       " 'я',\n",
       " 'в',\n",
       " 'обители',\n",
       " 'отвык',\n",
       " 'От',\n",
       " 'этих',\n",
       " 'сладостных',\n",
       " 'имен',\n",
       " '.',\n",
       " 'Напрасно',\n",
       " ':',\n",
       " 'звук',\n",
       " 'их',\n",
       " 'был',\n",
       " 'рожден',\n",
       " 'Со',\n",
       " 'мной',\n",
       " '.',\n",
       " 'Я',\n",
       " 'видел',\n",
       " 'у',\n",
       " 'других',\n",
       " 'Отчизну',\n",
       " ',',\n",
       " 'дом',\n",
       " ',',\n",
       " 'друзей',\n",
       " ',',\n",
       " 'родных',\n",
       " ',',\n",
       " 'А',\n",
       " 'у',\n",
       " 'себя',\n",
       " 'не',\n",
       " 'находил',\n",
       " 'Не',\n",
       " 'только',\n",
       " 'милых',\n",
       " 'душ',\n",
       " '–',\n",
       " 'могил',\n",
       " '!',\n",
       " 'Тогда',\n",
       " ',',\n",
       " 'пустых',\n",
       " 'не',\n",
       " 'тратя',\n",
       " 'слез',\n",
       " ',',\n",
       " 'В',\n",
       " 'душе',\n",
       " 'я',\n",
       " 'клятву',\n",
       " 'произнес',\n",
       " ':',\n",
       " 'Хотя',\n",
       " 'на',\n",
       " 'миг',\n",
       " 'когда-нибудь',\n",
       " 'Мою',\n",
       " 'пылающую',\n",
       " 'грудь',\n",
       " 'Прижать',\n",
       " 'с',\n",
       " 'тоской',\n",
       " 'к',\n",
       " 'груди',\n",
       " 'другой',\n",
       " ',',\n",
       " 'Хоть',\n",
       " 'незнакомой',\n",
       " ',',\n",
       " 'но',\n",
       " 'родной',\n",
       " '.',\n",
       " 'Увы',\n",
       " ',',\n",
       " 'теперь',\n",
       " 'мечтанья',\n",
       " 'те',\n",
       " 'Погибли',\n",
       " 'в',\n",
       " 'полной',\n",
       " 'красоте',\n",
       " ',',\n",
       " 'И',\n",
       " 'я',\n",
       " ',',\n",
       " 'как',\n",
       " 'жил',\n",
       " ',',\n",
       " 'в',\n",
       " 'земле',\n",
       " 'чужой',\n",
       " 'Умру',\n",
       " 'рабом',\n",
       " 'и',\n",
       " 'сиротой',\n",
       " '.',\n",
       " '5',\n",
       " '«',\n",
       " 'Меня',\n",
       " 'могила',\n",
       " 'не',\n",
       " 'страшит',\n",
       " ':',\n",
       " 'Там',\n",
       " ',',\n",
       " 'говорят',\n",
       " ',',\n",
       " 'страданье',\n",
       " 'спит',\n",
       " 'В',\n",
       " 'холодной',\n",
       " ',',\n",
       " 'вечной',\n",
       " 'тишине',\n",
       " ';',\n",
       " 'Но',\n",
       " 'с',\n",
       " 'жизнью',\n",
       " 'жаль',\n",
       " 'расстаться',\n",
       " 'мне',\n",
       " '.',\n",
       " 'Я',\n",
       " 'молод',\n",
       " ',',\n",
       " 'молод…',\n",
       " 'Знал',\n",
       " 'ли',\n",
       " 'ты',\n",
       " 'Разгульной',\n",
       " 'юности',\n",
       " 'мечты',\n",
       " '?',\n",
       " 'Или',\n",
       " 'не',\n",
       " 'знал',\n",
       " ',',\n",
       " 'или',\n",
       " 'забыл',\n",
       " ',',\n",
       " 'Как',\n",
       " 'ненавидел',\n",
       " 'и',\n",
       " 'любил',\n",
       " ';',\n",
       " 'Как',\n",
       " 'сердце',\n",
       " 'билося',\n",
       " 'живей',\n",
       " 'При',\n",
       " 'виде',\n",
       " 'солнца',\n",
       " 'и',\n",
       " 'полей',\n",
       " 'С',\n",
       " 'высокой',\n",
       " 'башни',\n",
       " 'угловой',\n",
       " ',',\n",
       " 'Где',\n",
       " 'воздух',\n",
       " 'свеж',\n",
       " 'и',\n",
       " 'где',\n",
       " 'порой',\n",
       " 'В',\n",
       " 'глубокой',\n",
       " 'скважине',\n",
       " 'стены',\n",
       " ',',\n",
       " 'Дитя',\n",
       " 'неведомой',\n",
       " 'страны',\n",
       " ',',\n",
       " 'Прижавшись',\n",
       " ',',\n",
       " 'голубь',\n",
       " 'молодой',\n",
       " 'Сидит',\n",
       " ',',\n",
       " 'испуганный',\n",
       " 'грозой',\n",
       " '?',\n",
       " 'Пускай',\n",
       " 'теперь',\n",
       " 'прекрасный',\n",
       " 'свет',\n",
       " 'Тебе',\n",
       " 'постыл',\n",
       " ':',\n",
       " 'ты',\n",
       " 'слаб',\n",
       " ',',\n",
       " 'ты',\n",
       " 'сед',\n",
       " ',',\n",
       " 'И',\n",
       " 'от',\n",
       " 'желаний',\n",
       " 'ты',\n",
       " 'отвык',\n",
       " '.',\n",
       " 'Что',\n",
       " 'за',\n",
       " 'нужда',\n",
       " '?',\n",
       " 'Ты',\n",
       " 'жил',\n",
       " ',',\n",
       " 'старик',\n",
       " '!',\n",
       " 'Тебе',\n",
       " 'есть',\n",
       " 'в',\n",
       " 'мире',\n",
       " 'что',\n",
       " 'забыть',\n",
       " ',',\n",
       " 'Ты',\n",
       " 'жил',\n",
       " ',',\n",
       " '–',\n",
       " 'я',\n",
       " 'также',\n",
       " 'мог',\n",
       " 'бы',\n",
       " 'жить',\n",
       " '!',\n",
       " '6',\n",
       " '«',\n",
       " 'Ты',\n",
       " 'хочешь',\n",
       " 'знать',\n",
       " ',',\n",
       " 'что',\n",
       " 'видел',\n",
       " 'я',\n",
       " 'На',\n",
       " 'воле',\n",
       " '?',\n",
       " '–',\n",
       " 'Пышные',\n",
       " 'поля',\n",
       " ',',\n",
       " 'Холмы',\n",
       " ',',\n",
       " 'покрытые',\n",
       " 'венцом',\n",
       " 'Дерев',\n",
       " ',',\n",
       " 'разросшихся',\n",
       " 'кругом',\n",
       " ',',\n",
       " 'Шумящих',\n",
       " 'свежею',\n",
       " 'толпой',\n",
       " ',',\n",
       " 'Как',\n",
       " 'братья',\n",
       " 'в',\n",
       " 'пляске',\n",
       " 'круговой',\n",
       " '.',\n",
       " 'Я',\n",
       " 'видел',\n",
       " 'груды',\n",
       " 'темных',\n",
       " 'скал',\n",
       " ',',\n",
       " 'Когда',\n",
       " 'поток',\n",
       " 'их',\n",
       " 'разделял',\n",
       " ',',\n",
       " 'И',\n",
       " 'думы',\n",
       " 'их',\n",
       " 'я',\n",
       " 'угадал',\n",
       " ':',\n",
       " 'Мне',\n",
       " 'было',\n",
       " 'свыше',\n",
       " 'то',\n",
       " 'дано',\n",
       " '!',\n",
       " 'Простерты',\n",
       " 'в',\n",
       " 'воздухе',\n",
       " 'давно',\n",
       " 'Объятья',\n",
       " 'каменные',\n",
       " 'их',\n",
       " ',',\n",
       " 'И',\n",
       " 'жаждут',\n",
       " 'встречи',\n",
       " 'каждый',\n",
       " 'миг',\n",
       " ';',\n",
       " 'Но',\n",
       " 'дни',\n",
       " 'бегут',\n",
       " ',',\n",
       " 'бегут',\n",
       " 'года',\n",
       " '—',\n",
       " 'Им',\n",
       " 'не',\n",
       " 'сойтися',\n",
       " 'никогда',\n",
       " '!',\n",
       " 'Я',\n",
       " 'видел',\n",
       " 'горные',\n",
       " 'хребты',\n",
       " ',',\n",
       " 'Причудливые',\n",
       " 'как',\n",
       " 'мечты',\n",
       " ',',\n",
       " 'Когда',\n",
       " 'в',\n",
       " 'час',\n",
       " 'утренней',\n",
       " 'зари',\n",
       " 'Курилися',\n",
       " ',',\n",
       " 'как',\n",
       " 'алтари',\n",
       " ',',\n",
       " 'Их',\n",
       " 'выси',\n",
       " 'в',\n",
       " 'небе',\n",
       " 'голубом',\n",
       " ',',\n",
       " 'И',\n",
       " 'облачко',\n",
       " 'за',\n",
       " 'облачком',\n",
       " ',',\n",
       " 'Покинув',\n",
       " 'тайный',\n",
       " 'свой',\n",
       " 'ночлег',\n",
       " ',',\n",
       " 'К',\n",
       " 'востоку',\n",
       " 'направляло',\n",
       " 'бег',\n",
       " '—',\n",
       " 'Как',\n",
       " 'будто',\n",
       " 'белый',\n",
       " 'караван',\n",
       " 'Залетных',\n",
       " 'птиц',\n",
       " 'из',\n",
       " 'дальних',\n",
       " 'стран',\n",
       " '!',\n",
       " 'В',\n",
       " 'дали',\n",
       " 'я',\n",
       " 'видел',\n",
       " 'сквозь',\n",
       " 'туман',\n",
       " ',',\n",
       " 'В',\n",
       " 'снегах',\n",
       " ',',\n",
       " 'горящих',\n",
       " 'как',\n",
       " ...]"
      ]
     },
     "execution_count": 6,
     "metadata": {},
     "output_type": "execute_result"
    }
   ],
   "source": [
    "tokenized = nltk.word_tokenize(text)\n",
    "tokenized"
   ]
  },
  {
   "cell_type": "code",
   "execution_count": 7,
   "metadata": {},
   "outputs": [
    {
     "data": {
      "text/plain": [
       "['1',\n",
       " '\\n\\n\\t\\t',\n",
       " 'лет',\n",
       " '\\n\\t\\t',\n",
       " 'сливаяся',\n",
       " 'шумят',\n",
       " '\\n\\t\\t',\n",
       " 'Обнявшись',\n",
       " 'две',\n",
       " 'сестры',\n",
       " '\\n\\t\\t',\n",
       " 'Струи',\n",
       " 'Арагвы',\n",
       " 'Куры',\n",
       " '\\n\\t\\t',\n",
       " 'монастырь',\n",
       " 'горы',\n",
       " '\\n\\t\\t',\n",
       " 'видит',\n",
       " 'пешеход',\n",
       " '\\n\\t\\t',\n",
       " 'Столбы',\n",
       " 'обрушенных',\n",
       " 'ворот',\n",
       " '\\n\\t\\t',\n",
       " 'башни',\n",
       " 'церковный',\n",
       " 'свод',\n",
       " '\\n\\t\\t',\n",
       " 'курится',\n",
       " '\\n\\t\\t',\n",
       " 'Кадильниц',\n",
       " 'благовонный',\n",
       " 'дым',\n",
       " '\\n\\t\\t',\n",
       " 'слышно',\n",
       " 'пенье',\n",
       " 'поздний',\n",
       " 'час',\n",
       " '\\n\\t\\t',\n",
       " 'Молящих',\n",
       " 'иноков',\n",
       " '\\n\\t\\t',\n",
       " 'старик',\n",
       " 'седой',\n",
       " '\\n\\t\\t',\n",
       " 'Развалин',\n",
       " 'страж',\n",
       " 'полуживой',\n",
       " '\\n\\t\\t',\n",
       " 'Людьми',\n",
       " 'смертию',\n",
       " 'забыт',\n",
       " '\\n\\t\\t',\n",
       " 'Сметает',\n",
       " 'пыль',\n",
       " 'могильных',\n",
       " 'плит',\n",
       " '\\n\\t\\t',\n",
       " 'надпись',\n",
       " 'говорит',\n",
       " '\\n\\t\\t',\n",
       " 'славе',\n",
       " 'прошлой',\n",
       " '\\n\\t\\t',\n",
       " 'удручен',\n",
       " 'венцом',\n",
       " '\\n\\t\\t',\n",
       " 'царь',\n",
       " 'год',\n",
       " '\\n\\t\\t',\n",
       " 'Вручал',\n",
       " 'России',\n",
       " 'народ',\n",
       " '\\n\\t\\t',\n",
       " 'божья',\n",
       " 'благодать',\n",
       " 'сошла',\n",
       " '\\n\\t\\t',\n",
       " 'Грузию',\n",
       " '\\xa0',\n",
       " 'цвела',\n",
       " '\\n\\t\\t',\n",
       " 'тени',\n",
       " 'садов',\n",
       " '\\n\\t\\t',\n",
       " 'опасаяся',\n",
       " 'врагов',\n",
       " '\\n\\t\\t',\n",
       " 'гранью',\n",
       " 'дружеских',\n",
       " 'штыков',\n",
       " '\\n\\n\\n\\n',\n",
       " '2',\n",
       " '\\n\\n\\t\\t',\n",
       " 'русский',\n",
       " 'генерал',\n",
       " '\\n\\t\\t',\n",
       " 'гор',\n",
       " 'Тифлису',\n",
       " 'проезжал',\n",
       " '\\n\\t\\t',\n",
       " 'Ребенка',\n",
       " 'пленного',\n",
       " 'вез',\n",
       " '\\n\\t\\t',\n",
       " 'занемог',\n",
       " 'перенес',\n",
       " '\\n\\t\\t',\n",
       " 'Трудов',\n",
       " 'далекого',\n",
       " 'пути',\n",
       " '\\n\\t\\t',\n",
       " 'лет',\n",
       " 'шести',\n",
       " '\\n\\t\\t',\n",
       " 'серна',\n",
       " 'гор',\n",
       " 'пуглив',\n",
       " 'дик',\n",
       " '\\n\\t\\t',\n",
       " 'слаб',\n",
       " 'гибок',\n",
       " 'тростник',\n",
       " '\\n\\t\\t',\n",
       " 'мучительный',\n",
       " 'недуг',\n",
       " '\\n\\t\\t',\n",
       " 'Развил',\n",
       " 'могучий',\n",
       " 'дух',\n",
       " '\\n\\t\\t',\n",
       " 'отцов',\n",
       " 'жалоб',\n",
       " '\\n\\t\\t',\n",
       " 'Томился',\n",
       " 'слабый',\n",
       " 'стон',\n",
       " '\\n\\t\\t',\n",
       " 'детских',\n",
       " 'губ',\n",
       " 'вылетал',\n",
       " '\\n\\t\\t',\n",
       " 'знаком',\n",
       " 'пищу',\n",
       " 'отвергал',\n",
       " '\\n\\t\\t',\n",
       " 'тихо',\n",
       " 'гордо',\n",
       " 'умирал',\n",
       " '\\n\\t\\t',\n",
       " 'жалости',\n",
       " 'монах',\n",
       " '\\n\\t\\t',\n",
       " 'Больного',\n",
       " 'призрел',\n",
       " 'стенах',\n",
       " '\\n\\t\\t',\n",
       " 'Хранительных',\n",
       " 'остался',\n",
       " '\\n\\t\\t',\n",
       " 'Искусством',\n",
       " 'дружеским',\n",
       " 'спасен',\n",
       " '\\n\\t\\t',\n",
       " 'чужд',\n",
       " 'ребяческих',\n",
       " 'утех',\n",
       " '\\n\\t\\t',\n",
       " 'бегал',\n",
       " '\\n\\t\\t',\n",
       " 'Бродил',\n",
       " 'безмолвен',\n",
       " 'одинок',\n",
       " '\\n\\t\\t',\n",
       " 'Смотрел',\n",
       " 'вздыхая',\n",
       " 'восток',\n",
       " '\\n\\t\\t',\n",
       " 'Томим',\n",
       " 'неясною',\n",
       " 'тоской',\n",
       " '\\n\\t\\t',\n",
       " 'стороне',\n",
       " 'родной',\n",
       " '\\n\\t\\t',\n",
       " 'плену',\n",
       " 'привык',\n",
       " '\\n\\t\\t',\n",
       " 'понимать',\n",
       " 'чужой',\n",
       " 'язык',\n",
       " '\\n\\t\\t',\n",
       " 'окрещен',\n",
       " 'святым',\n",
       " 'отцом',\n",
       " '\\n\\t\\t',\n",
       " 'шумным',\n",
       " 'светом',\n",
       " 'незнаком',\n",
       " '\\n\\t\\t',\n",
       " 'цвете',\n",
       " 'лет',\n",
       " '\\n\\t\\t',\n",
       " 'Изречь',\n",
       " 'монашеский',\n",
       " 'обет',\n",
       " '\\n\\t\\t',\n",
       " 'исчез',\n",
       " '\\n\\t\\t',\n",
       " 'Осенней',\n",
       " 'ночью',\n",
       " 'Темный',\n",
       " 'лес',\n",
       " '\\n\\t\\t',\n",
       " 'Тянулся',\n",
       " 'горам',\n",
       " 'кругом',\n",
       " '\\n\\t\\t',\n",
       " 'Три',\n",
       " 'дня',\n",
       " 'поиски',\n",
       " '\\n\\t\\t',\n",
       " 'Напрасны',\n",
       " '\\n\\t\\t',\n",
       " 'степи',\n",
       " 'чувств',\n",
       " 'нашли',\n",
       " '\\n\\t\\t',\n",
       " 'обитель',\n",
       " 'принесли',\n",
       " '\\n\\t\\t',\n",
       " 'страшно',\n",
       " 'бледен',\n",
       " 'худ',\n",
       " '\\n\\t\\t',\n",
       " 'слаб',\n",
       " 'долгий',\n",
       " 'труд',\n",
       " '\\n\\t\\t',\n",
       " 'Болезнь',\n",
       " 'голод',\n",
       " 'испытал',\n",
       " '\\n\\t\\t',\n",
       " 'допрос',\n",
       " 'отвечал',\n",
       " '\\n\\t\\t',\n",
       " 'каждым',\n",
       " 'днем',\n",
       " 'приметно',\n",
       " 'вял',\n",
       " '\\n\\t\\t',\n",
       " 'близок',\n",
       " 'конец',\n",
       " '\\n\\t\\t',\n",
       " 'пришел',\n",
       " 'чернец',\n",
       " '\\n\\t\\t',\n",
       " 'увещеваньем',\n",
       " 'мольбой',\n",
       " '\\n\\t\\t',\n",
       " 'гордо',\n",
       " 'выслушав',\n",
       " 'больной',\n",
       " '\\n\\t\\t',\n",
       " 'Привстал',\n",
       " 'собрав',\n",
       " 'остаток',\n",
       " 'сил',\n",
       " '\\n\\t\\t',\n",
       " 'говорил',\n",
       " '\\n\\n\\n\\n',\n",
       " '3',\n",
       " '\\n\\n\\t\\t',\n",
       " 'слушать',\n",
       " 'исповедь',\n",
       " '\\n\\t\\t',\n",
       " 'Сюда',\n",
       " 'пришел',\n",
       " 'благодарю',\n",
       " '\\n\\t\\t',\n",
       " 'лучше',\n",
       " '\\n\\t\\t',\n",
       " 'Словами',\n",
       " 'облегчить',\n",
       " 'грудь',\n",
       " '\\n\\t\\t',\n",
       " 'людям',\n",
       " 'делал',\n",
       " 'зла',\n",
       " '\\n\\t\\t',\n",
       " 'дела',\n",
       " '\\n\\t\\t',\n",
       " 'пользы',\n",
       " 'узнать',\n",
       " '\\n\\t\\t',\n",
       " 'душу',\n",
       " 'ль',\n",
       " 'рассказать',\n",
       " '\\n\\t\\t',\n",
       " 'жил',\n",
       " 'жил',\n",
       " 'плену',\n",
       " '\\n\\t\\t',\n",
       " 'две',\n",
       " 'жизни',\n",
       " '\\n\\t\\t',\n",
       " 'полную',\n",
       " 'тревог',\n",
       " '\\n\\t\\t',\n",
       " 'променял',\n",
       " '\\n\\t\\t',\n",
       " 'знал',\n",
       " 'думы',\n",
       " 'власть',\n",
       " '\\n\\t\\t',\n",
       " 'пламенную',\n",
       " 'страсть',\n",
       " '\\n\\t\\t',\n",
       " 'червь',\n",
       " 'жила',\n",
       " '\\n\\t\\t',\n",
       " 'Изгрызла',\n",
       " 'душу',\n",
       " 'сожгла',\n",
       " '\\n\\t\\t',\n",
       " 'мечты',\n",
       " 'звала',\n",
       " '\\n\\t\\t',\n",
       " 'келий',\n",
       " 'душных',\n",
       " 'молитв',\n",
       " '\\n\\t\\t',\n",
       " 'чудный',\n",
       " 'мир',\n",
       " 'тревог',\n",
       " 'битв',\n",
       " '\\n\\t\\t',\n",
       " 'тучах',\n",
       " 'прячутся',\n",
       " 'скалы',\n",
       " '\\n\\t\\t',\n",
       " 'люди',\n",
       " 'вольны',\n",
       " 'орлы',\n",
       " '\\n\\t\\t',\n",
       " 'страсть',\n",
       " 'тьме',\n",
       " 'ночной',\n",
       " '\\n\\t\\t',\n",
       " 'Вскормил',\n",
       " 'слезами',\n",
       " 'тоской',\n",
       " '\\n\\t\\t',\n",
       " 'пред',\n",
       " 'небом',\n",
       " 'землей',\n",
       " '\\n\\t\\t',\n",
       " 'громко',\n",
       " 'признаю',\n",
       " '\\n\\t\\t',\n",
       " 'прощеньи',\n",
       " 'молю',\n",
       " '\\n\\n\\n\\n',\n",
       " '4',\n",
       " '\\n\\n\\t\\t',\n",
       " 'Старик',\n",
       " 'слышал',\n",
       " 'раз',\n",
       " '\\n\\t\\t',\n",
       " 'смерти',\n",
       " 'спас',\n",
       " '\\n\\t\\t',\n",
       " 'угрюм',\n",
       " 'одинок',\n",
       " '\\n\\t\\t',\n",
       " 'Грозой',\n",
       " 'оторванный',\n",
       " 'листок',\n",
       " '\\n\\t\\t',\n",
       " 'вырос',\n",
       " 'сумрачных',\n",
       " 'стенах',\n",
       " '\\n\\t\\t',\n",
       " 'Душой',\n",
       " 'дитя',\n",
       " 'судьбой',\n",
       " 'монах',\n",
       " '\\n\\t\\t',\n",
       " 'сказать',\n",
       " '\\n\\t\\t',\n",
       " 'Священных',\n",
       " 'слов',\n",
       " 'отец',\n",
       " 'мать',\n",
       " '\\n\\t\\t',\n",
       " 'старик',\n",
       " '\\n\\t\\t',\n",
       " 'обители',\n",
       " 'отвык',\n",
       " '\\n\\t\\t',\n",
       " 'сладостных',\n",
       " 'имен',\n",
       " '\\n\\t\\t',\n",
       " 'Напрасно',\n",
       " 'звук',\n",
       " 'рожден',\n",
       " '\\n\\t\\t',\n",
       " 'видел',\n",
       " '\\n\\t\\t',\n",
       " 'Отчизну',\n",
       " 'дом',\n",
       " 'друзей',\n",
       " 'родных',\n",
       " '\\n\\t\\t',\n",
       " 'находил',\n",
       " '\\n\\t\\t',\n",
       " 'милых',\n",
       " 'душ',\n",
       " 'могил',\n",
       " '\\n\\t\\t',\n",
       " 'пустых',\n",
       " 'тратя',\n",
       " 'слез',\n",
       " '\\n\\t\\t',\n",
       " 'душе',\n",
       " 'клятву',\n",
       " 'произнес',\n",
       " '\\n\\t\\t',\n",
       " 'миг',\n",
       " '\\n\\t\\t',\n",
       " 'пылающую',\n",
       " 'грудь',\n",
       " '\\n\\t\\t',\n",
       " 'Прижать',\n",
       " 'тоской',\n",
       " 'груди',\n",
       " '\\n\\t\\t',\n",
       " 'незнакомой',\n",
       " 'родной',\n",
       " '\\n\\t\\t',\n",
       " 'мечтанья',\n",
       " '\\n\\t\\t',\n",
       " 'Погибли',\n",
       " 'полной',\n",
       " 'красоте',\n",
       " '\\n\\t\\t',\n",
       " 'жил',\n",
       " 'земле',\n",
       " 'чужой',\n",
       " '\\n\\t\\t',\n",
       " 'Умру',\n",
       " 'рабом',\n",
       " 'сиротой',\n",
       " '\\n\\n\\n\\n',\n",
       " '5',\n",
       " '\\n\\n\\t\\t',\n",
       " 'могила',\n",
       " 'страшит',\n",
       " '\\n\\t\\t',\n",
       " 'говорят',\n",
       " 'страданье',\n",
       " 'спит',\n",
       " '\\n\\t\\t',\n",
       " 'холодной',\n",
       " 'вечной',\n",
       " 'тишине',\n",
       " '\\n\\t\\t',\n",
       " 'жизнью',\n",
       " 'жаль',\n",
       " 'расстаться',\n",
       " '\\n\\t\\t',\n",
       " 'молод',\n",
       " 'молод',\n",
       " 'Знал',\n",
       " '\\n\\t\\t',\n",
       " 'Разгульной',\n",
       " 'юности',\n",
       " 'мечты',\n",
       " '\\n\\t\\t',\n",
       " 'знал',\n",
       " 'забыл',\n",
       " '\\n\\t\\t',\n",
       " 'ненавидел',\n",
       " 'любил',\n",
       " '\\n\\t\\t',\n",
       " 'сердце',\n",
       " 'билося',\n",
       " 'живей',\n",
       " '\\n\\t\\t',\n",
       " 'виде',\n",
       " 'солнца',\n",
       " 'полей',\n",
       " '\\n\\t\\t',\n",
       " 'высокой',\n",
       " 'башни',\n",
       " 'угловой',\n",
       " '\\n\\t\\t',\n",
       " 'воздух',\n",
       " 'свеж',\n",
       " 'порой',\n",
       " '\\n\\t\\t',\n",
       " 'глубокой',\n",
       " 'скважине',\n",
       " 'стены',\n",
       " '\\n\\t\\t',\n",
       " 'Дитя',\n",
       " 'неведомой',\n",
       " 'страны',\n",
       " '\\n\\t\\t',\n",
       " 'Прижавшись',\n",
       " 'голубь',\n",
       " 'молодой',\n",
       " '\\n\\t\\t',\n",
       " 'Сидит',\n",
       " 'испуганный',\n",
       " 'грозой',\n",
       " '\\n\\t\\t',\n",
       " 'Пускай',\n",
       " 'прекрасный',\n",
       " 'свет',\n",
       " '\\n\\t\\t',\n",
       " 'постыл',\n",
       " 'слаб',\n",
       " 'сед',\n",
       " '\\n\\t\\t',\n",
       " 'желаний',\n",
       " 'отвык',\n",
       " '\\n\\t\\t',\n",
       " 'нужда',\n",
       " 'жил',\n",
       " 'старик',\n",
       " '\\n\\t\\t',\n",
       " 'мире',\n",
       " 'забыть',\n",
       " '\\n\\t\\t',\n",
       " 'жил',\n",
       " '\\xa0',\n",
       " 'жить',\n",
       " '\\n\\n\\n\\n',\n",
       " '6',\n",
       " '\\n\\n\\t\\t',\n",
       " 'знать',\n",
       " 'видел',\n",
       " '\\n\\t\\t',\n",
       " 'воле',\n",
       " '\\xa0',\n",
       " 'Пышные',\n",
       " 'поля',\n",
       " '\\n\\t\\t',\n",
       " 'Холмы',\n",
       " 'покрытые',\n",
       " 'венцом',\n",
       " '\\n\\t\\t',\n",
       " 'Дерев',\n",
       " 'разросшихся',\n",
       " 'кругом',\n",
       " '\\n\\t\\t',\n",
       " 'Шумящих',\n",
       " 'свежею',\n",
       " 'толпой',\n",
       " '\\n\\t\\t',\n",
       " 'братья',\n",
       " 'пляске',\n",
       " 'круговой',\n",
       " '\\n\\t\\t',\n",
       " 'видел',\n",
       " 'груды',\n",
       " 'темных',\n",
       " 'скал',\n",
       " '\\n\\t\\t',\n",
       " 'поток',\n",
       " 'разделял',\n",
       " '\\n\\t\\t',\n",
       " 'думы',\n",
       " 'угадал',\n",
       " '\\n\\t\\t',\n",
       " 'дано',\n",
       " '\\n\\t\\t',\n",
       " 'Простерты',\n",
       " 'воздухе',\n",
       " '\\n\\t\\t',\n",
       " 'Объятья',\n",
       " 'каменные',\n",
       " '\\n\\t\\t',\n",
       " 'жаждут',\n",
       " 'встречи',\n",
       " 'миг',\n",
       " '\\n\\t\\t',\n",
       " 'дни',\n",
       " 'бегут',\n",
       " 'бегут',\n",
       " 'года',\n",
       " '\\n\\t\\t',\n",
       " 'сойтися',\n",
       " '\\n\\t\\t',\n",
       " 'видел',\n",
       " 'горные',\n",
       " 'хребты',\n",
       " '\\n\\t\\t',\n",
       " 'Причудливые',\n",
       " 'мечты',\n",
       " '\\n\\t\\t',\n",
       " 'час',\n",
       " 'утренней',\n",
       " 'зари',\n",
       " '\\n\\t\\t',\n",
       " 'Курилися',\n",
       " 'алтари',\n",
       " '\\n\\t\\t',\n",
       " 'выси',\n",
       " 'небе',\n",
       " 'голубом',\n",
       " '\\n\\t\\t',\n",
       " 'облачко',\n",
       " 'облачком',\n",
       " '\\n\\t\\t',\n",
       " 'Покинув',\n",
       " 'тайный',\n",
       " 'ночлег',\n",
       " '\\n\\t\\t',\n",
       " 'востоку',\n",
       " 'направляло',\n",
       " 'бег',\n",
       " '\\n\\t\\t',\n",
       " 'белый',\n",
       " 'караван',\n",
       " '\\n\\t\\t',\n",
       " 'Залетных',\n",
       " 'птиц',\n",
       " 'дальних',\n",
       " 'стран',\n",
       " '\\n\\t\\t',\n",
       " 'дали',\n",
       " 'видел',\n",
       " 'туман',\n",
       " '\\n\\t\\t',\n",
       " 'снегах',\n",
       " 'горящих',\n",
       " 'алмаз',\n",
       " '\\n\\t\\t',\n",
       " 'Седой',\n",
       " 'незыблемый',\n",
       " 'Кавказ',\n",
       " '\\n\\t\\t',\n",
       " 'сердцу',\n",
       " '\\n\\t\\t',\n",
       " 'Легко',\n",
       " 'знаю',\n",
       " '\\n\\t\\t',\n",
       " 'тайный',\n",
       " 'голос',\n",
       " 'говорил',\n",
       " '\\n\\t\\t',\n",
       " 'жил',\n",
       " '\\n\\t\\t',\n",
       " 'памяти',\n",
       " '\\n\\t\\t',\n",
       " 'Прошедшее',\n",
       " 'ясней',\n",
       " 'ясней',\n",
       " '\\n\\n\\n\\n',\n",
       " '7',\n",
       " '\\n\\n\\t\\t',\n",
       " 'вспомнил',\n",
       " 'отцовский',\n",
       " 'дом',\n",
       " '\\n\\t\\t',\n",
       " 'Ущелье',\n",
       " 'кругом',\n",
       " '\\n\\t\\t',\n",
       " 'тени',\n",
       " 'рассыпанный',\n",
       " 'аул',\n",
       " '\\n\\t\\t',\n",
       " 'слышался',\n",
       " 'вечерний',\n",
       " 'гул',\n",
       " '\\n\\t\\t',\n",
       " 'Домой',\n",
       " 'бегущих',\n",
       " 'табунов',\n",
       " '\\n\\t\\t',\n",
       " 'дальний',\n",
       " 'лай',\n",
       " 'знакомых',\n",
       " 'псов',\n",
       " '\\n\\t\\t',\n",
       " 'помнил',\n",
       " 'смуглых',\n",
       " 'стариков',\n",
       " '\\n\\t\\t',\n",
       " 'свете',\n",
       " 'лунных',\n",
       " 'вечеров',\n",
       " '\\n\\t\\t',\n",
       " 'Против',\n",
       " 'отцовского',\n",
       " 'крыльца',\n",
       " '\\n\\t\\t',\n",
       " 'Сидевших',\n",
       " 'важностью',\n",
       " 'лица',\n",
       " '\\n\\t\\t',\n",
       " 'блеск',\n",
       " 'оправленных',\n",
       " 'ножон',\n",
       " '\\n\\t\\t',\n",
       " 'Кинжалов',\n",
       " 'длинных',\n",
       " 'сон',\n",
       " '\\n\\t\\t',\n",
       " 'смутной',\n",
       " 'чередой',\n",
       " '\\n\\t\\t',\n",
       " 'пробегало',\n",
       " 'предо',\n",
       " '\\n\\t\\t',\n",
       " 'отец',\n",
       " 'живой',\n",
       " '\\n\\t\\t',\n",
       " 'одежде',\n",
       " 'боевой',\n",
       " '\\n\\t\\t',\n",
       " 'Являлся',\n",
       " 'помнил',\n",
       " '\\n\\t\\t',\n",
       " 'Кольчуги',\n",
       " 'звон',\n",
       " 'блеск',\n",
       " 'ружья',\n",
       " '\\n\\t\\t',\n",
       " 'гордый',\n",
       " 'непреклонный',\n",
       " 'взор',\n",
       " '\\n\\t\\t',\n",
       " 'молодых',\n",
       " 'сестер',\n",
       " '\\n\\t\\t',\n",
       " 'Лучи',\n",
       " 'сладостных',\n",
       " 'очей',\n",
       " '\\n\\t\\t',\n",
       " 'звук',\n",
       " 'песен',\n",
       " 'речей',\n",
       " '\\n\\t\\t',\n",
       " 'колыбелию',\n",
       " '\\n\\t\\t',\n",
       " 'ущельи',\n",
       " 'бежал',\n",
       " 'поток',\n",
       " '\\n\\t\\t',\n",
       " 'шумен',\n",
       " 'глубок',\n",
       " '\\n\\t\\t',\n",
       " 'золотой',\n",
       " 'песок',\n",
       " '\\n\\t\\t',\n",
       " 'Играть',\n",
       " 'полдень',\n",
       " 'уходил',\n",
       " '\\n\\t\\t',\n",
       " 'взором',\n",
       " 'ласточек',\n",
       " 'следил',\n",
       " '\\n\\t\\t',\n",
       " 'дождем',\n",
       " '\\n\\t\\t',\n",
       " 'Волны',\n",
       " 'касалися',\n",
       " 'крылом',\n",
       " '\\n\\t\\t',\n",
       " 'вспомнил',\n",
       " 'мирный',\n",
       " 'дом',\n",
       " '\\n\\t\\t',\n",
       " 'пред',\n",
       " 'вечерним',\n",
       " 'очагом',\n",
       " '\\n\\t\\t',\n",
       " 'Рассказы',\n",
       " 'долгие',\n",
       " '\\n\\t\\t',\n",
       " 'жили',\n",
       " 'люди',\n",
       " 'прежних',\n",
       " 'дней',\n",
       " '\\n\\t\\t',\n",
       " 'мир',\n",
       " 'пышней',\n",
       " '\\n\\n\\n\\n',\n",
       " '8',\n",
       " '\\n\\n\\t\\t',\n",
       " 'знать',\n",
       " 'делал',\n",
       " '\\n\\t\\t',\n",
       " 'воле',\n",
       " 'Жил',\n",
       " 'жизнь',\n",
       " '\\n\\t\\t',\n",
       " 'трех',\n",
       " 'блаженных',\n",
       " 'дней',\n",
       " '\\n\\t\\t',\n",
       " 'печальней',\n",
       " 'мрачней',\n",
       " '\\n\\t\\t',\n",
       " 'Бессильной',\n",
       " 'старости',\n",
       " 'твоей',\n",
       " '\\n\\t\\t',\n",
       " 'задумал',\n",
       " '\\n\\t\\t',\n",
       " 'Взглянуть',\n",
       " 'дальние',\n",
       " 'поля',\n",
       " '\\n\\t\\t',\n",
       " 'Узнать',\n",
       " 'прекрасна',\n",
       " 'земля',\n",
       " '\\n\\t\\t',\n",
       " 'Узнать',\n",
       " 'воли',\n",
       " 'тюрьмы',\n",
       " '\\n\\t\\t',\n",
       " 'свет',\n",
       " 'родимся',\n",
       " '\\n\\t\\t',\n",
       " 'час',\n",
       " 'ночной',\n",
       " 'ужасный',\n",
       " 'час',\n",
       " '\\n\\t\\t',\n",
       " 'гроза',\n",
       " 'пугала',\n",
       " '\\n\\t\\t',\n",
       " 'столпясь',\n",
       " 'алтаре',\n",
       " '\\n\\t\\t',\n",
       " 'ниц',\n",
       " 'лежали',\n",
       " 'земле',\n",
       " '\\n\\t\\t',\n",
       " 'убежал',\n",
       " 'брат',\n",
       " '\\n\\t\\t',\n",
       " 'Обняться',\n",
       " 'бурей',\n",
       " 'рад',\n",
       " '\\n\\t\\t',\n",
       " 'Глазами',\n",
       " 'тучи',\n",
       " 'следил',\n",
       " '\\n\\t\\t',\n",
       " 'Рукою',\n",
       " 'молнию',\n",
       " 'ловил',\n",
       " '\\n\\t\\t',\n",
       " 'Скажи',\n",
       " 'средь',\n",
       " 'стен',\n",
       " '\\n\\t\\t',\n",
       " 'дать',\n",
       " 'взамен',\n",
       " '\\n\\t\\t',\n",
       " 'дружбы',\n",
       " 'краткой',\n",
       " 'живой',\n",
       " '\\n\\t\\t',\n",
       " 'бурным',\n",
       " 'сердцем',\n",
       " 'грозой',\n",
       " '\\n\\n\\n\\n',\n",
       " '9',\n",
       " '\\n\\n\\t\\t',\n",
       " 'Бежал',\n",
       " '\\n\\t\\t',\n",
       " 'знаю',\n",
       " 'ни',\n",
       " 'звезда',\n",
       " '\\n\\t\\t',\n",
       " 'озаряла',\n",
       " 'трудный',\n",
       " 'путь',\n",
       " '\\n\\t\\t',\n",
       " 'весело',\n",
       " 'вдохнуть',\n",
       " '\\n\\t\\t',\n",
       " 'измученную',\n",
       " 'грудь',\n",
       " '\\n\\t\\t',\n",
       " 'Ночную',\n",
       " 'свежесть',\n",
       " 'лесов',\n",
       " '\\n\\t\\t',\n",
       " 'часов',\n",
       " '\\n\\t\\t',\n",
       " 'Бежал',\n",
       " 'устав',\n",
       " '\\n\\t\\t',\n",
       " 'Прилег',\n",
       " 'высоких',\n",
       " 'трав',\n",
       " '\\n\\t\\t',\n",
       " 'Прислушался',\n",
       " 'погони',\n",
       " '\\n\\t\\t',\n",
       " 'Гроза',\n",
       " 'утихла',\n",
       " 'Бледный',\n",
       " 'свет',\n",
       " '\\n\\t\\t',\n",
       " 'Тянулся',\n",
       " 'длинной',\n",
       " 'полосой',\n",
       " '\\n\\t\\t',\n",
       " 'темным',\n",
       " 'небом',\n",
       " 'землей',\n",
       " '\\n\\t\\t',\n",
       " 'различал',\n",
       " 'узор',\n",
       " '\\n\\t\\t',\n",
       " 'зубцы',\n",
       " 'далеких',\n",
       " 'гор',\n",
       " '\\n\\t\\t',\n",
       " 'Недвижим',\n",
       " 'молча',\n",
       " 'лежал',\n",
       " '\\n\\t\\t',\n",
       " 'Порой',\n",
       " 'ущелии',\n",
       " 'шакал',\n",
       " '\\n\\t\\t',\n",
       " 'Кричал',\n",
       " 'плакал',\n",
       " 'дитя',\n",
       " '\\n\\t\\t',\n",
       " 'гладкой',\n",
       " 'чешуей',\n",
       " 'блестя',\n",
       " '\\n\\t\\t',\n",
       " 'Змея',\n",
       " 'скользила',\n",
       " 'камней',\n",
       " '\\n\\t\\t',\n",
       " 'страх',\n",
       " 'сжал',\n",
       " 'души',\n",
       " '\\n\\t\\t',\n",
       " 'зверь',\n",
       " 'чужд',\n",
       " 'людей',\n",
       " '\\n\\t\\t',\n",
       " 'полз',\n",
       " 'прятался',\n",
       " 'змей',\n",
       " '\\n\\n\\n\\n',\n",
       " '10',\n",
       " '\\n\\n\\t\\t',\n",
       " 'глубоко',\n",
       " 'подо',\n",
       " '\\n\\t\\t',\n",
       " 'Поток',\n",
       " 'усиленный',\n",
       " 'грозой',\n",
       " '\\n\\t\\t',\n",
       " 'Шумел',\n",
       " 'шум',\n",
       " 'глухой',\n",
       " '\\n\\t\\t',\n",
       " 'Сердитых',\n",
       " 'сотне',\n",
       " 'голосов',\n",
       " '\\n\\t\\t',\n",
       " 'Подобился',\n",
       " 'слов',\n",
       " '\\n\\t\\t',\n",
       " 'внятен',\n",
       " 'разговор',\n",
       " '\\n\\t\\t',\n",
       " 'Немолчный',\n",
       " 'ропот',\n",
       " 'вечный',\n",
       " 'спор',\n",
       " '\\n\\t\\t',\n",
       " 'упрямой',\n",
       " 'грудою',\n",
       " 'камней',\n",
       " '\\n\\t\\t',\n",
       " 'стихал',\n",
       " 'сильней',\n",
       " '\\n\\t\\t',\n",
       " 'раздавался',\n",
       " 'тишине',\n",
       " '\\n\\t\\t',\n",
       " 'туманной',\n",
       " 'вышине',\n",
       " ...]"
      ]
     },
     "execution_count": 7,
     "metadata": {},
     "output_type": "execute_result"
    }
   ],
   "source": [
    "word_filtered=[token.text for token in doc if not token.is_punct and not token.is_stop]\n",
    "word_filtered"
   ]
  },
  {
   "cell_type": "code",
   "execution_count": 8,
   "metadata": {},
   "outputs": [
    {
     "data": {
      "text/plain": [
       "['1',\n",
       " '\\n\\n\\t\\t',\n",
       " 'год',\n",
       " '\\n\\t\\t',\n",
       " 'сливаяся',\n",
       " 'шуметь',\n",
       " '\\n\\t\\t',\n",
       " 'обнявшись',\n",
       " 'два',\n",
       " 'сестра',\n",
       " '\\n\\t\\t',\n",
       " 'струи',\n",
       " 'арагвы',\n",
       " 'куры',\n",
       " '\\n\\t\\t',\n",
       " 'монастырь',\n",
       " 'гора',\n",
       " '\\n\\t\\t',\n",
       " 'видеть',\n",
       " 'пешеход',\n",
       " '\\n\\t\\t',\n",
       " 'столбы',\n",
       " 'обрушенных',\n",
       " 'ворот',\n",
       " '\\n\\t\\t',\n",
       " 'башня',\n",
       " 'церковный',\n",
       " 'свод',\n",
       " '\\n\\t\\t',\n",
       " 'куриться',\n",
       " '\\n\\t\\t',\n",
       " 'кадильниц',\n",
       " 'благовонный',\n",
       " 'дым',\n",
       " '\\n\\t\\t',\n",
       " 'слышный',\n",
       " 'пение',\n",
       " 'поздний',\n",
       " 'час',\n",
       " '\\n\\t\\t',\n",
       " 'молить',\n",
       " 'инок',\n",
       " '\\n\\t\\t',\n",
       " 'старик',\n",
       " 'седа',\n",
       " '\\n\\t\\t',\n",
       " 'развалин',\n",
       " 'страж',\n",
       " 'полуживой',\n",
       " '\\n\\t\\t',\n",
       " 'человек',\n",
       " 'смертию',\n",
       " 'забыт',\n",
       " '\\n\\t\\t',\n",
       " 'сметать',\n",
       " 'пыль',\n",
       " 'могильный',\n",
       " 'плита',\n",
       " '\\n\\t\\t',\n",
       " 'надпись',\n",
       " 'говорить',\n",
       " '\\n\\t\\t',\n",
       " 'слава',\n",
       " 'прошлый',\n",
       " '\\n\\t\\t',\n",
       " 'удручить',\n",
       " 'венец',\n",
       " '\\n\\t\\t',\n",
       " 'царь',\n",
       " 'год',\n",
       " '\\n\\t\\t',\n",
       " 'вручать',\n",
       " 'россия',\n",
       " 'народ',\n",
       " '\\n\\t\\t',\n",
       " 'божья',\n",
       " 'благодать',\n",
       " 'сойти',\n",
       " '\\n\\t\\t',\n",
       " 'грузия',\n",
       " '\\xa0',\n",
       " 'цвести',\n",
       " '\\n\\t\\t',\n",
       " 'тень',\n",
       " 'сад',\n",
       " '\\n\\t\\t',\n",
       " 'опасаяся',\n",
       " 'враг',\n",
       " '\\n\\t\\t',\n",
       " 'грань',\n",
       " 'дружеский',\n",
       " 'штык',\n",
       " '\\n\\n\\n\\n',\n",
       " '2',\n",
       " '\\n\\n\\t\\t',\n",
       " 'русский',\n",
       " 'генерал',\n",
       " '\\n\\t\\t',\n",
       " 'гора',\n",
       " 'тифлис',\n",
       " 'проезжать',\n",
       " '\\n\\t\\t',\n",
       " 'ребёнок',\n",
       " 'пленный',\n",
       " 'везти',\n",
       " '\\n\\t\\t',\n",
       " 'занемочь',\n",
       " 'перенести',\n",
       " '\\n\\t\\t',\n",
       " 'труд',\n",
       " 'далёкий',\n",
       " 'путь',\n",
       " '\\n\\t\\t',\n",
       " 'год',\n",
       " 'шесть',\n",
       " '\\n\\t\\t',\n",
       " 'серный',\n",
       " 'гора',\n",
       " 'пуглив',\n",
       " 'дик',\n",
       " '\\n\\t\\t',\n",
       " 'слабый',\n",
       " 'гибкий',\n",
       " 'тростник',\n",
       " '\\n\\t\\t',\n",
       " 'мучительный',\n",
       " 'недуг',\n",
       " '\\n\\t\\t',\n",
       " 'развить',\n",
       " 'могучий',\n",
       " 'дух',\n",
       " '\\n\\t\\t',\n",
       " 'отец',\n",
       " 'жалоба',\n",
       " '\\n\\t\\t',\n",
       " 'томился',\n",
       " 'слабый',\n",
       " 'стон',\n",
       " '\\n\\t\\t',\n",
       " 'детский',\n",
       " 'губа',\n",
       " 'вылетать',\n",
       " '\\n\\t\\t',\n",
       " 'знакомый',\n",
       " 'пища',\n",
       " 'отвергать',\n",
       " '\\n\\t\\t',\n",
       " 'тихо',\n",
       " 'гордо',\n",
       " 'умирать',\n",
       " '\\n\\t\\t',\n",
       " 'жалость',\n",
       " 'монах',\n",
       " '\\n\\t\\t',\n",
       " 'больного',\n",
       " 'призреть',\n",
       " 'стена',\n",
       " '\\n\\t\\t',\n",
       " 'хранительных',\n",
       " 'остаться',\n",
       " '\\n\\t\\t',\n",
       " 'искусством',\n",
       " 'дружеский',\n",
       " 'спасти',\n",
       " '\\n\\t\\t',\n",
       " 'чужд',\n",
       " 'ребяческий',\n",
       " 'утеха',\n",
       " '\\n\\t\\t',\n",
       " 'бегать',\n",
       " '\\n\\t\\t',\n",
       " 'бродил',\n",
       " 'безмолвный',\n",
       " 'одинок',\n",
       " '\\n\\t\\t',\n",
       " 'смотреть',\n",
       " 'вздыхая',\n",
       " 'восток',\n",
       " '\\n\\t\\t',\n",
       " 'томим',\n",
       " 'неясною',\n",
       " 'тоска',\n",
       " '\\n\\t\\t',\n",
       " 'сторона',\n",
       " 'родный',\n",
       " '\\n\\t\\t',\n",
       " 'плен',\n",
       " 'привыкнуть',\n",
       " '\\n\\t\\t',\n",
       " 'понимать',\n",
       " 'чужой',\n",
       " 'язык',\n",
       " '\\n\\t\\t',\n",
       " 'окрестить',\n",
       " 'святой',\n",
       " 'отец',\n",
       " '\\n\\t\\t',\n",
       " 'шумный',\n",
       " 'свет',\n",
       " 'незнаком',\n",
       " '\\n\\t\\t',\n",
       " 'цвет',\n",
       " 'год',\n",
       " '\\n\\t\\t',\n",
       " 'изречь',\n",
       " 'монашеский',\n",
       " 'обет',\n",
       " '\\n\\t\\t',\n",
       " 'исчезнуть',\n",
       " '\\n\\t\\t',\n",
       " 'осенний',\n",
       " 'ночь',\n",
       " 'тёмный',\n",
       " 'лес',\n",
       " '\\n\\t\\t',\n",
       " 'тянулся',\n",
       " 'гора',\n",
       " 'круг',\n",
       " '\\n\\t\\t',\n",
       " 'три',\n",
       " 'день',\n",
       " 'поиск',\n",
       " '\\n\\t\\t',\n",
       " 'напрасный',\n",
       " '\\n\\t\\t',\n",
       " 'степь',\n",
       " 'чувство',\n",
       " 'найти',\n",
       " '\\n\\t\\t',\n",
       " 'обитель',\n",
       " 'принести',\n",
       " '\\n\\t\\t',\n",
       " 'страшно',\n",
       " 'бледный',\n",
       " 'худ',\n",
       " '\\n\\t\\t',\n",
       " 'слабый',\n",
       " 'долгий',\n",
       " 'труд',\n",
       " '\\n\\t\\t',\n",
       " 'болезнь',\n",
       " 'голод',\n",
       " 'испытать',\n",
       " '\\n\\t\\t',\n",
       " 'допрос',\n",
       " 'отвечать',\n",
       " '\\n\\t\\t',\n",
       " 'каждый',\n",
       " 'день',\n",
       " 'приметный',\n",
       " 'вял',\n",
       " '\\n\\t\\t',\n",
       " 'близкий',\n",
       " 'конец',\n",
       " '\\n\\t\\t',\n",
       " 'прийти',\n",
       " 'чернец',\n",
       " '\\n\\t\\t',\n",
       " 'увещевание',\n",
       " 'мольба',\n",
       " '\\n\\t\\t',\n",
       " 'гордо',\n",
       " 'выслушать',\n",
       " 'больной',\n",
       " '\\n\\t\\t',\n",
       " 'привстал',\n",
       " 'собрать',\n",
       " 'остаток',\n",
       " 'сила',\n",
       " '\\n\\t\\t',\n",
       " 'говорить',\n",
       " '\\n\\n\\n\\n',\n",
       " '3',\n",
       " '\\n\\n\\t\\t',\n",
       " 'слушать',\n",
       " 'исповедь',\n",
       " '\\n\\t\\t',\n",
       " 'сюда',\n",
       " 'прийти',\n",
       " 'благодарить',\n",
       " '\\n\\t\\t',\n",
       " 'хороший',\n",
       " '\\n\\t\\t',\n",
       " 'слово',\n",
       " 'облегчить',\n",
       " 'грудь',\n",
       " '\\n\\t\\t',\n",
       " 'человек',\n",
       " 'делать',\n",
       " 'зло',\n",
       " '\\n\\t\\t',\n",
       " 'дело',\n",
       " '\\n\\t\\t',\n",
       " 'польза',\n",
       " 'узнать',\n",
       " '\\n\\t\\t',\n",
       " 'душа',\n",
       " 'ль',\n",
       " 'рассказать',\n",
       " '\\n\\t\\t',\n",
       " 'жить',\n",
       " 'жить',\n",
       " 'плен',\n",
       " '\\n\\t\\t',\n",
       " 'два',\n",
       " 'жизнь',\n",
       " '\\n\\t\\t',\n",
       " 'полный',\n",
       " 'тревог',\n",
       " '\\n\\t\\t',\n",
       " 'променять',\n",
       " '\\n\\t\\t',\n",
       " 'знать',\n",
       " 'дума',\n",
       " 'власть',\n",
       " '\\n\\t\\t',\n",
       " 'пламенный',\n",
       " 'страсть',\n",
       " '\\n\\t\\t',\n",
       " 'червь',\n",
       " 'жить',\n",
       " '\\n\\t\\t',\n",
       " 'изгрызть',\n",
       " 'душа',\n",
       " 'сжечь',\n",
       " '\\n\\t\\t',\n",
       " 'мечта',\n",
       " 'звать',\n",
       " '\\n\\t\\t',\n",
       " 'келья',\n",
       " 'душный',\n",
       " 'молитва',\n",
       " '\\n\\t\\t',\n",
       " 'чудный',\n",
       " 'мир',\n",
       " 'тревога',\n",
       " 'битва',\n",
       " '\\n\\t\\t',\n",
       " 'тучах',\n",
       " 'прятаться',\n",
       " 'скала',\n",
       " '\\n\\t\\t',\n",
       " 'человек',\n",
       " 'вольный',\n",
       " 'орлы',\n",
       " '\\n\\t\\t',\n",
       " 'страсть',\n",
       " 'тьме',\n",
       " 'ночной',\n",
       " '\\n\\t\\t',\n",
       " 'вскормить',\n",
       " 'слеза',\n",
       " 'тоска',\n",
       " '\\n\\t\\t',\n",
       " 'пред',\n",
       " 'небо',\n",
       " 'земля',\n",
       " '\\n\\t\\t',\n",
       " 'громко',\n",
       " 'признавать',\n",
       " '\\n\\t\\t',\n",
       " 'прощение',\n",
       " 'молю',\n",
       " '\\n\\n\\n\\n',\n",
       " '4',\n",
       " '\\n\\n\\t\\t',\n",
       " 'старик',\n",
       " 'слышать',\n",
       " 'раз',\n",
       " '\\n\\t\\t',\n",
       " 'смерть',\n",
       " 'спасти',\n",
       " '\\n\\t\\t',\n",
       " 'угрюм',\n",
       " 'одинок',\n",
       " '\\n\\t\\t',\n",
       " 'гроза',\n",
       " 'оторванный',\n",
       " 'листок',\n",
       " '\\n\\t\\t',\n",
       " 'вырасти',\n",
       " 'сумрачный',\n",
       " 'стена',\n",
       " '\\n\\t\\t',\n",
       " 'душой',\n",
       " 'дитя',\n",
       " 'судьба',\n",
       " 'монах',\n",
       " '\\n\\t\\t',\n",
       " 'сказать',\n",
       " '\\n\\t\\t',\n",
       " 'священный',\n",
       " 'слово',\n",
       " 'отец',\n",
       " 'мать',\n",
       " '\\n\\t\\t',\n",
       " 'старик',\n",
       " '\\n\\t\\t',\n",
       " 'обители',\n",
       " 'отвык',\n",
       " '\\n\\t\\t',\n",
       " 'сладостный',\n",
       " 'имя',\n",
       " '\\n\\t\\t',\n",
       " 'напрасный',\n",
       " 'звук',\n",
       " 'родить',\n",
       " '\\n\\t\\t',\n",
       " 'видеть',\n",
       " '\\n\\t\\t',\n",
       " 'отчизну',\n",
       " 'дом',\n",
       " 'друг',\n",
       " 'родных',\n",
       " '\\n\\t\\t',\n",
       " 'находить',\n",
       " '\\n\\t\\t',\n",
       " 'милый',\n",
       " 'душа',\n",
       " 'могил',\n",
       " '\\n\\t\\t',\n",
       " 'пустых',\n",
       " 'тратить',\n",
       " 'слеза',\n",
       " '\\n\\t\\t',\n",
       " 'душа',\n",
       " 'клятва',\n",
       " 'произнести',\n",
       " '\\n\\t\\t',\n",
       " 'миг',\n",
       " '\\n\\t\\t',\n",
       " 'пылать',\n",
       " 'грудь',\n",
       " '\\n\\t\\t',\n",
       " 'прижать',\n",
       " 'тоска',\n",
       " 'грудь',\n",
       " '\\n\\t\\t',\n",
       " 'незнакомый',\n",
       " 'родной',\n",
       " '\\n\\t\\t',\n",
       " 'мечтанья',\n",
       " '\\n\\t\\t',\n",
       " 'погибнуть',\n",
       " 'полный',\n",
       " 'красота',\n",
       " '\\n\\t\\t',\n",
       " 'жить',\n",
       " 'земля',\n",
       " 'чужой',\n",
       " '\\n\\t\\t',\n",
       " 'умру',\n",
       " 'раб',\n",
       " 'сирота',\n",
       " '\\n\\n\\n\\n',\n",
       " '5',\n",
       " '\\n\\n\\t\\t',\n",
       " 'могила',\n",
       " 'страшит',\n",
       " '\\n\\t\\t',\n",
       " 'говорить',\n",
       " 'страдание',\n",
       " 'спать',\n",
       " '\\n\\t\\t',\n",
       " 'холодный',\n",
       " 'вечный',\n",
       " 'тишина',\n",
       " '\\n\\t\\t',\n",
       " 'жизнь',\n",
       " 'жаль',\n",
       " 'расстаться',\n",
       " '\\n\\t\\t',\n",
       " 'молодой',\n",
       " 'молод',\n",
       " 'знать',\n",
       " '\\n\\t\\t',\n",
       " 'разгульный',\n",
       " 'юность',\n",
       " 'мечта',\n",
       " '\\n\\t\\t',\n",
       " 'знать',\n",
       " 'забыть',\n",
       " '\\n\\t\\t',\n",
       " 'ненавидеть',\n",
       " 'любить',\n",
       " '\\n\\t\\t',\n",
       " 'сердце',\n",
       " 'билося',\n",
       " 'живей',\n",
       " '\\n\\t\\t',\n",
       " 'вид',\n",
       " 'солнце',\n",
       " 'поле',\n",
       " '\\n\\t\\t',\n",
       " 'высокий',\n",
       " 'башня',\n",
       " 'угловой',\n",
       " '\\n\\t\\t',\n",
       " 'воздух',\n",
       " 'свеж',\n",
       " 'порой',\n",
       " '\\n\\t\\t',\n",
       " 'глубокий',\n",
       " 'скважина',\n",
       " 'стена',\n",
       " '\\n\\t\\t',\n",
       " 'дитя',\n",
       " 'неведомый',\n",
       " 'страна',\n",
       " '\\n\\t\\t',\n",
       " 'прижаться',\n",
       " 'голубь',\n",
       " 'молодой',\n",
       " '\\n\\t\\t',\n",
       " 'сидит',\n",
       " 'испугать',\n",
       " 'гроза',\n",
       " '\\n\\t\\t',\n",
       " 'Пускай',\n",
       " 'прекрасный',\n",
       " 'свет',\n",
       " '\\n\\t\\t',\n",
       " 'постыть',\n",
       " 'слабый',\n",
       " 'сед',\n",
       " '\\n\\t\\t',\n",
       " 'желание',\n",
       " 'отвык',\n",
       " '\\n\\t\\t',\n",
       " 'нужда',\n",
       " 'жить',\n",
       " 'старик',\n",
       " '\\n\\t\\t',\n",
       " 'мир',\n",
       " 'забыть',\n",
       " '\\n\\t\\t',\n",
       " 'жить',\n",
       " '\\xa0',\n",
       " 'жить',\n",
       " '\\n\\n\\n\\n',\n",
       " '6',\n",
       " '\\n\\n\\t\\t',\n",
       " 'знать',\n",
       " 'видеть',\n",
       " '\\n\\t\\t',\n",
       " 'воля',\n",
       " '\\xa0',\n",
       " 'пышный',\n",
       " 'поле',\n",
       " '\\n\\t\\t',\n",
       " 'холмы',\n",
       " 'покрыть',\n",
       " 'венец',\n",
       " '\\n\\t\\t',\n",
       " 'дерев',\n",
       " 'разросшихся',\n",
       " 'круг',\n",
       " '\\n\\t\\t',\n",
       " 'шуметь',\n",
       " 'свежею',\n",
       " 'толпа',\n",
       " '\\n\\t\\t',\n",
       " 'брат',\n",
       " 'пляске',\n",
       " 'круговой',\n",
       " '\\n\\t\\t',\n",
       " 'видеть',\n",
       " 'груда',\n",
       " 'тёмный',\n",
       " 'скала',\n",
       " '\\n\\t\\t',\n",
       " 'поток',\n",
       " 'разделять',\n",
       " '\\n\\t\\t',\n",
       " 'думы',\n",
       " 'угадать',\n",
       " '\\n\\t\\t',\n",
       " 'дать',\n",
       " '\\n\\t\\t',\n",
       " 'простерты',\n",
       " 'воздух',\n",
       " '\\n\\t\\t',\n",
       " 'объятья',\n",
       " 'каменный',\n",
       " '\\n\\t\\t',\n",
       " 'жаждать',\n",
       " 'встреча',\n",
       " 'миг',\n",
       " '\\n\\t\\t',\n",
       " 'день',\n",
       " 'бежать',\n",
       " 'бежать',\n",
       " 'год',\n",
       " '\\n\\t\\t',\n",
       " 'сойтися',\n",
       " '\\n\\t\\t',\n",
       " 'видеть',\n",
       " 'горный',\n",
       " 'хребет',\n",
       " '\\n\\t\\t',\n",
       " 'причудливый',\n",
       " 'мечта',\n",
       " '\\n\\t\\t',\n",
       " 'час',\n",
       " 'утренний',\n",
       " 'заря',\n",
       " '\\n\\t\\t',\n",
       " 'курилися',\n",
       " 'алтарь',\n",
       " '\\n\\t\\t',\n",
       " 'выси',\n",
       " 'небо',\n",
       " 'голубом',\n",
       " '\\n\\t\\t',\n",
       " 'облачко',\n",
       " 'облачком',\n",
       " '\\n\\t\\t',\n",
       " 'покинуть',\n",
       " 'тайный',\n",
       " 'ночлег',\n",
       " '\\n\\t\\t',\n",
       " 'восток',\n",
       " 'направлять',\n",
       " 'бег',\n",
       " '\\n\\t\\t',\n",
       " 'белый',\n",
       " 'караван',\n",
       " '\\n\\t\\t',\n",
       " 'залётный',\n",
       " 'птица',\n",
       " 'дальний',\n",
       " 'страна',\n",
       " '\\n\\t\\t',\n",
       " 'дали',\n",
       " 'видеть',\n",
       " 'туман',\n",
       " '\\n\\t\\t',\n",
       " 'снег',\n",
       " 'гореть',\n",
       " 'алмаз',\n",
       " '\\n\\t\\t',\n",
       " 'седа',\n",
       " 'незыблемый',\n",
       " 'кавказ',\n",
       " '\\n\\t\\t',\n",
       " 'сердце',\n",
       " '\\n\\t\\t',\n",
       " 'Легко',\n",
       " 'знать',\n",
       " '\\n\\t\\t',\n",
       " 'тайный',\n",
       " 'голос',\n",
       " 'говорить',\n",
       " '\\n\\t\\t',\n",
       " 'жить',\n",
       " '\\n\\t\\t',\n",
       " 'память',\n",
       " '\\n\\t\\t',\n",
       " 'пройти',\n",
       " 'ясней',\n",
       " 'ясный',\n",
       " '\\n\\n\\n\\n',\n",
       " '7',\n",
       " '\\n\\n\\t\\t',\n",
       " 'вспомнить',\n",
       " 'отцовский',\n",
       " 'дом',\n",
       " '\\n\\t\\t',\n",
       " 'ущелие',\n",
       " 'круг',\n",
       " '\\n\\t\\t',\n",
       " 'тень',\n",
       " 'рассыпанный',\n",
       " 'аул',\n",
       " '\\n\\t\\t',\n",
       " 'слышаться',\n",
       " 'вечерний',\n",
       " 'гул',\n",
       " '\\n\\t\\t',\n",
       " 'Домой',\n",
       " 'бегущих',\n",
       " 'табун',\n",
       " '\\n\\t\\t',\n",
       " 'дальний',\n",
       " 'лай',\n",
       " 'знакомый',\n",
       " 'пёс',\n",
       " '\\n\\t\\t',\n",
       " 'помнил',\n",
       " 'смуглый',\n",
       " 'старик',\n",
       " '\\n\\t\\t',\n",
       " 'свет',\n",
       " 'лунный',\n",
       " 'вечер',\n",
       " '\\n\\t\\t',\n",
       " 'против',\n",
       " 'отцовский',\n",
       " 'крыльцо',\n",
       " '\\n\\t\\t',\n",
       " 'сидеть',\n",
       " 'важность',\n",
       " 'лицо',\n",
       " '\\n\\t\\t',\n",
       " 'блеск',\n",
       " 'оправить',\n",
       " 'ножон',\n",
       " '\\n\\t\\t',\n",
       " 'кинжалов',\n",
       " 'длинный',\n",
       " 'сон',\n",
       " '\\n\\t\\t',\n",
       " 'смутный',\n",
       " 'череда',\n",
       " '\\n\\t\\t',\n",
       " 'пробегать',\n",
       " 'предо',\n",
       " '\\n\\t\\t',\n",
       " 'отец',\n",
       " 'живой',\n",
       " '\\n\\t\\t',\n",
       " 'одежда',\n",
       " 'боевой',\n",
       " '\\n\\t\\t',\n",
       " 'являться',\n",
       " 'помнил',\n",
       " '\\n\\t\\t',\n",
       " 'кольчуга',\n",
       " 'звон',\n",
       " 'блеск',\n",
       " 'ружьё',\n",
       " '\\n\\t\\t',\n",
       " 'гордый',\n",
       " 'непреклонный',\n",
       " 'взор',\n",
       " '\\n\\t\\t',\n",
       " 'молодой',\n",
       " 'сестра',\n",
       " '\\n\\t\\t',\n",
       " 'луч',\n",
       " 'сладостный',\n",
       " 'очей',\n",
       " '\\n\\t\\t',\n",
       " 'звук',\n",
       " 'песня',\n",
       " 'речь',\n",
       " '\\n\\t\\t',\n",
       " 'колыбелию',\n",
       " '\\n\\t\\t',\n",
       " 'ущельи',\n",
       " 'бежать',\n",
       " 'поток',\n",
       " '\\n\\t\\t',\n",
       " 'шумен',\n",
       " 'глубок',\n",
       " '\\n\\t\\t',\n",
       " 'золотой',\n",
       " 'песок',\n",
       " '\\n\\t\\t',\n",
       " 'играть',\n",
       " 'полдень',\n",
       " 'уходить',\n",
       " '\\n\\t\\t',\n",
       " 'взор',\n",
       " 'ласточка',\n",
       " 'следить',\n",
       " '\\n\\t\\t',\n",
       " 'дождь',\n",
       " '\\n\\t\\t',\n",
       " 'волна',\n",
       " 'касалися',\n",
       " 'крыло',\n",
       " '\\n\\t\\t',\n",
       " 'вспомнить',\n",
       " 'мирный',\n",
       " 'дом',\n",
       " '\\n\\t\\t',\n",
       " 'пред',\n",
       " 'вечерний',\n",
       " 'очаг',\n",
       " '\\n\\t\\t',\n",
       " 'рассказы',\n",
       " 'долгий',\n",
       " '\\n\\t\\t',\n",
       " 'жить',\n",
       " 'человек',\n",
       " 'прежний',\n",
       " 'день',\n",
       " '\\n\\t\\t',\n",
       " 'мир',\n",
       " 'пышный',\n",
       " '\\n\\n\\n\\n',\n",
       " '8',\n",
       " '\\n\\n\\t\\t',\n",
       " 'знать',\n",
       " 'делать',\n",
       " '\\n\\t\\t',\n",
       " 'воля',\n",
       " 'жил',\n",
       " 'жизнь',\n",
       " '\\n\\t\\t',\n",
       " 'три',\n",
       " 'блаженный',\n",
       " 'день',\n",
       " '\\n\\t\\t',\n",
       " 'печальный',\n",
       " 'мрачный',\n",
       " '\\n\\t\\t',\n",
       " 'бессильный',\n",
       " 'старость',\n",
       " 'твой',\n",
       " '\\n\\t\\t',\n",
       " 'задумать',\n",
       " '\\n\\t\\t',\n",
       " 'взглянуть',\n",
       " 'дальний',\n",
       " 'поле',\n",
       " '\\n\\t\\t',\n",
       " 'узнать',\n",
       " 'прекрасный',\n",
       " 'земля',\n",
       " '\\n\\t\\t',\n",
       " 'узнать',\n",
       " 'воля',\n",
       " 'тюрьма',\n",
       " '\\n\\t\\t',\n",
       " 'свет',\n",
       " 'родиться',\n",
       " '\\n\\t\\t',\n",
       " 'час',\n",
       " 'ночной',\n",
       " 'ужасный',\n",
       " 'час',\n",
       " '\\n\\t\\t',\n",
       " 'гроза',\n",
       " 'пугать',\n",
       " '\\n\\t\\t',\n",
       " 'столпясь',\n",
       " 'алтарь',\n",
       " '\\n\\t\\t',\n",
       " 'ниц',\n",
       " 'лежать',\n",
       " 'земля',\n",
       " '\\n\\t\\t',\n",
       " 'убежать',\n",
       " 'брат',\n",
       " '\\n\\t\\t',\n",
       " 'обняться',\n",
       " 'буря',\n",
       " 'рад',\n",
       " '\\n\\t\\t',\n",
       " 'глаз',\n",
       " 'туча',\n",
       " 'следить',\n",
       " '\\n\\t\\t',\n",
       " 'рукою',\n",
       " 'молнию',\n",
       " 'ловил',\n",
       " '\\n\\t\\t',\n",
       " 'сказать',\n",
       " 'средь',\n",
       " 'стена',\n",
       " '\\n\\t\\t',\n",
       " 'дать',\n",
       " 'взамен',\n",
       " '\\n\\t\\t',\n",
       " 'дружба',\n",
       " 'краткий',\n",
       " 'живой',\n",
       " '\\n\\t\\t',\n",
       " 'бурный',\n",
       " 'сердце',\n",
       " 'гроза',\n",
       " '\\n\\n\\n\\n',\n",
       " '9',\n",
       " '\\n\\n\\t\\t',\n",
       " 'бежать',\n",
       " '\\n\\t\\t',\n",
       " 'знать',\n",
       " 'ни',\n",
       " 'звезда',\n",
       " '\\n\\t\\t',\n",
       " 'озарять',\n",
       " 'трудный',\n",
       " 'путь',\n",
       " '\\n\\t\\t',\n",
       " 'весёлый',\n",
       " 'вдохнуть',\n",
       " '\\n\\t\\t',\n",
       " 'измученный',\n",
       " 'грудь',\n",
       " '\\n\\t\\t',\n",
       " 'ночной',\n",
       " 'свежесть',\n",
       " 'лес',\n",
       " '\\n\\t\\t',\n",
       " 'час',\n",
       " '\\n\\t\\t',\n",
       " 'бежал',\n",
       " 'устать',\n",
       " '\\n\\t\\t',\n",
       " 'прилег',\n",
       " 'высокий',\n",
       " 'трава',\n",
       " '\\n\\t\\t',\n",
       " 'прислушаться',\n",
       " 'погоня',\n",
       " '\\n\\t\\t',\n",
       " 'гроза',\n",
       " 'утихнуть',\n",
       " 'бледный',\n",
       " 'свет',\n",
       " '\\n\\t\\t',\n",
       " 'тянулся',\n",
       " 'длинный',\n",
       " 'полоса',\n",
       " '\\n\\t\\t',\n",
       " 'тёмный',\n",
       " 'небо',\n",
       " 'земля',\n",
       " '\\n\\t\\t',\n",
       " 'различать',\n",
       " 'узор',\n",
       " '\\n\\t\\t',\n",
       " 'зубцы',\n",
       " 'далёкий',\n",
       " 'гора',\n",
       " '\\n\\t\\t',\n",
       " 'недвижим',\n",
       " 'молча',\n",
       " 'лежать',\n",
       " '\\n\\t\\t',\n",
       " 'Порой',\n",
       " 'ущелие',\n",
       " 'шакал',\n",
       " '\\n\\t\\t',\n",
       " 'кричал',\n",
       " 'плакать',\n",
       " 'дитя',\n",
       " '\\n\\t\\t',\n",
       " 'гладкий',\n",
       " 'чешуя',\n",
       " 'блестя',\n",
       " '\\n\\t\\t',\n",
       " 'змея',\n",
       " 'скользила',\n",
       " 'камень',\n",
       " '\\n\\t\\t',\n",
       " 'страх',\n",
       " 'сжать',\n",
       " 'душа',\n",
       " '\\n\\t\\t',\n",
       " 'зверь',\n",
       " 'чужд',\n",
       " 'человек',\n",
       " '\\n\\t\\t',\n",
       " 'полз',\n",
       " 'прятаться',\n",
       " 'змея',\n",
       " '\\n\\n\\n\\n',\n",
       " '10',\n",
       " '\\n\\n\\t\\t',\n",
       " 'глубоко',\n",
       " 'под',\n",
       " '\\n\\t\\t',\n",
       " 'поток',\n",
       " 'усилить',\n",
       " 'гроза',\n",
       " '\\n\\t\\t',\n",
       " 'шумел',\n",
       " 'шум',\n",
       " 'глухой',\n",
       " '\\n\\t\\t',\n",
       " 'сердитый',\n",
       " 'сотне',\n",
       " 'голос',\n",
       " '\\n\\t\\t',\n",
       " 'подобился',\n",
       " 'слово',\n",
       " '\\n\\t\\t',\n",
       " 'внятный',\n",
       " 'разговор',\n",
       " '\\n\\t\\t',\n",
       " 'немолчный',\n",
       " 'ропот',\n",
       " 'вечный',\n",
       " 'спор',\n",
       " '\\n\\t\\t',\n",
       " 'упрямой',\n",
       " 'груда',\n",
       " 'камень',\n",
       " '\\n\\t\\t',\n",
       " 'стихал',\n",
       " 'сильный',\n",
       " '\\n\\t\\t',\n",
       " 'раздавался',\n",
       " 'тишина',\n",
       " '\\n\\t\\t',\n",
       " 'туманный',\n",
       " 'вышина',\n",
       " ...]"
      ]
     },
     "execution_count": 8,
     "metadata": {},
     "output_type": "execute_result"
    }
   ],
   "source": [
    "word_lemma=[token.lemma_ for token in doc if not token.is_punct and not token.is_stop]\n",
    "word_lemma"
   ]
  },
  {
   "cell_type": "code",
   "execution_count": 9,
   "metadata": {},
   "outputs": [],
   "source": [
    "word2vec_rus = gensim.downloader.load('word2vec-ruscorpora-300')"
   ]
  },
  {
   "cell_type": "code",
   "execution_count": 10,
   "metadata": {},
   "outputs": [
    {
     "name": "stdout",
     "output_type": "stream",
     "text": [
      "word #0/184973 is весь_DET\n",
      "word #1/184973 is человек_NOUN\n",
      "word #2/184973 is мочь_VERB\n",
      "word #3/184973 is год_NOUN\n",
      "word #4/184973 is сказать_VERB\n",
      "word #5/184973 is время_NOUN\n",
      "word #6/184973 is говорить_VERB\n",
      "word #7/184973 is становиться_VERB\n",
      "word #8/184973 is знать_VERB\n",
      "word #9/184973 is самый_DET\n",
      "word #10/184973 is дело_NOUN\n",
      "word #11/184973 is день_NOUN\n",
      "word #12/184973 is жизнь_NOUN\n",
      "word #13/184973 is рука_NOUN\n",
      "word #14/184973 is очень_ADV\n",
      "word #15/184973 is первый_ADJ\n",
      "word #16/184973 is давать_VERB\n",
      "word #17/184973 is новый_ADJ\n",
      "word #18/184973 is слово_NOUN\n",
      "word #19/184973 is иметь_VERB\n",
      "word #20/184973 is большой_ADJ\n",
      "word #21/184973 is идти_VERB\n",
      "word #22/184973 is глаз_NOUN\n",
      "word #23/184973 is место_NOUN\n",
      "word #24/184973 is лицо_NOUN\n",
      "word #25/184973 is видеть_VERB\n",
      "word #26/184973 is хотеть_VERB\n",
      "word #27/184973 is понимать_VERB\n",
      "word #28/184973 is должный_ADJ\n",
      "word #29/184973 is работа_NOUN\n",
      "word #30/184973 is каждый_DET\n",
      "word #31/184973 is друг_NOUN\n",
      "word #32/184973 is голова_NOUN\n",
      "word #33/184973 is дом_NOUN\n",
      "word #34/184973 is оставаться_VERB\n",
      "word #35/184973 is сторона_NOUN\n",
      "word #36/184973 is начинать_VERB\n",
      "word #37/184973 is думать_VERB\n",
      "word #38/184973 is хорошо_ADV\n",
      "word #39/184973 is жить_VERB\n",
      "word #40/184973 is стоять_VERB\n",
      "word #41/184973 is спрашивать_VERB\n",
      "word #42/184973 is сделать_VERB\n",
      "word #43/184973 is выходить_VERB\n",
      "word #44/184973 is последний_ADJ\n",
      "word #45/184973 is русский_ADJ\n",
      "word #46/184973 is сила_NOUN\n",
      "word #47/184973 is получать_VERB\n",
      "word #48/184973 is какой-то_DET\n",
      "word #49/184973 is хороший_ADJ\n",
      "word #50/184973 is случай_NOUN\n",
      "word #51/184973 is вопрос_NOUN\n",
      "word #52/184973 is отвечать_VERB\n",
      "word #53/184973 is россия_NOUN\n",
      "word #54/184973 is несколько_NUM\n",
      "word #55/184973 is мир_NOUN\n",
      "word #56/184973 is город_NOUN\n",
      "word #57/184973 is делать_VERB\n",
      "word #58/184973 is пойти_VERB\n",
      "word #59/184973 is приходить_VERB\n",
      "word #60/184973 is земля_NOUN\n",
      "word #61/184973 is принимать_VERB\n",
      "word #62/184973 is часть_NOUN\n",
      "word #63/184973 is вид_NOUN\n",
      "word #64/184973 is ребенок_NOUN\n",
      "word #65/184973 is конец_NOUN\n",
      "word #66/184973 is взять_VERB\n",
      "word #67/184973 is всякий_DET\n",
      "word #68/184973 is находить_VERB\n",
      "word #69/184973 is высокий_ADJ\n",
      "word #70/184973 is сидеть_VERB\n",
      "word #71/184973 is что-то_PRON\n",
      "word #72/184973 is отец_NOUN\n",
      "word #73/184973 is оказываться_VERB\n",
      "word #74/184973 is вода_NOUN\n",
      "word #75/184973 is смотреть_VERB\n",
      "word #76/184973 is москва_NOUN\n",
      "word #77/184973 is час_NOUN\n",
      "word #78/184973 is являться_VERB\n",
      "word #79/184973 is народ_NOUN\n",
      "word #80/184973 is любить_VERB\n",
      "word #81/184973 is проходить_VERB\n",
      "word #82/184973 is никто_PRON\n",
      "word #83/184973 is образ_NOUN\n",
      "word #84/184973 is казаться_VERB\n",
      "word #85/184973 is женщина_NOUN\n",
      "word #86/184973 is бог_NOUN\n",
      "word #87/184973 is нога_NOUN\n",
      "word #88/184973 is страна_NOUN\n",
      "word #89/184973 is голос_NOUN\n",
      "word #90/184973 is писать_VERB\n",
      "word #91/184973 is ночь_NOUN\n",
      "word #92/184973 is душа_NOUN\n",
      "word #93/184973 is старый_ADJ\n",
      "word #94/184973 is лишь_PART\n",
      "word #95/184973 is также_ADV\n",
      "word #96/184973 is общий_ADJ\n",
      "word #97/184973 is называть_VERB\n",
      "word #98/184973 is молодой_ADJ\n",
      "word #99/184973 is отношение_NOUN\n"
     ]
    }
   ],
   "source": [
    "for index, word in enumerate(word2vec_rus.index_to_key ):\n",
    "    if index == 100:\n",
    "        break\n",
    "    print(f\"word #{index}/{len(word2vec_rus.index_to_key )} is {word}\")"
   ]
  },
  {
   "cell_type": "code",
   "execution_count": 11,
   "metadata": {},
   "outputs": [
    {
     "data": {
      "text/plain": [
       "array([-0.05950487, -0.01345882,  0.06457529,  0.01528365, -0.0234017 ,\n",
       "        0.02166102,  0.04257304, -0.05525801,  0.04347542, -0.01202083,\n",
       "        0.00194023,  0.0518743 ,  0.00438953,  0.07870395, -0.09223557,\n",
       "       -0.06241931, -0.03849139, -0.01124707,  0.04887959,  0.06372137,\n",
       "        0.01654438, -0.00555366,  0.04499241, -0.04650341, -0.00310416,\n",
       "       -0.03631901, -0.03124071, -0.00805431,  0.08456215, -0.0660138 ,\n",
       "        0.07072331,  0.00713147,  0.11404949, -0.08428705, -0.06864445,\n",
       "        0.07797198, -0.0261909 ,  0.051558  ,  0.07475373,  0.03460463,\n",
       "        0.08646258,  0.07248736, -0.07353248, -0.08696611, -0.01765166,\n",
       "       -0.0297959 ,  0.06719011, -0.01854796,  0.12227409,  0.00946705,\n",
       "       -0.0086838 ,  0.00607695, -0.05945855,  0.03866083, -0.02955061,\n",
       "       -0.03590177, -0.06075115, -0.03827858, -0.06730787,  0.10364042,\n",
       "       -0.03436564, -0.00960685, -0.00217155, -0.07469261, -0.00330217,\n",
       "       -0.12500401,  0.06362807,  0.04614907, -0.05174299, -0.07786435,\n",
       "       -0.02276149,  0.04341863, -0.04141486,  0.0045445 , -0.0486054 ,\n",
       "       -0.00411992,  0.02028944, -0.00830432,  0.01553273,  0.06157091,\n",
       "        0.07747111,  0.11326789, -0.02134162, -0.01829429, -0.11514113,\n",
       "       -0.05379955, -0.03276182,  0.09262062, -0.0165497 ,  0.03098956,\n",
       "        0.00184851,  0.03090358, -0.05212207, -0.06653386, -0.03296217,\n",
       "       -0.00562687, -0.03526333, -0.04191884,  0.07352865,  0.05054431,\n",
       "       -0.03267272, -0.01795051,  0.02913569,  0.05369779,  0.0453505 ,\n",
       "        0.01444289,  0.04393875,  0.02092146, -0.060004  ,  0.02005108,\n",
       "        0.0540642 ,  0.03629259, -0.07053883, -0.03532028,  0.07259429,\n",
       "        0.01867627,  0.06478049, -0.07969441,  0.03253521,  0.07713483,\n",
       "        0.05470255, -0.04555529, -0.07674775, -0.05094837,  0.00962711,\n",
       "       -0.08654051, -0.09313283, -0.04510461,  0.03015001,  0.08915856,\n",
       "        0.01383851, -0.09843457,  0.02768023, -0.0520905 , -0.06062248,\n",
       "       -0.00844946,  0.01490849, -0.06106925,  0.01152682, -0.05165861,\n",
       "        0.11721099, -0.02030121, -0.03926794,  0.03394064, -0.07811308,\n",
       "       -0.05141205, -0.05304989,  0.02746551,  0.08362956, -0.00084673,\n",
       "        0.00231983,  0.05057197,  0.01773089,  0.00893406,  0.03102357,\n",
       "        0.0199158 , -0.02219211, -0.01688409, -0.04364456, -0.05115697,\n",
       "        0.05169709, -0.0244325 , -0.03739554, -0.02382439, -0.04284663,\n",
       "       -0.13928539,  0.04081688,  0.04236073, -0.08892651, -0.02939656,\n",
       "        0.04272572,  0.02400151,  0.05413675,  0.01200211,  0.06884579,\n",
       "        0.13619734, -0.03594978, -0.00230013,  0.05004974, -0.06908093,\n",
       "        0.03298079, -0.02071268, -0.04121557, -0.00726011,  0.0511879 ,\n",
       "        0.00158416,  0.08995155, -0.0388053 , -0.04556158, -0.03011283,\n",
       "       -0.01823994,  0.08674449, -0.11052745, -0.07093392, -0.05111319,\n",
       "        0.076724  ,  0.03300041,  0.09157341, -0.06312497, -0.14989398,\n",
       "        0.04833723,  0.002175  , -0.09761273,  0.0147243 , -0.01517811,\n",
       "       -0.13993782, -0.11446846, -0.01900742, -0.06820658,  0.09846011,\n",
       "       -0.07953152,  0.10239119,  0.02974956,  0.01292231, -0.00516294,\n",
       "       -0.00119912, -0.04768344, -0.0589238 ,  0.0372652 ,  0.07321338,\n",
       "        0.00985238, -0.00672568, -0.04557856, -0.00935693,  0.00029822,\n",
       "       -0.11899817,  0.08798368,  0.08519685,  0.05683916,  0.06102346,\n",
       "        0.05605802, -0.02423995,  0.05482191,  0.07968302,  0.00458087,\n",
       "       -0.03015106, -0.04953611,  0.0311696 , -0.18872555, -0.03657574,\n",
       "        0.10068379,  0.10737642, -0.05997644, -0.06319691, -0.05574574,\n",
       "       -0.00579828,  0.03711769, -0.05936799, -0.03512075, -0.01341863,\n",
       "       -0.16604646,  0.02469012, -0.0545616 ,  0.01330158,  0.06845044,\n",
       "        0.06980762,  0.0511995 ,  0.01181416,  0.04953983,  0.04081329,\n",
       "        0.06959643,  0.03301943, -0.01579902,  0.02352611,  0.01981734,\n",
       "       -0.04512145, -0.01910646,  0.03545673,  0.0192427 , -0.12688248,\n",
       "        0.030751  , -0.06014585,  0.0291395 , -0.03428779,  0.07607051,\n",
       "       -0.02549342,  0.00842356,  0.00646583,  0.05655451, -0.01251518,\n",
       "       -0.00590736, -0.0841425 , -0.01360666,  0.02797179, -0.05140039,\n",
       "        0.00126857, -0.06614957,  0.02641297,  0.0879097 ,  0.08347746,\n",
       "       -0.0871853 , -0.08000962,  0.0175141 , -0.02108913, -0.02007564,\n",
       "        0.03967104, -0.02185963,  0.07465205, -0.05499969,  0.09533106],\n",
       "      dtype=float32)"
      ]
     },
     "execution_count": 11,
     "metadata": {},
     "output_type": "execute_result"
    }
   ],
   "source": [
    "with open(\"5. Мцыри.txt\") as file:\n",
    "    text=file.read()\n",
    "word2vec_rus['степь_NOUN']"
   ]
  },
  {
   "cell_type": "code",
   "execution_count": 12,
   "metadata": {},
   "outputs": [
    {
     "data": {
      "text/plain": [
       "array([-7.60441720e-02, -4.85945959e-03,  3.02168280e-02, -3.35113262e-03,\n",
       "        3.57887372e-02,  4.10757363e-02,  5.55366427e-02, -3.77185047e-02,\n",
       "       -3.67261432e-02, -2.16879472e-02, -1.40493251e-02, -1.62023827e-01,\n",
       "        3.49758081e-02, -1.23915989e-02, -7.71931326e-03,  4.26220102e-03,\n",
       "        5.01868948e-02, -1.61045771e-02,  8.99113622e-03,  1.49889579e-02,\n",
       "        4.96672513e-03,  7.48673677e-02, -7.96627104e-02, -1.39449618e-03,\n",
       "       -3.36446799e-02,  1.62688754e-02, -3.28120477e-02, -9.09902155e-03,\n",
       "       -2.76853740e-02, -5.13182245e-02, -4.07193080e-02,  7.04087541e-02,\n",
       "        1.64160863e-01, -3.00301053e-02,  9.41278785e-02,  3.45296301e-02,\n",
       "       -4.93722111e-02, -1.33885047e-03, -6.06093928e-02,  4.89538312e-02,\n",
       "       -2.23819073e-02, -5.64162582e-02,  6.96919486e-02, -7.60866702e-03,\n",
       "        8.44100192e-02,  3.13033611e-02,  7.20430315e-02,  1.87149029e-02,\n",
       "        1.64968327e-01, -1.56983376e-01, -9.34784039e-05,  9.29332897e-02,\n",
       "        1.22827090e-01, -9.78166386e-02,  9.74408686e-02, -7.34309666e-04,\n",
       "       -1.04665644e-01, -5.13648195e-03, -7.17438310e-02, -3.97979207e-02,\n",
       "       -2.57282145e-02, -1.56995729e-02,  8.70814472e-02,  1.29095074e-02,\n",
       "       -3.67094018e-02,  8.24341737e-03, -9.82595012e-02,  1.43783716e-02,\n",
       "        2.38136891e-02,  6.82022646e-02,  1.21131567e-02,  2.04356890e-02,\n",
       "       -3.61006707e-02,  1.95695646e-02,  6.24139868e-02,  3.51527855e-02,\n",
       "        5.62262572e-02,  1.52528167e-01, -4.58741561e-02, -1.12460200e-02,\n",
       "        9.68564767e-03,  9.56644863e-02, -8.31527784e-02,  6.68482780e-02,\n",
       "       -5.17628714e-03,  2.24166848e-02,  9.53694582e-02, -7.33739464e-03,\n",
       "       -9.63047221e-02, -2.13398878e-02,  9.24087167e-02,  9.92065668e-02,\n",
       "       -6.75646588e-02, -8.90504047e-02,  9.19924006e-02,  4.73320968e-02,\n",
       "        2.63245814e-02,  1.10261180e-02, -5.40867113e-02,  1.86663549e-02,\n",
       "       -1.39516937e-02, -4.52130847e-02, -1.15285292e-02,  6.81798998e-03,\n",
       "       -1.12928167e-01,  5.21432385e-02, -5.44841401e-02, -2.80271713e-02,\n",
       "       -4.02326286e-02, -3.55469459e-03,  3.50727178e-02,  7.49843642e-02,\n",
       "       -9.91357937e-02,  4.24456187e-02, -5.44141680e-02,  9.86122340e-03,\n",
       "       -1.08011989e-02,  9.21689644e-02,  4.82662842e-02,  1.19035617e-01,\n",
       "       -4.03954014e-02,  1.62511896e-02,  3.19216680e-03, -2.90492475e-02,\n",
       "        4.70962754e-04,  1.01211421e-01, -1.51070748e-02, -2.10443214e-02,\n",
       "        3.31029412e-03, -4.97539677e-02, -2.94572543e-02, -6.31892607e-02,\n",
       "       -7.88602307e-02,  4.85548563e-02, -5.01859002e-02, -3.96889448e-02,\n",
       "       -6.38313890e-02, -4.58120517e-02,  7.19817877e-02,  2.30395533e-02,\n",
       "       -5.96943907e-02,  3.06005366e-02, -2.70663500e-02,  1.08723976e-02,\n",
       "       -2.06701178e-02, -6.80728555e-02,  1.25444168e-03,  2.98669226e-02,\n",
       "        4.76741567e-02,  4.02032658e-02,  2.44091242e-03, -9.07671079e-03,\n",
       "       -5.60413562e-02, -3.21405716e-02, -3.62591073e-02,  6.18172102e-02,\n",
       "        3.71741541e-02, -2.88069248e-02, -6.25967756e-02,  1.46846138e-02,\n",
       "       -3.02410778e-02,  3.32023688e-02, -1.07765310e-02,  2.08001472e-02,\n",
       "       -3.65161635e-02, -3.10002118e-02,  2.28891242e-02, -3.72122042e-02,\n",
       "        1.36558395e-02, -2.09289659e-02,  1.07879169e-01, -4.81139049e-02,\n",
       "        7.78769085e-04,  1.73075199e-02,  5.58346808e-02,  6.15494996e-02,\n",
       "        4.19200733e-02,  1.09578371e-01, -1.56010324e-02, -7.49626830e-02,\n",
       "       -1.97075065e-02,  3.01924553e-02,  1.59033425e-02,  1.69072002e-02,\n",
       "       -4.38102856e-02, -6.97314814e-02,  7.05370605e-02, -4.43627639e-03,\n",
       "        1.81879234e-02,  2.82567274e-02, -1.76565796e-02,  1.07838623e-01,\n",
       "       -3.14307325e-02,  9.59717855e-03, -4.72578406e-02,  3.47918943e-02,\n",
       "       -6.24833666e-02, -6.31779283e-02,  2.12500039e-02, -1.18879460e-01,\n",
       "       -4.07955982e-02, -4.15876992e-02, -9.05607194e-02, -7.32669234e-02,\n",
       "       -1.02101311e-01,  8.89164489e-03, -3.51406857e-02, -3.71439531e-02,\n",
       "        1.89685021e-02,  9.90255475e-02,  5.80673888e-02,  1.46540171e-02,\n",
       "       -5.65002412e-02, -1.76423211e-02, -1.99484732e-02,  5.75501993e-02,\n",
       "        1.36035783e-02,  5.10320663e-02, -7.04152137e-02,  2.03035753e-02,\n",
       "       -8.52639973e-03, -7.57437665e-03, -2.23625824e-02, -1.34778917e-02,\n",
       "        5.05088940e-02,  2.35497784e-02, -8.44524205e-02, -2.56464574e-02,\n",
       "        3.66240405e-02,  4.16513681e-02,  1.58768758e-01, -3.94669734e-02,\n",
       "        5.90171479e-02, -3.46595384e-02, -8.71932879e-02, -9.57712159e-03,\n",
       "       -1.03289858e-01,  1.72434356e-02,  3.72376759e-03, -7.87465945e-02,\n",
       "       -9.70678590e-03, -3.27261351e-02, -6.59000650e-02,  1.49216661e-02,\n",
       "       -1.09819397e-01,  2.48814630e-03,  1.77973248e-02,  7.74812046e-03,\n",
       "       -7.69546777e-02, -7.09558558e-03, -1.41779795e-01, -3.24379653e-02,\n",
       "       -5.17972074e-02,  8.27089399e-02,  5.26985265e-02, -7.56045133e-02,\n",
       "        2.89847981e-02,  1.66014601e-02,  4.33042385e-02,  1.43334627e-01,\n",
       "       -1.31130412e-01,  5.42265475e-02, -7.53601119e-02,  4.12707962e-02,\n",
       "        2.40889937e-02, -1.30230105e-02, -3.21911164e-02,  2.73373164e-02,\n",
       "       -8.93401206e-02, -5.30667193e-02,  6.13463037e-02,  1.21339545e-01,\n",
       "       -2.28289142e-02,  8.58954787e-02,  2.31436659e-02, -3.85987177e-03,\n",
       "        5.18894084e-02,  1.57290325e-02, -4.19116719e-03,  9.08893272e-02,\n",
       "        2.00489927e-02, -6.07108958e-02,  6.06194437e-02,  2.48527899e-02,\n",
       "       -6.72653541e-02,  8.03126767e-03, -2.81613711e-02, -4.52120528e-02,\n",
       "       -7.41147399e-02,  3.99474613e-02, -7.13908275e-06,  1.79763639e-03,\n",
       "       -8.04952681e-02, -1.66655723e-02, -2.43658270e-03, -1.30800575e-01,\n",
       "        7.39597604e-02,  2.89314557e-02,  3.85923721e-02,  3.85516621e-02],\n",
       "      dtype=float32)"
      ]
     },
     "execution_count": 12,
     "metadata": {},
     "output_type": "execute_result"
    }
   ],
   "source": [
    "word2vec_rus['мешать_VERB']"
   ]
  },
  {
   "cell_type": "code",
   "execution_count": 13,
   "metadata": {},
   "outputs": [
    {
     "data": {
      "text/plain": [
       "[('столица_NOUN', 0.7531285285949707),\n",
       " ('городок_NOUN', 0.6759740710258484),\n",
       " ('пригород_NOUN', 0.6656257510185242),\n",
       " ('змеиногорск_NOUN', 0.5898292064666748),\n",
       " ('алейск_NOUN', 0.5786314606666565),\n",
       " ('городишко_NOUN', 0.5773905515670776),\n",
       " ('житель_NOUN', 0.5769262313842773),\n",
       " ('предместье_NOUN', 0.5766657590866089),\n",
       " ('москва_NOUN', 0.5756790041923523),\n",
       " ('городской_ADJ', 0.568057119846344)]"
      ]
     },
     "execution_count": 13,
     "metadata": {},
     "output_type": "execute_result"
    }
   ],
   "source": [
    "word2vec_rus.most_similar(['город_NOUN'])"
   ]
  },
  {
   "cell_type": "code",
   "execution_count": 14,
   "metadata": {},
   "outputs": [
    {
     "data": {
      "text/plain": [
       "array([-7.30053186e-02,  3.18641551e-02, -3.01777627e-02,  8.19607750e-02,\n",
       "        4.00776006e-02, -9.64851752e-02, -9.31130350e-02,  4.15109433e-02,\n",
       "       -3.21416333e-02, -1.45641100e-02, -1.08882040e-01, -6.21969663e-02,\n",
       "       -2.73373676e-03,  1.03082225e-01, -5.03945164e-02, -4.04931828e-02,\n",
       "       -3.40246707e-02,  8.89477972e-03, -9.91118513e-03,  8.94192141e-03,\n",
       "        4.40810360e-02,  1.31105948e-02,  1.01528096e-03,  2.47828290e-02,\n",
       "       -7.99893662e-02,  8.13474655e-02,  6.71715140e-02,  5.58774769e-02,\n",
       "       -7.36987516e-02, -1.30628303e-01, -4.43213508e-02,  4.99581397e-02,\n",
       "        8.52892920e-02, -6.64615855e-02, -8.25198889e-02,  2.68014371e-02,\n",
       "        1.84218530e-02, -6.14512116e-02, -6.02672249e-02,  2.33416737e-04,\n",
       "        3.68062779e-02,  2.61303373e-02,  5.15287742e-02,  6.31721318e-02,\n",
       "        2.16469057e-02,  3.37160714e-02,  6.25306591e-02,  8.95027816e-02,\n",
       "        2.18204986e-02,  1.25417951e-02, -5.39123220e-03,  6.35322854e-02,\n",
       "        4.52649370e-02, -5.94566390e-02,  3.31779942e-02, -1.55379781e-02,\n",
       "        2.33881846e-02,  6.86713774e-03, -1.08643994e-01, -7.07200309e-03,\n",
       "       -2.70866137e-03,  1.12492606e-01, -7.13577271e-02, -4.48371023e-02,\n",
       "       -3.36467363e-02,  5.86210452e-02, -6.45632744e-02,  5.52782901e-02,\n",
       "       -2.43358891e-02, -6.75068051e-03, -4.74925637e-02, -3.81757435e-03,\n",
       "       -2.89321132e-02,  7.11066499e-02,  1.59260519e-02, -1.70428548e-02,\n",
       "        1.71579435e-01, -1.24901300e-02,  9.95092746e-03, -2.82717943e-02,\n",
       "       -3.90741937e-02,  1.20128773e-01, -1.48633374e-02, -3.89646180e-02,\n",
       "        5.22117913e-02,  1.90096684e-02,  2.12298874e-02,  8.99818316e-02,\n",
       "        2.74185836e-02, -2.03688105e-04, -1.33350575e-02,  4.49499581e-03,\n",
       "        4.59033344e-03, -6.10680357e-02, -5.55316024e-02,  1.38962701e-01,\n",
       "       -8.87696864e-04,  7.16806799e-02, -8.38686153e-02, -4.07690927e-02,\n",
       "       -2.56533567e-02, -3.25586759e-02, -9.92326252e-03, -9.45244636e-03,\n",
       "       -1.00232646e-01,  6.14527576e-02, -1.44841932e-02,  3.19668949e-02,\n",
       "       -3.02860439e-02,  2.01638807e-02, -4.88275662e-02,  1.32631995e-02,\n",
       "       -4.64475229e-02, -3.61768082e-02, -9.60659888e-03,  2.27099215e-03,\n",
       "       -4.00555916e-02,  6.15607835e-02, -2.67649442e-02, -7.02866586e-03,\n",
       "        2.09300965e-02, -3.65572125e-02,  7.89486989e-02, -8.94557834e-02,\n",
       "        5.25984056e-02,  4.01669480e-02, -1.67128891e-02,  4.98757362e-02,\n",
       "       -4.04065661e-02, -3.52992453e-02, -3.86546254e-02,  9.81734246e-02,\n",
       "        6.94762217e-03,  1.27817306e-03, -5.72646149e-02,  6.97137183e-03,\n",
       "       -5.44380508e-02,  3.79415788e-02,  5.63273914e-02,  5.46520613e-02,\n",
       "        8.21877494e-02, -3.16821109e-03, -4.91202772e-02,  3.95696908e-02,\n",
       "       -1.46945938e-01,  5.34444824e-02, -1.12266861e-01, -6.57858700e-02,\n",
       "        1.24010414e-01,  4.93306480e-02, -8.90818704e-03, -8.12941268e-02,\n",
       "       -7.06581399e-02, -6.08044164e-03,  7.25867553e-03,  6.80082291e-03,\n",
       "        4.03696112e-02, -4.36769463e-02,  4.79576131e-03,  1.72423739e-02,\n",
       "       -8.17595944e-02, -7.09375590e-02, -1.34776399e-01, -7.04255477e-02,\n",
       "       -1.88499615e-02, -4.92547862e-02,  2.85262591e-03, -7.97331929e-02,\n",
       "       -4.76503372e-02,  1.57323275e-02,  5.43488339e-02, -5.53276427e-02,\n",
       "        5.00054322e-02,  2.52909726e-03,  3.44814062e-02,  3.29890996e-02,\n",
       "        7.42597952e-02,  6.97588027e-02,  2.28679962e-02, -6.89872056e-02,\n",
       "       -7.56566459e-03,  2.83463281e-02, -7.36825215e-03,  3.53383645e-02,\n",
       "       -9.77912452e-04, -7.84922671e-03,  9.25362706e-02, -3.79726961e-02,\n",
       "        9.97303240e-03, -7.84059428e-03, -4.35819961e-02, -2.03792518e-03,\n",
       "       -8.02044794e-02, -7.78804868e-02,  1.32708577e-02, -4.65601534e-02,\n",
       "        2.75911372e-02, -3.40469107e-02,  3.26518975e-02, -4.41396087e-02,\n",
       "       -7.13729933e-02, -1.39967622e-02, -2.98067406e-02, -8.16674605e-02,\n",
       "       -2.68885810e-02,  6.90663059e-04,  4.17630300e-02, -3.93209681e-02,\n",
       "        4.29699607e-02,  4.92703766e-02, -7.62726273e-03,  1.88860707e-02,\n",
       "       -1.09099112e-01,  8.73992249e-05,  3.63660231e-02,  4.19202372e-02,\n",
       "       -2.18157582e-02,  7.66422004e-02, -1.90494284e-02,  3.66113074e-02,\n",
       "       -7.10335793e-03, -3.92664894e-02,  3.30033302e-02,  7.74410293e-02,\n",
       "        6.44726027e-03, -5.93876988e-02,  1.06002197e-01, -3.10511496e-02,\n",
       "        8.52465853e-02, -1.26301125e-01,  9.28217731e-03,  3.42055149e-02,\n",
       "       -8.57848674e-02,  4.66536097e-02, -1.40923187e-01, -9.95344017e-03,\n",
       "       -5.44941239e-02,  3.72781530e-02, -2.14844346e-02, -6.75282329e-02,\n",
       "        8.26181471e-02,  6.89555556e-02, -2.26657968e-02, -5.95814809e-02,\n",
       "       -5.91049865e-02,  1.19073182e-01, -3.71499062e-02,  1.29827103e-02,\n",
       "       -5.75134195e-02,  1.93563011e-02, -1.02742553e-01, -1.04431204e-01,\n",
       "        5.78627698e-02,  1.34748295e-01,  8.05525333e-02,  8.11046436e-02,\n",
       "        1.19039454e-01,  6.17263727e-02,  1.00212857e-01,  2.50581615e-02,\n",
       "       -3.19925398e-02,  9.01831686e-02, -3.78970243e-02,  2.18413882e-02,\n",
       "       -1.27459979e-02,  1.01981729e-01,  3.01188231e-02, -8.09012279e-02,\n",
       "       -1.14689715e-01, -2.31913961e-02,  3.29018794e-02, -4.63397950e-02,\n",
       "        3.83531079e-02,  1.26837045e-01, -5.16506843e-02,  5.95844537e-02,\n",
       "        3.86061817e-02, -8.65414087e-03, -4.60460074e-02, -3.72831002e-02,\n",
       "       -1.06585935e-01, -8.74119624e-02,  9.05300770e-03,  4.79001254e-02,\n",
       "       -4.78483737e-02, -1.43256942e-02,  1.20967356e-02, -8.48146901e-03,\n",
       "       -4.27297428e-02,  1.00087985e-01, -5.08196391e-02, -1.72980782e-03,\n",
       "       -1.67247746e-02, -1.45332692e-02, -2.16965694e-02, -1.42581463e-01,\n",
       "       -2.65278146e-02,  1.75415985e-02, -1.94587968e-02, -1.65884867e-02],\n",
       "      dtype=float32)"
      ]
     },
     "execution_count": 14,
     "metadata": {},
     "output_type": "execute_result"
    }
   ],
   "source": [
    "word2vec_rus['слушать_VERB']"
   ]
  },
  {
   "cell_type": "code",
   "execution_count": 15,
   "metadata": {},
   "outputs": [
    {
     "data": {
      "text/plain": [
       "[('вслушиваться_VERB', 0.7044488191604614),\n",
       " ('послушать_VERB', 0.6831687688827515),\n",
       " ('выслушивать_VERB', 0.6738995313644409),\n",
       " ('прислушиваться_VERB', 0.6361674666404724),\n",
       " ('слышать_VERB', 0.6284617185592651),\n",
       " ('прослушивать_VERB', 0.6256557703018188),\n",
       " ('внимать_VERB', 0.6103235483169556),\n",
       " ('молчать_VERB', 0.5755017399787903),\n",
       " ('дослушивать_VERB', 0.5738885402679443),\n",
       " ('услышать_VERB', 0.5565181374549866)]"
      ]
     },
     "execution_count": 15,
     "metadata": {},
     "output_type": "execute_result"
    }
   ],
   "source": [
    "word2vec_rus.most_similar(['слушать_VERB'])"
   ]
  },
  {
   "cell_type": "code",
   "execution_count": 16,
   "metadata": {},
   "outputs": [
    {
     "data": {
      "text/plain": [
       "[('1', 'CD'),\n",
       " ('Немного', 'JJ'),\n",
       " ('лет', 'NNP'),\n",
       " ('тому', 'NNP'),\n",
       " ('назад', 'NNP'),\n",
       " (',', ','),\n",
       " ('Там', 'NNP'),\n",
       " (',', ','),\n",
       " ('где', 'NNP'),\n",
       " ('сливаяся', 'NNP'),\n",
       " ('шумят', 'NNP'),\n",
       " ('Обнявшись', 'NNP'),\n",
       " (',', ','),\n",
       " ('будто', 'NNP'),\n",
       " ('две', 'NNP'),\n",
       " ('сестры', 'NNP'),\n",
       " (',', ','),\n",
       " ('Струи', 'NNP'),\n",
       " ('Арагвы', 'NNP'),\n",
       " ('и', 'NNP'),\n",
       " ('Куры', 'NNP'),\n",
       " (',', ','),\n",
       " ('Был', 'NNP'),\n",
       " ('монастырь', 'NNP'),\n",
       " ('.', '.'),\n",
       " ('Из-за', 'JJ'),\n",
       " ('горы', 'JJ'),\n",
       " ('И', 'NN'),\n",
       " ('нынче', 'NNP'),\n",
       " ('видит', 'NNP'),\n",
       " ('пешеход', 'NNP'),\n",
       " ('Столбы', 'NNP'),\n",
       " ('обрушенных', 'NNP'),\n",
       " ('ворот', 'NNP'),\n",
       " (',', ','),\n",
       " ('И', 'NNP'),\n",
       " ('башни', 'NNP'),\n",
       " (',', ','),\n",
       " ('и', 'NNP'),\n",
       " ('церковный', 'NNP'),\n",
       " ('свод', 'NNP'),\n",
       " (';', ':'),\n",
       " ('Но', 'NNP'),\n",
       " ('не', 'NNP'),\n",
       " ('курится', 'NNP'),\n",
       " ('уж', 'NNP'),\n",
       " ('под', 'NNP'),\n",
       " ('ним', 'NNP'),\n",
       " ('Кадильниц', 'NNP'),\n",
       " ('благовонный', 'NNP'),\n",
       " ('дым', 'NNP'),\n",
       " (',', ','),\n",
       " ('Не', 'NNP'),\n",
       " ('слышно', 'NNP'),\n",
       " ('пенье', 'NNP'),\n",
       " ('в', 'NNP'),\n",
       " ('поздний', 'NNP'),\n",
       " ('час', 'NNP'),\n",
       " ('Молящих', 'NNP'),\n",
       " ('иноков', 'NNP'),\n",
       " ('за', 'NNP'),\n",
       " ('нас', 'NNP'),\n",
       " ('.', '.'),\n",
       " ('Теперь', 'VB'),\n",
       " ('один', 'JJ'),\n",
       " ('старик', 'NNP'),\n",
       " ('седой', 'NNP'),\n",
       " (',', ','),\n",
       " ('Развалин', 'NNP'),\n",
       " ('страж', 'NNP'),\n",
       " ('полуживой', 'NNP'),\n",
       " (',', ','),\n",
       " ('Людьми', 'NNP'),\n",
       " ('и', 'NNP'),\n",
       " ('смертию', 'NNP'),\n",
       " ('забыт', 'NNP'),\n",
       " (',', ','),\n",
       " ('Сметает', 'NNP'),\n",
       " ('пыль', 'NNP'),\n",
       " ('с', 'NNP'),\n",
       " ('могильных', 'NNP'),\n",
       " ('плит', 'NNP'),\n",
       " (',', ','),\n",
       " ('Которых', 'NNP'),\n",
       " ('надпись', 'NNP'),\n",
       " ('говорит', 'NNP'),\n",
       " ('О', 'NNP'),\n",
       " ('славе', 'NNP'),\n",
       " ('прошлой', 'NNP'),\n",
       " ('–', 'NNP'),\n",
       " ('и', 'NNP'),\n",
       " ('о', 'NNP'),\n",
       " ('том', 'NNP'),\n",
       " (',', ','),\n",
       " ('Как', 'NNP'),\n",
       " ('удручен', 'NNP'),\n",
       " ('своим', 'NNP'),\n",
       " ('венцом', 'NNP'),\n",
       " (',', ','),\n",
       " ('Такой-то', 'JJ'),\n",
       " ('царь', 'NN'),\n",
       " (',', ','),\n",
       " ('в', 'JJ'),\n",
       " ('такой-то', 'JJ'),\n",
       " ('год', 'NN'),\n",
       " (',', ','),\n",
       " ('Вручал', 'NNP'),\n",
       " ('России', 'NNP'),\n",
       " ('свой', 'NNP'),\n",
       " ('народ', 'NNP'),\n",
       " ('.', '.'),\n",
       " ('И', 'VB'),\n",
       " ('божья', 'JJ'),\n",
       " ('благодать', 'NNP'),\n",
       " ('сошла', 'NNP'),\n",
       " ('На', 'NNP'),\n",
       " ('Грузию', 'NN'),\n",
       " ('!', '.'),\n",
       " ('–', 'JJ'),\n",
       " ('она', 'JJ'),\n",
       " ('цвела', 'NN'),\n",
       " ('С', 'NNP'),\n",
       " ('тех', 'NNP'),\n",
       " ('пор', 'NNP'),\n",
       " ('в', 'NNP'),\n",
       " ('тени', 'NNP'),\n",
       " ('своих', 'NNP'),\n",
       " ('садов', 'NNP'),\n",
       " (',', ','),\n",
       " ('Не', 'NNP'),\n",
       " ('опасаяся', 'NNP'),\n",
       " ('врагов', 'NNP'),\n",
       " (',', ','),\n",
       " ('За', 'NNP'),\n",
       " ('гранью', 'NNP'),\n",
       " ('дружеских', 'NNP'),\n",
       " ('штыков', 'NNP'),\n",
       " ('.', '.'),\n",
       " ('2', 'CD'),\n",
       " ('Однажды', 'JJ'),\n",
       " ('русский', 'NNP'),\n",
       " ('генерал', 'NNP'),\n",
       " ('Из', 'NNP'),\n",
       " ('гор', 'NNP'),\n",
       " ('к', 'NNP'),\n",
       " ('Тифлису', 'NNP'),\n",
       " ('проезжал', 'NNP'),\n",
       " (';', ':'),\n",
       " ('Ребенка', 'NNP'),\n",
       " ('пленного', 'NNP'),\n",
       " ('он', 'NNP'),\n",
       " ('вез', 'NNP'),\n",
       " ('.', '.'),\n",
       " ('Тот', 'NN'),\n",
       " ('занемог', 'NN'),\n",
       " (',', ','),\n",
       " ('не', 'NNP'),\n",
       " ('перенес', 'NNP'),\n",
       " ('Трудов', 'NNP'),\n",
       " ('далекого', 'NNP'),\n",
       " ('пути', 'NNP'),\n",
       " ('.', '.'),\n",
       " ('Он', 'NN'),\n",
       " ('был', 'NN'),\n",
       " (',', ','),\n",
       " ('казалось', 'NNP'),\n",
       " (',', ','),\n",
       " ('лет', 'NNP'),\n",
       " ('шести', 'NNP'),\n",
       " (';', ':'),\n",
       " ('Как', 'NNP'),\n",
       " ('серна', 'NNP'),\n",
       " ('гор', 'NNP'),\n",
       " (',', ','),\n",
       " ('пуглив', 'NNP'),\n",
       " ('и', 'NNP'),\n",
       " ('дик', 'NNP'),\n",
       " ('И', 'NNP'),\n",
       " ('слаб', 'NNP'),\n",
       " ('и', 'NNP'),\n",
       " ('гибок', 'NNP'),\n",
       " (',', ','),\n",
       " ('как', 'NNP'),\n",
       " ('тростник', 'NNP'),\n",
       " ('.', '.'),\n",
       " ('Но', 'VB'),\n",
       " ('в', 'JJ'),\n",
       " ('нем', 'NNP'),\n",
       " ('мучительный', 'NNP'),\n",
       " ('недуг', 'NNP'),\n",
       " ('Развил', 'NNP'),\n",
       " ('тогда', 'NNP'),\n",
       " ('могучий', 'NNP'),\n",
       " ('дух', 'NNP'),\n",
       " ('Его', 'NNP'),\n",
       " ('отцов', 'NNP'),\n",
       " ('.', '.'),\n",
       " ('Без', 'VB'),\n",
       " ('жалоб', 'JJ'),\n",
       " ('он', 'NNP'),\n",
       " ('Томился', 'NNP'),\n",
       " ('–', 'NNP'),\n",
       " ('даже', 'NNP'),\n",
       " ('слабый', 'NNP'),\n",
       " ('стон', 'NNP'),\n",
       " ('Из', 'NNP'),\n",
       " ('детских', 'NNP'),\n",
       " ('губ', 'NNP'),\n",
       " ('не', 'NNP'),\n",
       " ('вылетал', 'NNP'),\n",
       " (',', ','),\n",
       " ('Он', 'NNP'),\n",
       " ('знаком', 'NNP'),\n",
       " ('пищу', 'NNP'),\n",
       " ('отвергал', 'NNP'),\n",
       " (',', ','),\n",
       " ('И', 'NNP'),\n",
       " ('тихо', 'NNP'),\n",
       " (',', ','),\n",
       " ('гордо', 'NNP'),\n",
       " ('умирал', 'NNP'),\n",
       " ('.', '.'),\n",
       " ('Из', 'VB'),\n",
       " ('жалости', 'JJ'),\n",
       " ('один', 'NNP'),\n",
       " ('монах', 'NNP'),\n",
       " ('Больного', 'NNP'),\n",
       " ('призрел', 'NNP'),\n",
       " (',', ','),\n",
       " ('и', 'NNP'),\n",
       " ('в', 'NNP'),\n",
       " ('стенах', 'NNP'),\n",
       " ('Хранительных', 'NNP'),\n",
       " ('остался', 'NNP'),\n",
       " ('он', 'NNP'),\n",
       " ('Искусством', 'NNP'),\n",
       " ('дружеским', 'NNP'),\n",
       " ('спасен', 'NNP'),\n",
       " ('.', '.'),\n",
       " ('Но', 'NN'),\n",
       " (',', ','),\n",
       " ('чужд', 'NNP'),\n",
       " ('ребяческих', 'NNP'),\n",
       " ('утех', 'NNP'),\n",
       " (',', ','),\n",
       " ('Сначала', 'NNP'),\n",
       " ('бегал', 'NNP'),\n",
       " ('он', 'NNP'),\n",
       " ('от', 'NNP'),\n",
       " ('всех', 'NNP'),\n",
       " (',', ','),\n",
       " ('Бродил', 'NNP'),\n",
       " ('безмолвен', 'NNP'),\n",
       " (',', ','),\n",
       " ('одинок', 'NNP'),\n",
       " (',', ','),\n",
       " ('Смотрел', 'NNP'),\n",
       " ('вздыхая', 'NNP'),\n",
       " ('на', 'NNP'),\n",
       " ('восток', 'NNP'),\n",
       " (',', ','),\n",
       " ('Томим', 'NNP'),\n",
       " ('неясною', 'NNP'),\n",
       " ('тоской', 'NNP'),\n",
       " ('По', 'NNP'),\n",
       " ('стороне', 'NNP'),\n",
       " ('своей', 'NNP'),\n",
       " ('родной', 'NNP'),\n",
       " ('.', '.'),\n",
       " ('Но', 'VB'),\n",
       " ('после', 'JJ'),\n",
       " ('к', 'NNP'),\n",
       " ('плену', 'NNP'),\n",
       " ('он', 'NNP'),\n",
       " ('привык', 'NNP'),\n",
       " (',', ','),\n",
       " ('Стал', 'NNP'),\n",
       " ('понимать', 'NNP'),\n",
       " ('чужой', 'NNP'),\n",
       " ('язык', 'NNP'),\n",
       " (',', ','),\n",
       " ('Был', 'NNP'),\n",
       " ('окрещен', 'NNP'),\n",
       " ('святым', 'NNP'),\n",
       " ('отцом', 'NNP'),\n",
       " (',', ','),\n",
       " ('И', 'NNP'),\n",
       " (',', ','),\n",
       " ('с', 'NNP'),\n",
       " ('шумным', 'NNP'),\n",
       " ('светом', 'NNP'),\n",
       " ('незнаком', 'NNP'),\n",
       " (',', ','),\n",
       " ('Уже', 'NNP'),\n",
       " ('хотел', 'NNP'),\n",
       " ('во', 'NNP'),\n",
       " ('цвете', 'NNP'),\n",
       " ('лет', 'NNP'),\n",
       " ('Изречь', 'NNP'),\n",
       " ('монашеский', 'NNP'),\n",
       " ('обет', 'NNP'),\n",
       " (',', ','),\n",
       " ('Как', 'NNP'),\n",
       " ('вдруг', 'NNP'),\n",
       " ('однажды', 'NNP'),\n",
       " ('он', 'NNP'),\n",
       " ('исчез', 'NNP'),\n",
       " ('Осенней', 'NNP'),\n",
       " ('ночью', 'NNP'),\n",
       " ('.', '.'),\n",
       " ('Темный', 'VB'),\n",
       " ('лес', 'JJ'),\n",
       " ('Тянулся', 'NNP'),\n",
       " ('по', 'NNP'),\n",
       " ('горам', 'NNP'),\n",
       " ('кругом', 'NNP'),\n",
       " ('.', '.'),\n",
       " ('Три', 'VB'),\n",
       " ('дня', 'JJ'),\n",
       " ('все', 'NNP'),\n",
       " ('поиски', 'NNP'),\n",
       " ('по', 'NNP'),\n",
       " ('нем', 'NNP'),\n",
       " ('Напрасны', 'NNP'),\n",
       " ('были', 'NNP'),\n",
       " (',', ','),\n",
       " ('но', 'NNP'),\n",
       " ('потом', 'NNP'),\n",
       " ('Его', 'NNP'),\n",
       " ('в', 'NNP'),\n",
       " ('степи', 'NNP'),\n",
       " ('без', 'NNP'),\n",
       " ('чувств', 'NNP'),\n",
       " ('нашли', 'NNP'),\n",
       " ('И', 'NNP'),\n",
       " ('вновь', 'NNP'),\n",
       " ('в', 'NNP'),\n",
       " ('обитель', 'NNP'),\n",
       " ('принесли', 'NNP'),\n",
       " (';', ':'),\n",
       " ('Он', 'NNP'),\n",
       " ('страшно', 'NNP'),\n",
       " ('бледен', 'NNP'),\n",
       " ('был', 'NNP'),\n",
       " ('и', 'NNP'),\n",
       " ('худ', 'NNP'),\n",
       " ('И', 'NNP'),\n",
       " ('слаб', 'NNP'),\n",
       " (',', ','),\n",
       " ('как', 'NNP'),\n",
       " ('будто', 'NNP'),\n",
       " ('долгий', 'NNP'),\n",
       " ('труд', 'NNP'),\n",
       " (',', ','),\n",
       " ('Болезнь', 'NNP'),\n",
       " ('иль', 'NNP'),\n",
       " ('голод', 'NNP'),\n",
       " ('испытал', 'NNP'),\n",
       " ('.', '.'),\n",
       " ('Он', 'VB'),\n",
       " ('на', 'JJ'),\n",
       " ('допрос', 'NNP'),\n",
       " ('не', 'NNP'),\n",
       " ('отвечал', 'NNP'),\n",
       " (',', ','),\n",
       " ('И', 'NNP'),\n",
       " ('с', 'NNP'),\n",
       " ('каждым', 'NNP'),\n",
       " ('днем', 'NNP'),\n",
       " ('приметно', 'NNP'),\n",
       " ('вял', 'NNP'),\n",
       " (';', ':'),\n",
       " ('И', 'NNP'),\n",
       " ('близок', 'NNP'),\n",
       " ('стал', 'NNP'),\n",
       " ('его', 'NNP'),\n",
       " ('конец', 'NNP'),\n",
       " ('.', '.'),\n",
       " ('Тогда', 'VB'),\n",
       " ('пришел', 'JJ'),\n",
       " ('к', 'NNP'),\n",
       " ('нему', 'NNP'),\n",
       " ('чернец', 'NNP'),\n",
       " ('С', 'NNP'),\n",
       " ('увещеваньем', 'NNP'),\n",
       " ('и', 'NNP'),\n",
       " ('мольбой', 'NNP'),\n",
       " (';', ':'),\n",
       " ('И', 'NNP'),\n",
       " (',', ','),\n",
       " ('гордо', 'NNP'),\n",
       " ('выслушав', 'NNP'),\n",
       " (',', ','),\n",
       " ('больной', 'NNP'),\n",
       " ('Привстал', 'NNP'),\n",
       " (',', ','),\n",
       " ('собрав', 'NNP'),\n",
       " ('остаток', 'NNP'),\n",
       " ('сил', 'NNP'),\n",
       " (',', ','),\n",
       " ('И', 'NNP'),\n",
       " ('долго', 'NNP'),\n",
       " ('так', 'NNP'),\n",
       " ('он', 'NNP'),\n",
       " ('говорил', 'NN'),\n",
       " (':', ':'),\n",
       " ('3', 'CD'),\n",
       " ('«', 'NN'),\n",
       " ('Ты', 'NNP'),\n",
       " ('слушать', 'NNP'),\n",
       " ('исповедь', 'NNP'),\n",
       " ('мою', 'NNP'),\n",
       " ('Сюда', 'NNP'),\n",
       " ('пришел', 'NNP'),\n",
       " (',', ','),\n",
       " ('благодарю', 'NNP'),\n",
       " ('.', '.'),\n",
       " ('Всё', 'VB'),\n",
       " ('лучше', 'JJ'),\n",
       " ('перед', 'NNP'),\n",
       " ('кем-нибудь', 'JJ'),\n",
       " ('Словами', 'NNP'),\n",
       " ('облегчить', 'NNP'),\n",
       " ('мне', 'NNP'),\n",
       " ('грудь', 'NNP'),\n",
       " (';', ':'),\n",
       " ('Но', 'NNP'),\n",
       " ('людям', 'NNP'),\n",
       " ('я', 'NNP'),\n",
       " ('не', 'NNP'),\n",
       " ('делал', 'NNP'),\n",
       " ('зла', 'NNP'),\n",
       " (',', ','),\n",
       " ('И', 'NNP'),\n",
       " ('потому', 'NNP'),\n",
       " ('мои', 'NNP'),\n",
       " ('дела', 'NNP'),\n",
       " ('Не', 'NNP'),\n",
       " ('много', 'NNP'),\n",
       " ('пользы', 'NNP'),\n",
       " ('вам', 'NNP'),\n",
       " ('узнать', 'NNP'),\n",
       " (';', ':'),\n",
       " ('А', 'NNP'),\n",
       " ('душу', 'NNP'),\n",
       " ('можно', 'NNP'),\n",
       " ('ль', 'NNP'),\n",
       " ('рассказать', 'NNP'),\n",
       " ('?', '.'),\n",
       " ('Я', 'NNP'),\n",
       " ('мало', 'NNP'),\n",
       " ('жил', 'NNP'),\n",
       " (',', ','),\n",
       " ('и', 'NNP'),\n",
       " ('жил', 'NNP'),\n",
       " ('в', 'NNP'),\n",
       " ('плену', 'NNP'),\n",
       " ('.', '.'),\n",
       " ('Таких', 'VB'),\n",
       " ('две', 'JJ'),\n",
       " ('жизни', 'NNP'),\n",
       " ('за', 'NNP'),\n",
       " ('одну', 'NNP'),\n",
       " (',', ','),\n",
       " ('Но', 'NNP'),\n",
       " ('только', 'NNP'),\n",
       " ('полную', 'NNP'),\n",
       " ('тревог', 'NNP'),\n",
       " (',', ','),\n",
       " ('Я', 'NNP'),\n",
       " ('променял', 'NNP'),\n",
       " ('бы', 'NNP'),\n",
       " (',', ','),\n",
       " ('если', 'NNP'),\n",
       " ('б', 'NNP'),\n",
       " ('мог', 'NNP'),\n",
       " ('.', '.'),\n",
       " ('Я', 'VB'),\n",
       " ('знал', 'JJ'),\n",
       " ('одной', 'NNP'),\n",
       " ('лишь', 'NNP'),\n",
       " ('думы', 'NNP'),\n",
       " ('власть', 'NNP'),\n",
       " (',', ','),\n",
       " ('Одну', 'NNP'),\n",
       " ('–', 'NNP'),\n",
       " ('но', 'NNP'),\n",
       " ('пламенную', 'NNP'),\n",
       " ('страсть', 'NN'),\n",
       " (':', ':'),\n",
       " ('Она', 'NN'),\n",
       " (',', ','),\n",
       " ('как', 'NNP'),\n",
       " ('червь', 'NNP'),\n",
       " (',', ','),\n",
       " ('во', 'NNP'),\n",
       " ('мне', 'NNP'),\n",
       " ('жила', 'NNP'),\n",
       " (',', ','),\n",
       " ('Изгрызла', 'NNP'),\n",
       " ('душу', 'NNP'),\n",
       " ('и', 'NNP'),\n",
       " ('сожгла', 'NNP'),\n",
       " ('.', '.'),\n",
       " ('Она', 'VB'),\n",
       " ('мечты', 'JJ'),\n",
       " ('мои', 'NNP'),\n",
       " ('звала', 'NNP'),\n",
       " ('От', 'NNP'),\n",
       " ('келий', 'NNP'),\n",
       " ('душных', 'NNP'),\n",
       " ('и', 'NNP'),\n",
       " ('молитв', 'NNP'),\n",
       " ('В', 'NNP'),\n",
       " ('тот', 'NNP'),\n",
       " ('чудный', 'NNP'),\n",
       " ('мир', 'NNP'),\n",
       " ('тревог', 'NNP'),\n",
       " ('и', 'NNP'),\n",
       " ('битв', 'NNP'),\n",
       " (',', ','),\n",
       " ('Где', 'NNP'),\n",
       " ('в', 'NNP'),\n",
       " ('тучах', 'NNP'),\n",
       " ('прячутся', 'NNP'),\n",
       " ('скалы', 'NNP'),\n",
       " (',', ','),\n",
       " ('Где', 'NNP'),\n",
       " ('люди', 'NNP'),\n",
       " ('вольны', 'NNP'),\n",
       " (',', ','),\n",
       " ('как', 'NNP'),\n",
       " ('орлы', 'NNP'),\n",
       " ('.', '.'),\n",
       " ('Я', 'VB'),\n",
       " ('эту', 'JJ'),\n",
       " ('страсть', 'NNP'),\n",
       " ('во', 'NNP'),\n",
       " ('тьме', 'NNP'),\n",
       " ('ночной', 'NNP'),\n",
       " ('Вскормил', 'NNP'),\n",
       " ('слезами', 'NNP'),\n",
       " ('и', 'NNP'),\n",
       " ('тоской', 'NNP'),\n",
       " (';', ':'),\n",
       " ('Ее', 'NNP'),\n",
       " ('пред', 'NNP'),\n",
       " ('небом', 'NNP'),\n",
       " ('и', 'NNP'),\n",
       " ('землей', 'NNP'),\n",
       " ('Я', 'NNP'),\n",
       " ('ныне', 'NNP'),\n",
       " ('громко', 'NNP'),\n",
       " ('признаю', 'NNP'),\n",
       " ('И', 'NNP'),\n",
       " ('о', 'NNP'),\n",
       " ('прощеньи', 'NNP'),\n",
       " ('не', 'NNP'),\n",
       " ('молю', 'NNP'),\n",
       " ('.', '.'),\n",
       " ('4', 'CD'),\n",
       " ('«', 'JJ'),\n",
       " ('Старик', 'NN'),\n",
       " ('!', '.'),\n",
       " ('я', 'JJ'),\n",
       " ('слышал', 'JJ'),\n",
       " ('много', 'NN'),\n",
       " ('раз', 'NN'),\n",
       " (',', ','),\n",
       " ('Что', 'NNP'),\n",
       " ('ты', 'NNP'),\n",
       " ('меня', 'NNP'),\n",
       " ('от', 'NNP'),\n",
       " ('смерти', 'NNP'),\n",
       " ('спас', 'NNP'),\n",
       " ('—', 'NNP'),\n",
       " ('Зачем', 'NNP'),\n",
       " ('?', '.'),\n",
       " ('…', 'NNP'),\n",
       " ('угрюм', 'NNP'),\n",
       " ('и', 'NNP'),\n",
       " ('одинок', 'NNP'),\n",
       " (',', ','),\n",
       " ('Грозой', 'NNP'),\n",
       " ('оторванный', 'NNP'),\n",
       " ('листок', 'NNP'),\n",
       " (',', ','),\n",
       " ('Я', 'NNP'),\n",
       " ('вырос', 'NNP'),\n",
       " ('в', 'NNP'),\n",
       " ('сумрачных', 'NNP'),\n",
       " ('стенах', 'NNP'),\n",
       " (',', ','),\n",
       " ('Душой', 'NNP'),\n",
       " ('дитя', 'NNP'),\n",
       " (',', ','),\n",
       " ('судьбой', 'NNP'),\n",
       " ('монах', 'NNP'),\n",
       " ('.', '.'),\n",
       " ('Я', 'VB'),\n",
       " ('никому', 'JJ'),\n",
       " ('не', 'NNP'),\n",
       " ('мог', 'NNP'),\n",
       " ('сказать', 'NNP'),\n",
       " ('Священных', 'NNP'),\n",
       " ('слов', 'NNP'),\n",
       " ('–', 'NNP'),\n",
       " ('«', 'NNP'),\n",
       " ('отец', 'NNP'),\n",
       " ('»', 'NNP'),\n",
       " ('и', 'NNP'),\n",
       " ('«', 'NNP'),\n",
       " ('мать', 'NNP'),\n",
       " ('»', 'NNP'),\n",
       " ('.', '.'),\n",
       " ('Конечно', 'NN'),\n",
       " (',', ','),\n",
       " ('ты', 'NNP'),\n",
       " ('хотел', 'NNP'),\n",
       " (',', ','),\n",
       " ('старик', 'NNP'),\n",
       " (',', ','),\n",
       " ('Чтоб', 'NNP'),\n",
       " ('я', 'NNP'),\n",
       " ('в', 'NNP'),\n",
       " ('обители', 'NNP'),\n",
       " ('отвык', 'NNP'),\n",
       " ('От', 'NNP'),\n",
       " ('этих', 'NNP'),\n",
       " ('сладостных', 'NNP'),\n",
       " ('имен', 'NNP'),\n",
       " ('.', '.'),\n",
       " ('Напрасно', 'NN'),\n",
       " (':', ':'),\n",
       " ('звук', 'JJ'),\n",
       " ('их', 'NNP'),\n",
       " ('был', 'NNP'),\n",
       " ('рожден', 'NNP'),\n",
       " ('Со', 'NNP'),\n",
       " ('мной', 'NNP'),\n",
       " ('.', '.'),\n",
       " ('Я', 'VB'),\n",
       " ('видел', 'JJ'),\n",
       " ('у', 'NNP'),\n",
       " ('других', 'NNP'),\n",
       " ('Отчизну', 'NNP'),\n",
       " (',', ','),\n",
       " ('дом', 'NNP'),\n",
       " (',', ','),\n",
       " ('друзей', 'NNP'),\n",
       " (',', ','),\n",
       " ('родных', 'NNP'),\n",
       " (',', ','),\n",
       " ('А', 'NNP'),\n",
       " ('у', 'NNP'),\n",
       " ('себя', 'NNP'),\n",
       " ('не', 'NNP'),\n",
       " ('находил', 'NNP'),\n",
       " ('Не', 'NNP'),\n",
       " ('только', 'NNP'),\n",
       " ('милых', 'NNP'),\n",
       " ('душ', 'NNP'),\n",
       " ('–', 'NNP'),\n",
       " ('могил', 'NN'),\n",
       " ('!', '.'),\n",
       " ('Тогда', 'NN'),\n",
       " (',', ','),\n",
       " ('пустых', 'NNP'),\n",
       " ('не', 'NNP'),\n",
       " ('тратя', 'NNP'),\n",
       " ('слез', 'NNP'),\n",
       " (',', ','),\n",
       " ('В', 'NNP'),\n",
       " ('душе', 'NNP'),\n",
       " ('я', 'NNP'),\n",
       " ('клятву', 'NNP'),\n",
       " ('произнес', 'NN'),\n",
       " (':', ':'),\n",
       " ('Хотя', 'JJ'),\n",
       " ('на', 'JJ'),\n",
       " ('миг', 'JJ'),\n",
       " ('когда-нибудь', 'JJ'),\n",
       " ('Мою', 'NN'),\n",
       " ('пылающую', 'NNP'),\n",
       " ('грудь', 'NNP'),\n",
       " ('Прижать', 'NNP'),\n",
       " ('с', 'NNP'),\n",
       " ('тоской', 'NNP'),\n",
       " ('к', 'NNP'),\n",
       " ('груди', 'NNP'),\n",
       " ('другой', 'NNP'),\n",
       " (',', ','),\n",
       " ('Хоть', 'NNP'),\n",
       " ('незнакомой', 'NNP'),\n",
       " (',', ','),\n",
       " ('но', 'NNP'),\n",
       " ('родной', 'NNP'),\n",
       " ('.', '.'),\n",
       " ('Увы', 'NN'),\n",
       " (',', ','),\n",
       " ('теперь', 'NNP'),\n",
       " ('мечтанья', 'NNP'),\n",
       " ('те', 'NNP'),\n",
       " ('Погибли', 'NNP'),\n",
       " ('в', 'NNP'),\n",
       " ('полной', 'NNP'),\n",
       " ('красоте', 'NNP'),\n",
       " (',', ','),\n",
       " ('И', 'NNP'),\n",
       " ('я', 'NNP'),\n",
       " (',', ','),\n",
       " ('как', 'NNP'),\n",
       " ('жил', 'NNP'),\n",
       " (',', ','),\n",
       " ('в', 'NNP'),\n",
       " ('земле', 'NNP'),\n",
       " ('чужой', 'NNP'),\n",
       " ('Умру', 'NNP'),\n",
       " ('рабом', 'NNP'),\n",
       " ('и', 'NNP'),\n",
       " ('сиротой', 'NNP'),\n",
       " ('.', '.'),\n",
       " ('5', 'CD'),\n",
       " ('«', 'JJ'),\n",
       " ('Меня', 'NNP'),\n",
       " ('могила', 'NNP'),\n",
       " ('не', 'NNP'),\n",
       " ('страшит', 'NN'),\n",
       " (':', ':'),\n",
       " ('Там', 'NN'),\n",
       " (',', ','),\n",
       " ('говорят', 'NNP'),\n",
       " (',', ','),\n",
       " ('страданье', 'NNP'),\n",
       " ('спит', 'NNP'),\n",
       " ('В', 'NNP'),\n",
       " ('холодной', 'NNP'),\n",
       " (',', ','),\n",
       " ('вечной', 'NNP'),\n",
       " ('тишине', 'NNP'),\n",
       " (';', ':'),\n",
       " ('Но', 'NNP'),\n",
       " ('с', 'NNP'),\n",
       " ('жизнью', 'NNP'),\n",
       " ('жаль', 'NNP'),\n",
       " ('расстаться', 'NNP'),\n",
       " ('мне', 'NNP'),\n",
       " ('.', '.'),\n",
       " ('Я', 'NN'),\n",
       " ('молод', 'NN'),\n",
       " (',', ','),\n",
       " ('молод…', 'NNP'),\n",
       " ('Знал', 'NNP'),\n",
       " ('ли', 'NNP'),\n",
       " ('ты', 'NNP'),\n",
       " ('Разгульной', 'NNP'),\n",
       " ('юности', 'NNP'),\n",
       " ('мечты', 'NNP'),\n",
       " ('?', '.'),\n",
       " ('Или', 'NNP'),\n",
       " ('не', 'NNP'),\n",
       " ('знал', 'NNP'),\n",
       " (',', ','),\n",
       " ('или', 'NNP'),\n",
       " ('забыл', 'NNP'),\n",
       " (',', ','),\n",
       " ('Как', 'NNP'),\n",
       " ('ненавидел', 'NNP'),\n",
       " ('и', 'NNP'),\n",
       " ('любил', 'NNP'),\n",
       " (';', ':'),\n",
       " ('Как', 'NNP'),\n",
       " ('сердце', 'NNP'),\n",
       " ('билося', 'NNP'),\n",
       " ('живей', 'NNP'),\n",
       " ('При', 'NNP'),\n",
       " ('виде', 'NNP'),\n",
       " ('солнца', 'NNP'),\n",
       " ('и', 'NNP'),\n",
       " ('полей', 'NNP'),\n",
       " ('С', 'NNP'),\n",
       " ('высокой', 'NNP'),\n",
       " ('башни', 'NNP'),\n",
       " ('угловой', 'NNP'),\n",
       " (',', ','),\n",
       " ('Где', 'NNP'),\n",
       " ('воздух', 'NNP'),\n",
       " ('свеж', 'NNP'),\n",
       " ('и', 'NNP'),\n",
       " ('где', 'NNP'),\n",
       " ('порой', 'NNP'),\n",
       " ('В', 'NNP'),\n",
       " ('глубокой', 'NNP'),\n",
       " ('скважине', 'NNP'),\n",
       " ('стены', 'NNP'),\n",
       " (',', ','),\n",
       " ('Дитя', 'NNP'),\n",
       " ('неведомой', 'NNP'),\n",
       " ('страны', 'NNP'),\n",
       " (',', ','),\n",
       " ('Прижавшись', 'NNP'),\n",
       " (',', ','),\n",
       " ('голубь', 'NNP'),\n",
       " ('молодой', 'NNP'),\n",
       " ('Сидит', 'NNP'),\n",
       " (',', ','),\n",
       " ('испуганный', 'NNP'),\n",
       " ('грозой', 'NNP'),\n",
       " ('?', '.'),\n",
       " ('Пускай', 'NNP'),\n",
       " ('теперь', 'NNP'),\n",
       " ('прекрасный', 'NNP'),\n",
       " ('свет', 'NNP'),\n",
       " ('Тебе', 'NNP'),\n",
       " ('постыл', 'NN'),\n",
       " (':', ':'),\n",
       " ('ты', 'NN'),\n",
       " ('слаб', 'NN'),\n",
       " (',', ','),\n",
       " ('ты', 'NNP'),\n",
       " ('сед', 'NNP'),\n",
       " (',', ','),\n",
       " ('И', 'NNP'),\n",
       " ('от', 'NNP'),\n",
       " ('желаний', 'NNP'),\n",
       " ('ты', 'NNP'),\n",
       " ('отвык', 'NNP'),\n",
       " ('.', '.'),\n",
       " ('Что', 'VB'),\n",
       " ('за', 'JJ'),\n",
       " ('нужда', 'NNP'),\n",
       " ('?', '.'),\n",
       " ('Ты', 'NNP'),\n",
       " ('жил', 'NNP'),\n",
       " (',', ','),\n",
       " ('старик', 'NN'),\n",
       " ('!', '.'),\n",
       " ('Тебе', 'JJ'),\n",
       " ('есть', 'JJ'),\n",
       " ('в', 'NN'),\n",
       " ('мире', 'NNP'),\n",
       " ('что', 'NNP'),\n",
       " ('забыть', 'NNP'),\n",
       " (',', ','),\n",
       " ('Ты', 'NNP'),\n",
       " ('жил', 'NNP'),\n",
       " (',', ','),\n",
       " ('–', 'NNP'),\n",
       " ('я', 'NNP'),\n",
       " ('также', 'NNP'),\n",
       " ('мог', 'NNP'),\n",
       " ('бы', 'NNP'),\n",
       " ('жить', 'NN'),\n",
       " ('!', '.'),\n",
       " ('6', 'CD'),\n",
       " ('«', 'JJ'),\n",
       " ('Ты', 'NNP'),\n",
       " ('хочешь', 'NNP'),\n",
       " ('знать', 'NNP'),\n",
       " (',', ','),\n",
       " ('что', 'NNP'),\n",
       " ('видел', 'NNP'),\n",
       " ('я', 'NNP'),\n",
       " ('На', 'NNP'),\n",
       " ('воле', 'NNP'),\n",
       " ('?', '.'),\n",
       " ('–', 'NNP'),\n",
       " ('Пышные', 'NNP'),\n",
       " ('поля', 'NNP'),\n",
       " (',', ','),\n",
       " ('Холмы', 'NNP'),\n",
       " (',', ','),\n",
       " ('покрытые', 'NNP'),\n",
       " ('венцом', 'NNP'),\n",
       " ('Дерев', 'NNP'),\n",
       " (',', ','),\n",
       " ('разросшихся', 'NNP'),\n",
       " ('кругом', 'NNP'),\n",
       " (',', ','),\n",
       " ('Шумящих', 'NNP'),\n",
       " ('свежею', 'NNP'),\n",
       " ('толпой', 'NNP'),\n",
       " (',', ','),\n",
       " ('Как', 'NNP'),\n",
       " ('братья', 'NNP'),\n",
       " ('в', 'NNP'),\n",
       " ('пляске', 'NNP'),\n",
       " ('круговой', 'NNP'),\n",
       " ('.', '.'),\n",
       " ('Я', 'VB'),\n",
       " ('видел', 'JJ'),\n",
       " ('груды', 'NNP'),\n",
       " ('темных', 'NNP'),\n",
       " ('скал', 'NNP'),\n",
       " (',', ','),\n",
       " ('Когда', 'NNP'),\n",
       " ('поток', 'NNP'),\n",
       " ('их', 'NNP'),\n",
       " ('разделял', 'NNP'),\n",
       " (',', ','),\n",
       " ('И', 'NNP'),\n",
       " ('думы', 'NNP'),\n",
       " ('их', 'NNP'),\n",
       " ('я', 'NNP'),\n",
       " ('угадал', 'NN'),\n",
       " (':', ':'),\n",
       " ('Мне', 'JJ'),\n",
       " ('было', 'NNP'),\n",
       " ('свыше', 'NNP'),\n",
       " ('то', 'NNP'),\n",
       " ('дано', 'NN'),\n",
       " ('!', '.'),\n",
       " ('Простерты', 'JJ'),\n",
       " ('в', 'JJ'),\n",
       " ('воздухе', 'NN'),\n",
       " ('давно', 'NNP'),\n",
       " ('Объятья', 'NNP'),\n",
       " ('каменные', 'NNP'),\n",
       " ('их', 'NNP'),\n",
       " (',', ','),\n",
       " ('И', 'NNP'),\n",
       " ('жаждут', 'NNP'),\n",
       " ('встречи', 'NNP'),\n",
       " ('каждый', 'NNP'),\n",
       " ('миг', 'NNP'),\n",
       " (';', ':'),\n",
       " ('Но', 'NNP'),\n",
       " ('дни', 'NNP'),\n",
       " ('бегут', 'NNP'),\n",
       " (',', ','),\n",
       " ('бегут', 'NNP'),\n",
       " ('года', 'NNP'),\n",
       " ('—', 'NNP'),\n",
       " ('Им', 'NNP'),\n",
       " ('не', 'NNP'),\n",
       " ('сойтися', 'NNP'),\n",
       " ('никогда', 'NN'),\n",
       " ('!', '.'),\n",
       " ('Я', 'JJ'),\n",
       " ('видел', 'JJ'),\n",
       " ('горные', 'NN'),\n",
       " ('хребты', 'NN'),\n",
       " (',', ','),\n",
       " ('Причудливые', 'NNP'),\n",
       " ('как', 'NNP'),\n",
       " ('мечты', 'NNP'),\n",
       " (',', ','),\n",
       " ('Когда', 'NNP'),\n",
       " ('в', 'NNP'),\n",
       " ('час', 'NNP'),\n",
       " ('утренней', 'NNP'),\n",
       " ('зари', 'NNP'),\n",
       " ('Курилися', 'NNP'),\n",
       " (',', ','),\n",
       " ('как', 'NNP'),\n",
       " ('алтари', 'NNP'),\n",
       " (',', ','),\n",
       " ('Их', 'NNP'),\n",
       " ('выси', 'NNP'),\n",
       " ('в', 'NNP'),\n",
       " ('небе', 'NNP'),\n",
       " ('голубом', 'NNP'),\n",
       " (',', ','),\n",
       " ('И', 'NNP'),\n",
       " ('облачко', 'NNP'),\n",
       " ('за', 'NNP'),\n",
       " ('облачком', 'NNP'),\n",
       " (',', ','),\n",
       " ('Покинув', 'NNP'),\n",
       " ('тайный', 'NNP'),\n",
       " ('свой', 'NNP'),\n",
       " ('ночлег', 'NNP'),\n",
       " (',', ','),\n",
       " ('К', 'NNP'),\n",
       " ('востоку', 'NNP'),\n",
       " ('направляло', 'NNP'),\n",
       " ('бег', 'NNP'),\n",
       " ('—', 'NNP'),\n",
       " ('Как', 'NNP'),\n",
       " ('будто', 'NNP'),\n",
       " ('белый', 'NNP'),\n",
       " ('караван', 'NNP'),\n",
       " ('Залетных', 'NNP'),\n",
       " ('птиц', 'NNP'),\n",
       " ('из', 'NNP'),\n",
       " ('дальних', 'NNP'),\n",
       " ('стран', 'NN'),\n",
       " ('!', '.'),\n",
       " ('В', 'JJ'),\n",
       " ('дали', 'JJ'),\n",
       " ('я', 'NN'),\n",
       " ('видел', 'NNP'),\n",
       " ('сквозь', 'NNP'),\n",
       " ('туман', 'NNP'),\n",
       " (',', ','),\n",
       " ('В', 'NNP'),\n",
       " ('снегах', 'NNP'),\n",
       " (',', ','),\n",
       " ('горящих', 'NNP'),\n",
       " ('как', 'NNP'),\n",
       " ...]"
      ]
     },
     "execution_count": 16,
     "metadata": {},
     "output_type": "execute_result"
    }
   ],
   "source": [
    "tagged = nltk.pos_tag(tokenized)\n",
    "tagged"
   ]
  },
  {
   "cell_type": "markdown",
   "metadata": {},
   "source": [
    "1"
   ]
  },
  {
   "cell_type": "code",
   "execution_count": 17,
   "metadata": {},
   "outputs": [
    {
     "data": {
      "text/plain": [
       "array([-0.04054732, -0.10384917,  0.06275797,  0.07117852, -0.03367973,\n",
       "        0.02097917,  0.11863802, -0.12340935, -0.04113824,  0.0072296 ,\n",
       "        0.03442875, -0.08502314,  0.00415942,  0.10574558,  0.01910277,\n",
       "        0.00615798,  0.00458493, -0.01335068,  0.05650612, -0.00569501,\n",
       "        0.03750023, -0.10927586,  0.05164243,  0.05031992,  0.05354462,\n",
       "       -0.03262176, -0.10208228, -0.08817052,  0.10380033, -0.0444931 ,\n",
       "       -0.02734931, -0.04753481,  0.06115898,  0.06903403, -0.00348507,\n",
       "       -0.07011987, -0.07150105,  0.03126208, -0.01040916, -0.03552379,\n",
       "       -0.05402781,  0.10745881, -0.03145599, -0.018458  , -0.01840831,\n",
       "        0.03495574,  0.08738862,  0.03255527,  0.08332364, -0.0342148 ,\n",
       "        0.06739055, -0.00142997, -0.11879368,  0.00529218,  0.05265793,\n",
       "       -0.09919296, -0.03506927,  0.06638654, -0.07677778,  0.0129897 ,\n",
       "       -0.01696495, -0.02897919, -0.01135921, -0.09453567, -0.01390805,\n",
       "        0.01071097, -0.09810596,  0.04448027, -0.06874529,  0.05911211,\n",
       "       -0.11466979,  0.02941272,  0.01114805,  0.04280961, -0.02877474,\n",
       "        0.08041612,  0.02901151,  0.00895946,  0.03053838, -0.03803635,\n",
       "       -0.06041907,  0.03417667,  0.01236998, -0.03676271,  0.03915684,\n",
       "        0.10734402, -0.00109127,  0.0277109 , -0.0246557 , -0.01780162,\n",
       "        0.04105419,  0.00426906, -0.03023328, -0.0008414 ,  0.10762678,\n",
       "        0.10052088, -0.08882461,  0.07761024, -0.0267279 ,  0.03455107,\n",
       "       -0.02444795,  0.0156845 ,  0.00748798, -0.1689339 , -0.03929545,\n",
       "        0.00296418, -0.01724243,  0.02032341, -0.00399103, -0.04038857,\n",
       "        0.08687139, -0.02179222, -0.15134743, -0.01415087,  0.01784059,\n",
       "       -0.07422045,  0.05402083,  0.01271853,  0.05307651,  0.03705958,\n",
       "        0.03847352, -0.042688  , -0.01806221, -0.07537921, -0.04326556,\n",
       "       -0.07565469, -0.04816188, -0.08169409,  0.01755997, -0.02586298,\n",
       "       -0.0792558 , -0.02933552,  0.01516469, -0.00252673, -0.06616817,\n",
       "       -0.00463682,  0.0064222 ,  0.0559583 ,  0.00934604, -0.04746192,\n",
       "        0.00884156,  0.00150111,  0.00136134,  0.0576397 ,  0.05241716,\n",
       "       -0.04609793, -0.03262461,  0.11284124,  0.04809622,  0.07582989,\n",
       "       -0.01177465,  0.00116753, -0.05365474,  0.01336544, -0.02764261,\n",
       "       -0.00531278,  0.0122697 , -0.00140868,  0.01879849, -0.0101975 ,\n",
       "       -0.0051919 , -0.00597142,  0.00990272, -0.01084102, -0.03144277,\n",
       "       -0.03819709,  0.04989857, -0.00887491, -0.02702176,  0.02927547,\n",
       "        0.04289316, -0.02704133,  0.05979815, -0.00153812,  0.06915925,\n",
       "        0.05100948,  0.08374284,  0.0121986 , -0.06984017,  0.00119697,\n",
       "        0.01248084,  0.03015128,  0.02308982,  0.02199139, -0.07807247,\n",
       "       -0.00518839,  0.16489723, -0.09247487, -0.01455277, -0.04979116,\n",
       "        0.05667109, -0.01128188, -0.12425409, -0.01230218, -0.05330879,\n",
       "        0.01731484,  0.04942756, -0.00673055,  0.01382461,  0.01931082,\n",
       "        0.03843982, -0.07376754,  0.02470317,  0.01576759, -0.0193742 ,\n",
       "       -0.02796499,  0.00459917, -0.02495738,  0.02976354,  0.02347125,\n",
       "       -0.0129329 ,  0.01952149,  0.07673351,  0.03284309, -0.10020872,\n",
       "       -0.0332616 , -0.07610075, -0.00671409, -0.02214231, -0.04614046,\n",
       "        0.0002603 , -0.06316426, -0.09805742,  0.04459405,  0.03904712,\n",
       "       -0.06548478,  0.06460184,  0.01291775,  0.07737546,  0.03741015,\n",
       "        0.09126753, -0.02259518, -0.01742503,  0.09004975, -0.02657969,\n",
       "        0.02839021, -0.06431092,  0.07573178, -0.05687289, -0.05494669,\n",
       "        0.07019141,  0.12035479,  0.06190621, -0.05468729, -0.19354214,\n",
       "       -0.04305363,  0.0636024 ,  0.02142372, -0.11156709, -0.07412241,\n",
       "       -0.02516844, -0.01629641, -0.08559034, -0.12296436,  0.07213748,\n",
       "       -0.06068887,  0.114133  , -0.01740457,  0.07449085, -0.05314804,\n",
       "       -0.01124374, -0.03885661, -0.1417701 ,  0.00233696, -0.08888647,\n",
       "       -0.00495037,  0.07056645,  0.03518402, -0.04505252,  0.01518276,\n",
       "        0.04201895, -0.03329621,  0.02289084,  0.05400757,  0.03913233,\n",
       "        0.00997035,  0.04887176, -0.13901205,  0.00529036,  0.06972506,\n",
       "       -0.066648  , -0.05985232, -0.06559052, -0.00801224, -0.09663566,\n",
       "       -0.08802848,  0.0724143 , -0.00412238, -0.04358612,  0.09036268,\n",
       "       -0.06385045,  0.01326435, -0.02888092, -0.03338987,  0.000649  ,\n",
       "       -0.04217601, -0.00052653, -0.00873416, -0.11533587,  0.04770451],\n",
       "      dtype=float32)"
      ]
     },
     "execution_count": 17,
     "metadata": {},
     "output_type": "execute_result"
    }
   ],
   "source": [
    "word2vec_rus['ночной_ADJ']"
   ]
  },
  {
   "cell_type": "code",
   "execution_count": 18,
   "metadata": {},
   "outputs": [
    {
     "data": {
      "text/plain": [
       "[('дневной_ADJ', 0.6619335412979126),\n",
       " ('утренний_ADJ', 0.606960654258728),\n",
       " ('ночь_NOUN', 0.6043827533721924),\n",
       " ('вечерний_ADJ', 0.5975057482719421),\n",
       " ('предрассветный_ADJ', 0.5894232392311096),\n",
       " ('предутренний_ADJ', 0.5686171650886536),\n",
       " ('рассвет_NOUN', 0.532154381275177),\n",
       " ('реепербан_NOUN', 0.5299137830734253),\n",
       " ('перекуковать_VERB', 0.5175073146820068),\n",
       " ('денной_ADJ', 0.5165175199508667)]"
      ]
     },
     "execution_count": 18,
     "metadata": {},
     "output_type": "execute_result"
    }
   ],
   "source": [
    "word2vec_rus.most_similar(['ночной_ADJ'])"
   ]
  },
  {
   "cell_type": "markdown",
   "metadata": {},
   "source": [
    "2"
   ]
  },
  {
   "cell_type": "code",
   "execution_count": 19,
   "metadata": {},
   "outputs": [
    {
     "data": {
      "text/plain": [
       "[('светлый_ADJ', 0.6877908110618591),\n",
       " ('сумрак_NOUN', 0.6452302932739258),\n",
       " ('черный_ADJ', 0.6219590902328491),\n",
       " ('темно_ADV', 0.617188572883606),\n",
       " ('мрак_NOUN', 0.6100280284881592),\n",
       " ('сумрачный_ADJ', 0.6097121834754944),\n",
       " ('тусклый_ADJ', 0.6047495603561401),\n",
       " ('темнеть_VERB', 0.6035927534103394),\n",
       " ('чернота_NOUN', 0.5961794257164001),\n",
       " ('зеленоватый_ADJ', 0.5932968258857727)]"
      ]
     },
     "execution_count": 19,
     "metadata": {},
     "output_type": "execute_result"
    }
   ],
   "source": [
    "word2vec_rus.most_similar(['темный_ADJ'])"
   ]
  },
  {
   "cell_type": "markdown",
   "metadata": {},
   "source": [
    "3"
   ]
  },
  {
   "cell_type": "code",
   "execution_count": 20,
   "metadata": {},
   "outputs": [
    {
     "data": {
      "text/plain": [
       "[('удача_NOUN', 0.6099626421928406),\n",
       " ('неуспех_NOUN', 0.5978214144706726),\n",
       " ('успешный_ADJ', 0.5845903158187866),\n",
       " ('победа_NOUN', 0.545926034450531),\n",
       " ('популярность_NOUN', 0.5429846048355103),\n",
       " ('неудача_NOUN', 0.5389436483383179),\n",
       " ('увенчиваться_VERB', 0.5215540528297424),\n",
       " ('достижение_NOUN', 0.508596658706665),\n",
       " ('одерживать_VERB', 0.5064408183097839),\n",
       " ('успешность_NOUN', 0.48680272698402405)]"
      ]
     },
     "execution_count": 20,
     "metadata": {},
     "output_type": "execute_result"
    }
   ],
   "source": [
    "word2vec_rus.most_similar(['успех_NOUN'])"
   ]
  },
  {
   "cell_type": "markdown",
   "metadata": {},
   "source": [
    "4"
   ]
  },
  {
   "cell_type": "code",
   "execution_count": 21,
   "metadata": {},
   "outputs": [
    {
     "data": {
      "text/plain": [
       "[('прохладный_ADJ', 0.7107111215591431),\n",
       " ('тепло_NOUN', 0.6716295480728149),\n",
       " ('тепло_ADV', 0.6683693528175354),\n",
       " ('холодный_ADJ', 0.6614217758178711),\n",
       " ('жаркий_ADJ', 0.6338765025138855),\n",
       " ('влажный_ADJ', 0.6192095875740051),\n",
       " ('свежеватый_ADJ', 0.6138080954551697),\n",
       " ('согревать_VERB', 0.6119587421417236),\n",
       " ('горячий_ADJ', 0.5953304767608643),\n",
       " ('греть_VERB', 0.5942580103874207)]"
      ]
     },
     "execution_count": 21,
     "metadata": {},
     "output_type": "execute_result"
    }
   ],
   "source": [
    "word2vec_rus.most_similar(['теплый_ADJ'])"
   ]
  },
  {
   "cell_type": "markdown",
   "metadata": {},
   "source": [
    "5"
   ]
  },
  {
   "cell_type": "code",
   "execution_count": 22,
   "metadata": {},
   "outputs": [
    {
     "data": {
      "text/plain": [
       "[('зной_NOUN', 0.7867408990859985),\n",
       " ('духота_NOUN', 0.7572076320648193),\n",
       " ('жаркий_ADJ', 0.6984090805053711),\n",
       " ('знойный_ADJ', 0.653792142868042),\n",
       " ('жарко_ADV', 0.6507423520088196),\n",
       " ('палящий_ADJ', 0.6374965906143188),\n",
       " ('жарища_NOUN', 0.6250105500221252),\n",
       " ('жары_NOUN', 0.6247274279594421),\n",
       " ('холод_NOUN', 0.6121419668197632),\n",
       " ('жар_NOUN', 0.605388879776001)]"
      ]
     },
     "execution_count": 22,
     "metadata": {},
     "output_type": "execute_result"
    }
   ],
   "source": [
    "word2vec_rus.most_similar(['жара_NOUN'])"
   ]
  },
  {
   "cell_type": "markdown",
   "metadata": {},
   "source": [
    "6"
   ]
  },
  {
   "cell_type": "code",
   "execution_count": 23,
   "metadata": {},
   "outputs": [
    {
     "data": {
      "text/plain": [
       "[('блистать_VERB', 0.7122719287872314),\n",
       " ('блестеть_VERB', 0.6976454854011536),\n",
       " ('сверкание_NOUN', 0.6779323816299438),\n",
       " ('сверкать_VERB', 0.6638984680175781),\n",
       " ('сверкающий_ADJ', 0.6480218768119812),\n",
       " ('ослепительный_ADJ', 0.6395255327224731),\n",
       " ('сиять_VERB', 0.638636589050293),\n",
       " ('блестящий_ADJ', 0.6154678463935852),\n",
       " ('искриться_VERB', 0.6141805052757263),\n",
       " ('сияние_NOUN', 0.5967062711715698)]"
      ]
     },
     "execution_count": 23,
     "metadata": {},
     "output_type": "execute_result"
    }
   ],
   "source": [
    "word2vec_rus.most_similar(['блеск_NOUN'])"
   ]
  },
  {
   "cell_type": "markdown",
   "metadata": {},
   "source": [
    "7"
   ]
  },
  {
   "cell_type": "code",
   "execution_count": 24,
   "metadata": {},
   "outputs": [
    {
     "data": {
      "text/plain": [
       "[('фонарик_NOUN', 0.7691092491149902),\n",
       " ('лампочка_NOUN', 0.660361647605896),\n",
       " ('карбидок_NOUN', 0.6381179690361023),\n",
       " ('ночник_NOUN', 0.6146329641342163),\n",
       " ('лампа_NOUN', 0.6110354661941528),\n",
       " ('фара_NOUN', 0.6066455841064453),\n",
       " ('прожектор_NOUN', 0.6039724349975586),\n",
       " ('керосино::калильный_ADJ', 0.5978037714958191),\n",
       " ('тускло_ADV', 0.5973431468009949),\n",
       " ('освещать_VERB', 0.592521071434021)]"
      ]
     },
     "execution_count": 24,
     "metadata": {},
     "output_type": "execute_result"
    }
   ],
   "source": [
    "word2vec_rus.most_similar(['фонарь_NOUN'])"
   ]
  },
  {
   "cell_type": "markdown",
   "metadata": {},
   "source": [
    "8"
   ]
  },
  {
   "cell_type": "code",
   "execution_count": 25,
   "metadata": {},
   "outputs": [
    {
     "data": {
      "text/plain": [
       "array([ 0.0292291 ,  0.06730098,  0.01516373,  0.07593447, -0.09613479,\n",
       "        0.02155809,  0.00548927, -0.0483405 , -0.03674199, -0.0788248 ,\n",
       "       -0.06933299, -0.07945768, -0.04590753, -0.05473898, -0.01616   ,\n",
       "        0.05953543,  0.02491926,  0.01263281,  0.02602388, -0.00934501,\n",
       "        0.06545833,  0.08538932,  0.02006769, -0.00804126,  0.10513842,\n",
       "       -0.0219749 ,  0.02914349, -0.05832716, -0.10482688, -0.04091468,\n",
       "        0.0712295 ,  0.05329654,  0.07262513, -0.01761568, -0.05056697,\n",
       "        0.07591452,  0.0763049 , -0.01444815,  0.10017607,  0.02117208,\n",
       "       -0.02077511,  0.01655819, -0.02411914,  0.01279997, -0.05352033,\n",
       "       -0.02575806,  0.03817079, -0.0130058 ,  0.09544533,  0.00533224,\n",
       "       -0.00780578,  0.02533232,  0.03117365,  0.03551324,  0.0768199 ,\n",
       "       -0.0673569 ,  0.0166184 ,  0.07598181, -0.02453888, -0.03567904,\n",
       "        0.02429314, -0.02797444,  0.0176741 , -0.02220201, -0.02408569,\n",
       "       -0.05301306, -0.10643201, -0.01837957,  0.01026482,  0.00212208,\n",
       "       -0.01736161,  0.02314328, -0.03548504,  0.00643553, -0.05179382,\n",
       "        0.01265568,  0.00581852, -0.01104354,  0.09042064,  0.05257697,\n",
       "        0.00863789,  0.08533506, -0.04633953, -0.06505015, -0.05930257,\n",
       "        0.00643552, -0.13355634,  0.02887958, -0.09611905, -0.07002226,\n",
       "       -0.03162949,  0.04753315,  0.01401482, -0.06078668,  0.00907861,\n",
       "       -0.00187476, -0.04850116,  0.11154698, -0.05227381, -0.02989217,\n",
       "       -0.09812302,  0.05255903,  0.00234426, -0.02471656, -0.14807634,\n",
       "       -0.00781557, -0.0679694 , -0.03009732,  0.02366792,  0.01813019,\n",
       "        0.06879926,  0.14513554, -0.04978471,  0.03933312, -0.05489604,\n",
       "       -0.02368252,  0.03604728, -0.00742426,  0.02239428,  0.10054263,\n",
       "       -0.04222631,  0.01878439,  0.13030465, -0.00808449, -0.00116006,\n",
       "       -0.11033906,  0.02751863, -0.05425931, -0.09755244,  0.05868495,\n",
       "        0.0058276 , -0.05758169,  0.00508813, -0.01613727, -0.07489279,\n",
       "        0.05417951, -0.0070986 ,  0.01102233, -0.0388806 , -0.08241617,\n",
       "       -0.04084517,  0.01547675,  0.00122512,  0.02800405, -0.04226318,\n",
       "       -0.06510238, -0.13752522,  0.1683213 ,  0.01255226,  0.16023147,\n",
       "        0.03554003,  0.10983814, -0.05033053, -0.05345966,  0.00563246,\n",
       "       -0.06718112,  0.09443086, -0.04134763, -0.02938058,  0.03102779,\n",
       "       -0.04739706,  0.03975414, -0.09854639,  0.03111012, -0.12056436,\n",
       "       -0.06982389,  0.04593442, -0.04717433,  0.01466033, -0.08011766,\n",
       "       -0.03255803, -0.07732152, -0.01878749,  0.00869362,  0.01207983,\n",
       "        0.10221691,  0.08979633, -0.00389718, -0.01210641, -0.09629342,\n",
       "       -0.08848668,  0.0247478 ,  0.04538285,  0.09867511,  0.05404265,\n",
       "       -0.00867352,  0.0064666 , -0.11170984, -0.06062062, -0.04131236,\n",
       "       -0.01453575,  0.08491379, -0.00693773, -0.00414071,  0.06285718,\n",
       "        0.0338962 ,  0.00669336,  0.022686  ,  0.0614214 , -0.0239592 ,\n",
       "        0.04550207, -0.05109229, -0.0720543 , -0.0902997 , -0.0391391 ,\n",
       "       -0.04257948, -0.08430853,  0.06218108, -0.01796794,  0.01818332,\n",
       "       -0.02087931,  0.0346442 ,  0.01562871,  0.0188158 ,  0.06807784,\n",
       "       -0.0695564 , -0.05982039,  0.04817246, -0.05203236,  0.08681639,\n",
       "       -0.00757731,  0.07592753, -0.00576372,  0.0145526 , -0.0669591 ,\n",
       "       -0.07045731,  0.02206316,  0.06806158, -0.07011126,  0.04644144,\n",
       "        0.07751717,  0.02929582, -0.09453146, -0.03081284, -0.06984556,\n",
       "       -0.04087134, -0.03764497,  0.04524115, -0.05700583, -0.05789826,\n",
       "       -0.02071856,  0.03990366,  0.05737295, -0.05381895, -0.15745714,\n",
       "        0.07310724,  0.03754598, -0.02740348,  0.00511278, -0.04836174,\n",
       "        0.06644543,  0.0144316 ,  0.03368798,  0.04586173,  0.03645415,\n",
       "       -0.01553676, -0.0088599 , -0.03654454,  0.01821124,  0.01573512,\n",
       "        0.03129554,  0.00590106, -0.00640732, -0.07310076,  0.00983401,\n",
       "       -0.00498518, -0.05833617,  0.00649913,  0.030339  ,  0.0151758 ,\n",
       "       -0.02921266, -0.08689934, -0.09497415,  0.02436797, -0.04143136,\n",
       "        0.03116462, -0.00221304,  0.00558976,  0.02373298,  0.02383545,\n",
       "       -0.03687452, -0.10741711,  0.03559101, -0.08998823,  0.07025585,\n",
       "       -0.00412744, -0.09900238, -0.02108635,  0.04749754,  0.01240995,\n",
       "        0.00999342, -0.01637561,  0.08465135, -0.12712187, -0.04819402,\n",
       "       -0.00065679, -0.06436551,  0.07576852, -0.08816744, -0.13251415],\n",
       "      dtype=float32)"
      ]
     },
     "execution_count": 25,
     "metadata": {},
     "output_type": "execute_result"
    }
   ],
   "source": [
    "word2vec_rus['место_NOUN']"
   ]
  },
  {
   "cell_type": "markdown",
   "metadata": {},
   "source": [
    "9"
   ]
  },
  {
   "cell_type": "code",
   "execution_count": 26,
   "metadata": {},
   "outputs": [
    {
     "data": {
      "text/plain": [
       "array([ 0.08982901,  0.04849412,  0.00152037,  0.04225   , -0.078954  ,\n",
       "        0.09813039, -0.05283688,  0.05982747,  0.08435272, -0.04664853,\n",
       "       -0.02797545,  0.04662093,  0.03381764,  0.06169849, -0.03086071,\n",
       "       -0.06948483,  0.00716772, -0.04388614,  0.00659243, -0.04523997,\n",
       "       -0.07230471,  0.11039738, -0.01688495, -0.04097639, -0.08139347,\n",
       "       -0.00342353,  0.07144719, -0.04142348,  0.0112468 , -0.01364244,\n",
       "       -0.01644111, -0.04843216,  0.04963279, -0.07149751,  0.04823305,\n",
       "        0.01434291,  0.00186789, -0.01439101, -0.06891765,  0.05135937,\n",
       "        0.05161807, -0.02176243,  0.03181857,  0.00080187,  0.10095174,\n",
       "        0.12034912,  0.00733593, -0.02105788,  0.0139201 ,  0.02450693,\n",
       "       -0.02420885,  0.0210616 ,  0.00307027,  0.05741801,  0.01885177,\n",
       "        0.0349472 , -0.02792372,  0.04902897,  0.09211787, -0.04122768,\n",
       "        0.04549073,  0.01290462,  0.0173039 , -0.08350505,  0.03596009,\n",
       "       -0.00686734, -0.0318229 , -0.05642283, -0.06652433,  0.09295084,\n",
       "        0.13821286,  0.00665284,  0.05164926, -0.04328999,  0.01927613,\n",
       "        0.07897194,  0.01853736,  0.0086456 ,  0.04758557, -0.01880113,\n",
       "        0.0113192 ,  0.03224594,  0.05241874, -0.00289179, -0.05889504,\n",
       "       -0.00491302, -0.06015757,  0.02652525,  0.1055689 , -0.0458802 ,\n",
       "       -0.10962629, -0.07518267, -0.09708593, -0.0183392 , -0.11175985,\n",
       "        0.053698  ,  0.01018536,  0.04025969,  0.082785  , -0.05012747,\n",
       "       -0.0165286 ,  0.02220746, -0.07303867, -0.04158716,  0.06827977,\n",
       "        0.01233104,  0.04243396,  0.01805642,  0.02217914,  0.05596491,\n",
       "        0.02540993, -0.05481255, -0.08041718, -0.01593979, -0.03201077,\n",
       "        0.03040322,  0.1363304 , -0.00516536,  0.00554502,  0.01542522,\n",
       "        0.04243654,  0.04449961, -0.0436062 ,  0.02677147,  0.00453045,\n",
       "       -0.09274099,  0.0446529 , -0.16885379,  0.01274027,  0.0342508 ,\n",
       "        0.00430811,  0.01700986, -0.00860788,  0.06895801, -0.06084702,\n",
       "       -0.0312489 ,  0.01237141, -0.07081836, -0.01691523, -0.02965941,\n",
       "        0.06314158,  0.02482658, -0.03342326, -0.02080901, -0.07607227,\n",
       "        0.00983042, -0.03413839, -0.03272611,  0.04623992, -0.03816657,\n",
       "        0.03656841, -0.01783456,  0.04442502,  0.03214869,  0.04948591,\n",
       "       -0.03359185,  0.01308177, -0.01265192,  0.00425652,  0.0909397 ,\n",
       "        0.04028937,  0.0670559 , -0.01618663, -0.04673385,  0.03052533,\n",
       "       -0.00797699,  0.06849007, -0.0021946 ,  0.02190712,  0.02006886,\n",
       "        0.03251046, -0.01624508,  0.00530826,  0.03030751, -0.08638299,\n",
       "       -0.02167467,  0.04265277,  0.00196658, -0.05334697,  0.04793559,\n",
       "       -0.06426478,  0.03874013,  0.01004248, -0.00491385, -0.08435976,\n",
       "       -0.01400644,  0.09062357, -0.03618459, -0.02023246, -0.04624123,\n",
       "       -0.03472081,  0.00977803,  0.01470196,  0.019285  ,  0.09409402,\n",
       "        0.05862159,  0.01216318, -0.05377407,  0.05518232, -0.03601029,\n",
       "        0.07542201,  0.0132419 , -0.02382375,  0.03544498, -0.1006831 ,\n",
       "        0.02207648, -0.05532934,  0.08247302,  0.0784858 ,  0.02728042,\n",
       "       -0.00573489,  0.03884119,  0.0366719 ,  0.08153819,  0.01907221,\n",
       "       -0.07366273, -0.01198792,  0.16105597, -0.05628056,  0.09972405,\n",
       "        0.00217118,  0.01283431, -0.01733591, -0.01507591, -0.07195432,\n",
       "       -0.00795655,  0.0618579 ,  0.04422317,  0.03076692, -0.09871636,\n",
       "        0.05279241, -0.0132176 ,  0.01454395,  0.1310251 , -0.08773075,\n",
       "        0.01600297, -0.15829298,  0.0321147 , -0.07071478, -0.1329112 ,\n",
       "        0.08606052,  0.05832913,  0.04319135,  0.09561149, -0.13690543,\n",
       "        0.13256113,  0.05406084, -0.0762893 , -0.06870563, -0.03321825,\n",
       "        0.06542233, -0.1300367 ,  0.02894568,  0.07448305,  0.11407881,\n",
       "       -0.0083646 ,  0.06866085, -0.02467562,  0.06474256,  0.12672189,\n",
       "       -0.14083375,  0.05653697, -0.11673801,  0.02337082,  0.0388332 ,\n",
       "        0.06676662, -0.02806198, -0.0360146 , -0.02353498, -0.0026553 ,\n",
       "        0.026324  ,  0.04454195,  0.02136764,  0.11353848, -0.08949485,\n",
       "       -0.02779264,  0.06488043, -0.02603862, -0.01557193,  0.02061816,\n",
       "       -0.095199  ,  0.01209739,  0.04176908, -0.02786518,  0.03704541,\n",
       "        0.00684379,  0.00838052, -0.06219169, -0.0193712 , -0.00581443,\n",
       "        0.01156971,  0.14423874,  0.04471217,  0.07900576, -0.00746959,\n",
       "        0.03186442, -0.00412318,  0.03478612,  0.0167923 , -0.1246931 ],\n",
       "      dtype=float32)"
      ]
     },
     "execution_count": 26,
     "metadata": {},
     "output_type": "execute_result"
    }
   ],
   "source": [
    "word2vec_rus['павел_NOUN']"
   ]
  },
  {
   "cell_type": "markdown",
   "metadata": {},
   "source": [
    "10"
   ]
  },
  {
   "cell_type": "code",
   "execution_count": 27,
   "metadata": {},
   "outputs": [
    {
     "data": {
      "text/plain": [
       "array([-0.06507301,  0.01570589, -0.01908691, -0.03898924, -0.04511245,\n",
       "        0.00062469, -0.08986918, -0.00059584, -0.0396233 , -0.00978717,\n",
       "       -0.05012479, -0.07310528,  0.03406242,  0.01262189,  0.05814706,\n",
       "       -0.04382953,  0.04191515,  0.0100686 ,  0.02911464, -0.01696685,\n",
       "       -0.024553  , -0.14504217, -0.01728207,  0.00617172, -0.0457253 ,\n",
       "       -0.02631032,  0.07678514, -0.05396416,  0.04986001, -0.06374624,\n",
       "        0.03978751,  0.00396716,  0.00459085, -0.06662716,  0.05414385,\n",
       "       -0.03328384,  0.05098425,  0.03783348, -0.02760836, -0.03144058,\n",
       "        0.09790664, -0.05021171,  0.01338654,  0.08313768,  0.00558021,\n",
       "       -0.02295785,  0.10983438,  0.02688026,  0.06386151,  0.0147355 ,\n",
       "       -0.01012716,  0.05346269,  0.00510913,  0.02547879,  0.12490151,\n",
       "        0.00167892,  0.0897055 ,  0.05139561, -0.02514142, -0.06789704,\n",
       "       -0.13244759,  0.04402841, -0.0092152 ,  0.00589914, -0.03329119,\n",
       "       -0.05593237, -0.16532333,  0.09440091, -0.01419721,  0.05623777,\n",
       "       -0.08028691,  0.13559888,  0.07245294, -0.12063403, -0.03265534,\n",
       "        0.02165533, -0.00179553, -0.04501162,  0.03731367, -0.05331605,\n",
       "       -0.03137705, -0.0051125 , -0.09552526,  0.03429902, -0.0697689 ,\n",
       "        0.02893763, -0.05616276,  0.08883155, -0.00823316,  0.00692463,\n",
       "        0.0117499 ,  0.09892564, -0.07550728, -0.11464193,  0.07672853,\n",
       "        0.06733871, -0.03714503,  0.12554862, -0.03503193, -0.00730053,\n",
       "       -0.07998819,  0.01249286,  0.04660496, -0.08257034, -0.044383  ,\n",
       "        0.00467461, -0.00266806, -0.02507057,  0.00819264,  0.03142447,\n",
       "        0.02817812,  0.09879922,  0.00353192, -0.04316414, -0.11303554,\n",
       "       -0.04084382, -0.0175007 ,  0.00934414, -0.04054909,  0.04695368,\n",
       "        0.1016157 ,  0.02914705, -0.04978805,  0.05869753,  0.01204221,\n",
       "        0.08642803,  0.08745787,  0.0622994 ,  0.01376399, -0.06562   ,\n",
       "        0.07881765,  0.09497984, -0.01038339, -0.0438114 ,  0.00897318,\n",
       "       -0.0693976 , -0.00565095,  0.0596696 , -0.03978443, -0.00115134,\n",
       "       -0.08267369,  0.01644498,  0.01275828,  0.1013934 , -0.07656056,\n",
       "        0.04656785, -0.11663321,  0.03250212, -0.02477835,  0.00311806,\n",
       "       -0.03402226,  0.03459899, -0.01311561,  0.06762809, -0.07158975,\n",
       "       -0.03414931, -0.02986511, -0.01576025,  0.00175336,  0.00808934,\n",
       "       -0.10568435, -0.00649062,  0.05082761, -0.04946834, -0.05861183,\n",
       "       -0.02941198, -0.05179711,  0.06956425,  0.04389274,  0.05099285,\n",
       "        0.03435152,  0.07228464,  0.04526249,  0.00228696, -0.02702113,\n",
       "        0.07211754,  0.16813335,  0.01739467,  0.0398954 , -0.00605348,\n",
       "       -0.02513436,  0.13485679,  0.03492758,  0.06024746,  0.08814491,\n",
       "       -0.06165641,  0.06744286,  0.01274637,  0.02092014, -0.10928365,\n",
       "       -0.00657067, -0.0221788 , -0.08891501, -0.00411427, -0.00299258,\n",
       "        0.03531736, -0.04998266, -0.03182949,  0.01061626, -0.00381477,\n",
       "       -0.02833704, -0.07216772, -0.06482693, -0.03196556, -0.00588954,\n",
       "       -0.00413218,  0.01728892,  0.02927133, -0.00942449,  0.03840679,\n",
       "       -0.02280518,  0.1279049 ,  0.10982323, -0.0599655 ,  0.07541014,\n",
       "        0.03975476, -0.01215989,  0.03893374,  0.01881494, -0.01221174,\n",
       "        0.04858372, -0.05193315,  0.01810513,  0.00590563,  0.03116852,\n",
       "       -0.0094076 ,  0.01104133,  0.13475983,  0.01293856,  0.06141771,\n",
       "       -0.05740382, -0.0544679 , -0.07750119,  0.06418394, -0.08527509,\n",
       "        0.0340383 , -0.00351792,  0.07313246, -0.1460034 , -0.11151669,\n",
       "        0.1261237 ,  0.02249902, -0.01802642,  0.04574545, -0.03480355,\n",
       "       -0.00757581, -0.0235263 ,  0.00407353,  0.00539568,  0.01805047,\n",
       "       -0.0469437 , -0.01885963, -0.05363531,  0.06846496, -0.09246388,\n",
       "       -0.04438273,  0.01633251, -0.03750254, -0.03695112, -0.05099502,\n",
       "        0.01638577,  0.02630744, -0.09999491,  0.02595295, -0.03924996,\n",
       "        0.00668422,  0.03953251, -0.04451535,  0.0386515 ,  0.02079256,\n",
       "        0.06272485,  0.04373965,  0.1024432 ,  0.08228494, -0.10417429,\n",
       "        0.07904641, -0.00138546,  0.04210133,  0.03822844,  0.05910805,\n",
       "       -0.05807341,  0.02162497, -0.05113906, -0.06770955, -0.04266259,\n",
       "        0.05192439, -0.09874047, -0.01874707, -0.0625517 , -0.00223683,\n",
       "       -0.01198244, -0.07519418, -0.00946526, -0.04671059, -0.01337469,\n",
       "       -0.07929825,  0.02182322,  0.03836422, -0.00673347,  0.10152747],\n",
       "      dtype=float32)"
      ]
     },
     "execution_count": 27,
     "metadata": {},
     "output_type": "execute_result"
    }
   ],
   "source": [
    "word2vec_rus['пиво_NOUN']"
   ]
  },
  {
   "cell_type": "code",
   "execution_count": 28,
   "metadata": {},
   "outputs": [
    {
     "data": {
      "text/plain": [
       "[('водка_NOUN', 0.7714747786521912),\n",
       " ('напиток_NOUN', 0.7249922752380371),\n",
       " ('вино_NOUN', 0.720028281211853),\n",
       " ('пивной_ADJ', 0.694628894329071),\n",
       " ('бутылка_NOUN', 0.6747533082962036),\n",
       " ('коньяк_NOUN', 0.6706529855728149),\n",
       " ('квас_NOUN', 0.6702248454093933),\n",
       " ('лимонад_NOUN', 0.6697062253952026),\n",
       " ('портвейн_NOUN', 0.6508991122245789),\n",
       " ('выпивать_VERB', 0.649616003036499)]"
      ]
     },
     "execution_count": 28,
     "metadata": {},
     "output_type": "execute_result"
    }
   ],
   "source": [
    "word2vec_rus.most_similar(['пиво_NOUN'])"
   ]
  },
  {
   "cell_type": "markdown",
   "metadata": {},
   "source": [
    "11"
   ]
  },
  {
   "cell_type": "code",
   "execution_count": 29,
   "metadata": {},
   "outputs": [
    {
     "data": {
      "text/plain": [
       "[('отец_NOUN', 0.7377551198005676),\n",
       " ('бабушка_NOUN', 0.6868077516555786),\n",
       " ('сестра_NOUN', 0.685780942440033),\n",
       " ('тетка_NOUN', 0.6762164831161499),\n",
       " ('дочь_NOUN', 0.667900562286377),\n",
       " ('родитель_NOUN', 0.6601108312606812),\n",
       " ('муж_NOUN', 0.6587852835655212),\n",
       " ('жена_NOUN', 0.6445345878601074),\n",
       " ('сын_NOUN', 0.6433827877044678),\n",
       " ('мама_NOUN', 0.6433038115501404)]"
      ]
     },
     "execution_count": 29,
     "metadata": {},
     "output_type": "execute_result"
    }
   ],
   "source": [
    "word2vec_rus.most_similar(['мать_NOUN'])"
   ]
  },
  {
   "cell_type": "markdown",
   "metadata": {},
   "source": [
    "12"
   ]
  },
  {
   "cell_type": "code",
   "execution_count": 30,
   "metadata": {},
   "outputs": [
    {
     "data": {
      "text/plain": [
       "[('покрываться::лдом_VERB', 0.8777790069580078),\n",
       " ('кончилс_NOUN', 0.7949137091636658),\n",
       " ('моросец_NOUN', 0.7935333251953125),\n",
       " ('маленкия_NOUN', 0.7722014784812927),\n",
       " ('месец::тверец_NOUN', 0.7538647055625916),\n",
       " ('месец::продолжалс_NOUN', 0.752025306224823),\n",
       " ('северко_NOUN', 0.7409591674804688),\n",
       " ('кончелс_NOUN', 0.7402944564819336),\n",
       " ('тверец::очищаться_VERB', 0.7396061420440674),\n",
       " ('неболшимь_NOUN', 0.7383139729499817)]"
      ]
     },
     "execution_count": 30,
     "metadata": {},
     "output_type": "execute_result"
    }
   ],
   "source": [
    "word2vec_rus.most_similar(['зимней_NOUN'])"
   ]
  },
  {
   "cell_type": "markdown",
   "metadata": {},
   "source": [
    "13"
   ]
  },
  {
   "cell_type": "code",
   "execution_count": 31,
   "metadata": {},
   "outputs": [
    {
     "data": {
      "text/plain": [
       "[('влажный_ADJ', 0.5789064168930054),\n",
       " ('высыхать_VERB', 0.5678138732910156),\n",
       " ('высохший_ADJ', 0.5618420243263245),\n",
       " ('сырой_ADJ', 0.5607006549835205),\n",
       " ('мокрый_ADJ', 0.5501054525375366),\n",
       " ('высушивать_VERB', 0.5454625487327576),\n",
       " ('чернобыл_NOUN', 0.5430009365081787),\n",
       " ('колючий_ADJ', 0.5268159508705139),\n",
       " ('шебуршать_VERB', 0.525021493434906),\n",
       " ('иссохший_ADJ', 0.5237769484519958)]"
      ]
     },
     "execution_count": 31,
     "metadata": {},
     "output_type": "execute_result"
    }
   ],
   "source": [
    "word2vec_rus.most_similar(['сухой_ADJ'])"
   ]
  },
  {
   "cell_type": "markdown",
   "metadata": {},
   "source": [
    "14"
   ]
  },
  {
   "cell_type": "code",
   "execution_count": 32,
   "metadata": {},
   "outputs": [
    {
     "data": {
      "text/plain": [
       "[('дождик_NOUN', 0.8532456159591675),\n",
       " ('ливень_NOUN', 0.8220065832138062),\n",
       " ('проливной::дождь_NOUN', 0.8018124103546143),\n",
       " ('моросить_VERB', 0.764265239238739),\n",
       " ('ненастье_NOUN', 0.706068217754364),\n",
       " ('обложной_ADJ', 0.6988879442214966),\n",
       " ('накрапывать_VERB', 0.688998281955719),\n",
       " ('дождевой_ADJ', 0.68680340051651),\n",
       " ('дождливый_ADJ', 0.668446958065033),\n",
       " ('ливмя::лить_VERB', 0.6477394104003906)]"
      ]
     },
     "execution_count": 32,
     "metadata": {},
     "output_type": "execute_result"
    }
   ],
   "source": [
    "word2vec_rus.most_similar(['дождь_NOUN'])"
   ]
  },
  {
   "cell_type": "markdown",
   "metadata": {},
   "source": [
    "15"
   ]
  },
  {
   "cell_type": "code",
   "execution_count": 33,
   "metadata": {},
   "outputs": [
    {
     "data": {
      "text/plain": [
       "[('океан_NOUN', 0.7327679395675659),\n",
       " ('средиземный_ADJ', 0.7254670262336731),\n",
       " ('залив_NOUN', 0.6897734999656677),\n",
       " ('побережье_NOUN', 0.6866669654846191),\n",
       " ('средиземное_NOUN', 0.6841209530830383),\n",
       " ('баренцовый_ADJ', 0.6602851748466492),\n",
       " ('каспийский_ADJ', 0.651206374168396),\n",
       " ('берег_NOUN', 0.64176344871521),\n",
       " ('бухта_NOUN', 0.6369370818138123),\n",
       " ('лизард_NOUN', 0.6297280192375183)]"
      ]
     },
     "execution_count": 33,
     "metadata": {},
     "output_type": "execute_result"
    }
   ],
   "source": [
    "word2vec_rus.most_similar(['море_NOUN'])"
   ]
  },
  {
   "cell_type": "markdown",
   "metadata": {},
   "source": [
    "16"
   ]
  },
  {
   "cell_type": "code",
   "execution_count": 34,
   "metadata": {},
   "outputs": [
    {
     "data": {
      "text/plain": [
       "[('пляжный_ADJ', 0.6484244465827942),\n",
       " ('копакабан_NOUN', 0.6444317698478699),\n",
       " ('пляжик_NOUN', 0.6077397465705872),\n",
       " ('купаться_VERB', 0.5914208292961121),\n",
       " ('курортный_ADJ', 0.5842188000679016),\n",
       " ('загорать_VERB', 0.5776661038398743),\n",
       " ('отдыхающий_NOUN', 0.574262797832489),\n",
       " ('купание_NOUN', 0.5658547878265381),\n",
       " ('купальный_ADJ', 0.5622261166572571),\n",
       " ('галька_NOUN', 0.5429083108901978)]"
      ]
     },
     "execution_count": 34,
     "metadata": {},
     "output_type": "execute_result"
    }
   ],
   "source": [
    "word2vec_rus.most_similar(['пляж_NOUN'])"
   ]
  },
  {
   "cell_type": "markdown",
   "metadata": {},
   "source": [
    "Сходство с купаться на 0.5914208292961121"
   ]
  },
  {
   "cell_type": "markdown",
   "metadata": {},
   "source": [
    "17"
   ]
  },
  {
   "cell_type": "code",
   "execution_count": 35,
   "metadata": {},
   "outputs": [
    {
     "data": {
      "text/plain": [
       "[('купаться_VERB', 0.6816310882568359),\n",
       " ('пляж_NOUN', 0.5658547878265381),\n",
       " ('прогулка_NOUN', 0.5625064373016357),\n",
       " ('купальщик_NOUN', 0.5405969619750977),\n",
       " ('купальня_NOUN', 0.5405786037445068),\n",
       " ('купальный_ADJ', 0.5222204327583313),\n",
       " ('аква::аэробика_NOUN', 0.5143445730209351),\n",
       " ('выкупаться_VERB', 0.5100593566894531),\n",
       " ('грязевой::ванна_NOUN', 0.5050111413002014),\n",
       " ('скевенинген_NOUN', 0.5031628608703613)]"
      ]
     },
     "execution_count": 35,
     "metadata": {},
     "output_type": "execute_result"
    }
   ],
   "source": [
    "word2vec_rus.most_similar(['купание_NOUN'])"
   ]
  },
  {
   "cell_type": "markdown",
   "metadata": {},
   "source": [
    "18"
   ]
  },
  {
   "cell_type": "code",
   "execution_count": 36,
   "metadata": {},
   "outputs": [
    {
     "data": {
      "text/plain": [
       "[('прохлада_NOUN', 0.74006587266922),\n",
       " ('теплый_ADJ', 0.7107111215591431),\n",
       " ('влажный_ADJ', 0.6749593019485474),\n",
       " ('жаркий_ADJ', 0.6495367288589478),\n",
       " ('знойный_ADJ', 0.6320680379867554),\n",
       " ('холодный_ADJ', 0.6177319288253784),\n",
       " ('прохладно_ADV', 0.6166296005249023),\n",
       " ('свежеватый_ADJ', 0.6129581332206726),\n",
       " ('душный_ADJ', 0.5835072994232178),\n",
       " ('жарко_ADV', 0.5712732076644897)]"
      ]
     },
     "execution_count": 36,
     "metadata": {},
     "output_type": "execute_result"
    }
   ],
   "source": [
    "word2vec_rus.most_similar(['прохладный_ADJ'])"
   ]
  },
  {
   "cell_type": "markdown",
   "metadata": {},
   "source": [
    "19"
   ]
  },
  {
   "cell_type": "code",
   "execution_count": 37,
   "metadata": {},
   "outputs": [
    {
     "data": {
      "text/plain": [
       "[('лед_NOUN', 0.6761566996574402),\n",
       " ('снежный_ADJ', 0.644543468952179),\n",
       " ('льдинка_NOUN', 0.6328939199447632),\n",
       " ('холодный_ADJ', 0.6324988603591919),\n",
       " ('замерзать_VERB', 0.6130945682525635),\n",
       " ('снеговой_ADJ', 0.6095405220985413),\n",
       " ('сосулька_NOUN', 0.5921146869659424),\n",
       " ('обледенелый_ADJ', 0.5847191214561462),\n",
       " ('льдистый_ADJ', 0.5843038558959961),\n",
       " ('оледенелый_ADJ', 0.5819128751754761)]"
      ]
     },
     "execution_count": 37,
     "metadata": {},
     "output_type": "execute_result"
    }
   ],
   "source": [
    "word2vec_rus.most_similar(['ледяной_ADJ'])"
   ]
  },
  {
   "cell_type": "markdown",
   "metadata": {},
   "source": [
    "20"
   ]
  },
  {
   "cell_type": "code",
   "execution_count": 38,
   "metadata": {},
   "outputs": [
    {
     "data": {
      "text/plain": [
       "[('ладонь_NOUN', 0.656204879283905),\n",
       " ('палец_NOUN', 0.647777795791626),\n",
       " ('ручонка_NOUN', 0.6319015622138977),\n",
       " ('локоть_NOUN', 0.5994850993156433),\n",
       " ('плечо_NOUN', 0.5825929641723633),\n",
       " ('колено_NOUN', 0.5698606371879578),\n",
       " ('дручок_NOUN', 0.5683369636535645),\n",
       " ('прижимать_VERB', 0.5640310049057007),\n",
       " ('ручка_NOUN', 0.5620887279510498),\n",
       " ('протягивать_VERB', 0.559328556060791)]"
      ]
     },
     "execution_count": 38,
     "metadata": {},
     "output_type": "execute_result"
    }
   ],
   "source": [
    "word2vec_rus.most_similar(['рука_NOUN'])"
   ]
  },
  {
   "cell_type": "markdown",
   "metadata": {},
   "source": [
    "21"
   ]
  },
  {
   "cell_type": "code",
   "execution_count": 39,
   "metadata": {},
   "outputs": [
    {
     "data": {
      "text/plain": [
       "[('ступня_NOUN', 0.7718375325202942),\n",
       " ('колено_NOUN', 0.6962578296661377),\n",
       " ('пятка_NOUN', 0.6837246417999268),\n",
       " ('коленка_NOUN', 0.6825920939445496),\n",
       " ('ножище_NOUN', 0.6545892953872681),\n",
       " ('щиколотка_NOUN', 0.6472011804580688),\n",
       " ('босой_ADJ', 0.6447618007659912),\n",
       " ('ножка_NOUN', 0.6411070823669434),\n",
       " ('выбленка_NOUN', 0.6356458067893982),\n",
       " ('подгибать_VERB', 0.6286713480949402)]"
      ]
     },
     "execution_count": 39,
     "metadata": {},
     "output_type": "execute_result"
    }
   ],
   "source": [
    "word2vec_rus.most_similar(['нога_NOUN'])"
   ]
  },
  {
   "cell_type": "markdown",
   "metadata": {},
   "source": [
    "Сходство с колено на 0.6962578296661377"
   ]
  },
  {
   "cell_type": "markdown",
   "metadata": {},
   "source": [
    "22"
   ]
  },
  {
   "cell_type": "code",
   "execution_count": 40,
   "metadata": {},
   "outputs": [
    {
     "data": {
      "text/plain": [
       "[('сказать_VERB', 0.7460559606552124),\n",
       " ('заговаривать_VERB', 0.6289093494415283),\n",
       " ('разговаривать_VERB', 0.6109618544578552),\n",
       " ('думать_VERB', 0.5952857136726379),\n",
       " ('толковать_VERB', 0.5946201086044312),\n",
       " ('рассуждать_VERB', 0.5899632573127747),\n",
       " ('рассказывать_VERB', 0.5743502974510193),\n",
       " ('отвечать_VERB', 0.5691350698471069),\n",
       " ('возражать_VERB', 0.5670305490493774),\n",
       " ('уверять_VERB', 0.5664991736412048)]"
      ]
     },
     "execution_count": 40,
     "metadata": {},
     "output_type": "execute_result"
    }
   ],
   "source": [
    "word2vec_rus.most_similar(['говорить_VERB'])"
   ]
  },
  {
   "cell_type": "markdown",
   "metadata": {},
   "source": [
    "23"
   ]
  },
  {
   "cell_type": "code",
   "execution_count": 41,
   "metadata": {},
   "outputs": [
    {
     "data": {
      "text/plain": [
       "[('похожий_ADJ', 0.6453876495361328),\n",
       " ('походить_VERB', 0.575079083442688),\n",
       " ('вспомнить_VERB', 0.5691713690757751),\n",
       " ('вспоминаться_VERB', 0.5590400695800781),\n",
       " ('отдаленно_ADV', 0.5575921535491943),\n",
       " ('вспоминать_VERB', 0.4964057505130768),\n",
       " ('схожий_ADJ', 0.49625611305236816),\n",
       " ('вспомниться_VERB', 0.483428418636322),\n",
       " ('характерный_ADJ', 0.4798958897590637),\n",
       " ('вроде_ADP', 0.46253496408462524)]"
      ]
     },
     "execution_count": 41,
     "metadata": {},
     "output_type": "execute_result"
    }
   ],
   "source": [
    "word2vec_rus.most_similar(['напоминать_VERB'])"
   ]
  },
  {
   "cell_type": "markdown",
   "metadata": {},
   "source": [
    "24"
   ]
  },
  {
   "cell_type": "code",
   "execution_count": 42,
   "metadata": {},
   "outputs": [
    {
     "data": {
      "text/plain": [
       "[('молодость_NOUN', 0.7977959513664246),\n",
       " ('отрочество_NOUN', 0.7581125497817993),\n",
       " ('детство_NOUN', 0.7271850109100342),\n",
       " ('юношеский_ADJ', 0.6482104063034058),\n",
       " ('отроческий_ADJ', 0.6226826906204224),\n",
       " ('юный_ADJ', 0.5394283533096313),\n",
       " ('младенчество_NOUN', 0.5392909049987793),\n",
       " ('воспоминание_NOUN', 0.5300004482269287),\n",
       " ('юноша_NOUN', 0.5263450741767883),\n",
       " ('когда-то_ADV', 0.5111210346221924)]"
      ]
     },
     "execution_count": 42,
     "metadata": {},
     "output_type": "execute_result"
    }
   ],
   "source": [
    "word2vec_rus.most_similar(['юность_NOUN'])"
   ]
  },
  {
   "cell_type": "markdown",
   "metadata": {},
   "source": [
    "25"
   ]
  },
  {
   "cell_type": "code",
   "execution_count": 43,
   "metadata": {},
   "outputs": [
    {
     "data": {
      "text/plain": [
       "[('юность_NOUN', 0.7977958917617798),\n",
       " ('юношеский_ADJ', 0.611396074295044),\n",
       " ('детство_NOUN', 0.5836629271507263),\n",
       " ('смолоду_ADV', 0.5830738544464111),\n",
       " ('отрочество_NOUN', 0.5827926993370056),\n",
       " ('старость_NOUN', 0.572577714920044),\n",
       " ('лета_NOUN', 0.513618528842926),\n",
       " ('увлечение_NOUN', 0.5121682286262512),\n",
       " ('отроческий_ADJ', 0.5083934664726257),\n",
       " ('молодой_ADJ', 0.5053788423538208)]"
      ]
     },
     "execution_count": 43,
     "metadata": {},
     "output_type": "execute_result"
    }
   ],
   "source": [
    "word2vec_rus.most_similar(['молодость_NOUN'])"
   ]
  },
  {
   "cell_type": "markdown",
   "metadata": {},
   "source": [
    "26"
   ]
  },
  {
   "cell_type": "code",
   "execution_count": 44,
   "metadata": {},
   "outputs": [
    {
     "data": {
      "text/plain": [
       "[('думать_VERB', 0.7572885751724243),\n",
       " ('подуматься_VERB', 0.7146463394165039),\n",
       " ('соображать_VERB', 0.6467424035072327),\n",
       " ('неужели_PART', 0.6291605830192566),\n",
       " ('таюшка_NOUN', 0.60714191198349),\n",
       " ('наверное_ADV', 0.606988787651062),\n",
       " ('сказать_VERB', 0.6064861416816711),\n",
       " ('понимать_VERB', 0.6045807003974915),\n",
       " ('наверно_ADV', 0.6023298501968384),\n",
       " ('вспомнить_VERB', 0.600773274898529)]"
      ]
     },
     "execution_count": 44,
     "metadata": {},
     "output_type": "execute_result"
    }
   ],
   "source": [
    "word2vec_rus.most_similar(['подумать_VERB'])"
   ]
  },
  {
   "cell_type": "markdown",
   "metadata": {},
   "source": [
    "27"
   ]
  },
  {
   "cell_type": "code",
   "execution_count": 45,
   "metadata": {},
   "outputs": [
    {
     "data": {
      "text/plain": [
       "[('узас_NOUN', 0.6686125993728638),\n",
       " ('спокойный_ADJ', 0.6017919778823853),\n",
       " ('кроткий_ADJ', 0.6015137434005737),\n",
       " ('безмятежный_ADJ', 0.5760226249694824),\n",
       " ('тихо_ADV', 0.55251145362854),\n",
       " ('возмутимый_ADJ', 0.5426602959632874),\n",
       " ('затишие_NOUN', 0.538031816482544),\n",
       " ('негромкий_ADJ', 0.516839325428009),\n",
       " ('задумчивый_ADJ', 0.5166245102882385),\n",
       " ('яркозвездный_ADJ', 0.516205370426178)]"
      ]
     },
     "execution_count": 45,
     "metadata": {},
     "output_type": "execute_result"
    }
   ],
   "source": [
    "word2vec_rus.most_similar(['тихий_ADJ'])"
   ]
  },
  {
   "cell_type": "markdown",
   "metadata": {},
   "source": [
    "28"
   ]
  },
  {
   "cell_type": "code",
   "execution_count": 46,
   "metadata": {},
   "outputs": [
    {
     "data": {
      "text/plain": [
       "[('бесшумно_ADV', 0.6383017897605896),\n",
       " ('неслышно_ADV', 0.5398164391517639),\n",
       " ('неслышный_ADJ', 0.5192219018936157),\n",
       " ('беззвучный_ADJ', 0.5153641700744629),\n",
       " ('беспламенный_ADJ', 0.4845457673072815),\n",
       " ('бесшумность_NOUN', 0.47272300720214844),\n",
       " ('плавный_ADJ', 0.4704437553882599),\n",
       " ('стремительный_ADJ', 0.4676719307899475),\n",
       " ('скользить_VERB', 0.4596587121486664),\n",
       " ('красться_VERB', 0.4562971889972687)]"
      ]
     },
     "execution_count": 46,
     "metadata": {},
     "output_type": "execute_result"
    }
   ],
   "source": [
    "word2vec_rus.most_similar(['бесшумный_ADJ'])"
   ]
  },
  {
   "cell_type": "markdown",
   "metadata": {},
   "source": [
    "29"
   ]
  },
  {
   "cell_type": "code",
   "execution_count": 47,
   "metadata": {},
   "outputs": [
    {
     "data": {
      "text/plain": [
       "[('знойный_ADJ', 0.7875068187713623),\n",
       " ('жара_NOUN', 0.7867408990859985),\n",
       " ('палящий_ADJ', 0.7145835161209106),\n",
       " ('прохлада_NOUN', 0.683534562587738),\n",
       " ('жаркий_ADJ', 0.6749463677406311),\n",
       " ('палящий::зной_NOUN', 0.674280047416687),\n",
       " ('духота_NOUN', 0.6314080357551575),\n",
       " ('полуденный_ADJ', 0.6295920014381409),\n",
       " ('знойно_ADV', 0.6144376993179321),\n",
       " ('солнце_NOUN', 0.5982635617256165)]"
      ]
     },
     "execution_count": 47,
     "metadata": {},
     "output_type": "execute_result"
    }
   ],
   "source": [
    "word2vec_rus.most_similar(['зной_NOUN'])"
   ]
  },
  {
   "cell_type": "markdown",
   "metadata": {},
   "source": [
    "30"
   ]
  },
  {
   "cell_type": "code",
   "execution_count": 48,
   "metadata": {},
   "outputs": [
    {
     "data": {
      "text/plain": [
       "[('каменистый_ADJ', 0.7660151720046997),\n",
       " ('песок_NOUN', 0.7372782826423645),\n",
       " ('глинистый_ADJ', 0.7165072560310364),\n",
       " ('щебневой_ADJ', 0.6947311162948608),\n",
       " ('заросль::чий_NOUN', 0.6778991222381592),\n",
       " ('солонцовый::степь_NOUN', 0.6660633087158203),\n",
       " ('пологий_ADJ', 0.6612870097160339),\n",
       " ('выцвет::соль_NOUN', 0.6600061655044556),\n",
       " ('галечниковый_ADJ', 0.6571435928344727),\n",
       " ('бархан_NOUN', 0.6565955877304077)]"
      ]
     },
     "execution_count": 48,
     "metadata": {},
     "output_type": "execute_result"
    }
   ],
   "source": [
    "word2vec_rus.most_similar(['песчаный_ADJ'])"
   ]
  },
  {
   "cell_type": "markdown",
   "metadata": {},
   "source": [
    "31"
   ]
  },
  {
   "cell_type": "code",
   "execution_count": 49,
   "metadata": {},
   "outputs": [
    {
     "data": {
      "text/plain": [
       "[('указательный_ADJ', 0.8250387907028198),\n",
       " ('мизинец_NOUN', 0.7599841952323914),\n",
       " ('пальчик_NOUN', 0.746143102645874),\n",
       " ('ладонь_NOUN', 0.714133083820343),\n",
       " ('ноготь_NOUN', 0.6660648584365845),\n",
       " ('рука_NOUN', 0.647777795791626),\n",
       " ('кончик_NOUN', 0.6308057308197021),\n",
       " ('растопыривать_VERB', 0.6117023229598999),\n",
       " ('перст_NOUN', 0.6094802021980286),\n",
       " ('запястье_NOUN', 0.5961865186691284)]"
      ]
     },
     "execution_count": 49,
     "metadata": {},
     "output_type": "execute_result"
    }
   ],
   "source": [
    "word2vec_rus.most_similar(['палец_NOUN'])"
   ]
  },
  {
   "cell_type": "markdown",
   "metadata": {},
   "source": [
    "32"
   ]
  },
  {
   "cell_type": "code",
   "execution_count": 50,
   "metadata": {},
   "outputs": [
    {
     "data": {
      "text/plain": [
       "[('отрочество_NOUN', 0.7459492683410645),\n",
       " ('юность_NOUN', 0.7271850109100342),\n",
       " ('младенчество_NOUN', 0.6251136064529419),\n",
       " ('молодость_NOUN', 0.5836629271507263),\n",
       " ('когда-то_ADV', 0.5574246048927307),\n",
       " ('отроческий_ADJ', 0.5518966913223267),\n",
       " ('хашемка_NOUN', 0.5181061029434204),\n",
       " ('сверстник_NOUN', 0.5087193250656128),\n",
       " ('мальчик_NOUN', 0.5002208948135376),\n",
       " ('сухоломский_ADJ', 0.4978991150856018)]"
      ]
     },
     "execution_count": 50,
     "metadata": {},
     "output_type": "execute_result"
    }
   ],
   "source": [
    "word2vec_rus.most_similar(['детство_NOUN'])"
   ]
  },
  {
   "cell_type": "markdown",
   "metadata": {},
   "source": [
    "33"
   ]
  },
  {
   "cell_type": "code",
   "execution_count": 51,
   "metadata": {},
   "outputs": [
    {
     "data": {
      "text/plain": [
       "[('лишать_VERB', 0.5873145461082458),\n",
       " ('отымать_VERB', 0.5420864820480347),\n",
       " ('завладевать_VERB', 0.5349892973899841),\n",
       " ('отымут_NOUN', 0.5328430533409119),\n",
       " ('отнятие_NOUN', 0.524186372756958),\n",
       " ('возвращать_VERB', 0.5234795808792114),\n",
       " ('отдавать_VERB', 0.5205693244934082),\n",
       " ('лишаться_VERB', 0.5190723538398743),\n",
       " ('отбирать_VERB', 0.5144428610801697),\n",
       " ('заграбить_VERB', 0.5138245820999146)]"
      ]
     },
     "execution_count": 51,
     "metadata": {},
     "output_type": "execute_result"
    }
   ],
   "source": [
    "word2vec_rus.most_similar(['отнимать_VERB'])"
   ]
  },
  {
   "cell_type": "markdown",
   "metadata": {},
   "source": [
    "34"
   ]
  },
  {
   "cell_type": "code",
   "execution_count": 52,
   "metadata": {},
   "outputs": [
    {
     "data": {
      "text/plain": [
       "[('сугроб_NOUN', 0.8339068293571472),\n",
       " ('снежный_ADJ', 0.7659668922424316),\n",
       " ('снежок_NOUN', 0.7029555439949036),\n",
       " ('иней_NOUN', 0.7008833289146423),\n",
       " ('метель_NOUN', 0.7003871202468872),\n",
       " ('запорашивать_VERB', 0.6527348756790161),\n",
       " ('подтаивать_VERB', 0.6487394571304321),\n",
       " ('намести::сугроб_VERB', 0.6478285789489746),\n",
       " ('хлопья_NOUN', 0.6386489868164062),\n",
       " ('свежевыпавший_ADJ', 0.6360927224159241)]"
      ]
     },
     "execution_count": 52,
     "metadata": {},
     "output_type": "execute_result"
    }
   ],
   "source": [
    "word2vec_rus.most_similar(['снег_NOUN'])"
   ]
  },
  {
   "cell_type": "markdown",
   "metadata": {},
   "source": [
    "35"
   ]
  },
  {
   "cell_type": "code",
   "execution_count": 53,
   "metadata": {},
   "outputs": [
    {
     "data": {
      "text/plain": [
       "[('детская_NOUN', 0.6177568435668945),\n",
       " ('ребячий_ADJ', 0.6095229387283325),\n",
       " ('юношеский_ADJ', 0.6076046228408813),\n",
       " ('малыш_NOUN', 0.5719236135482788),\n",
       " ('взрослый_NOUN', 0.5716327428817749),\n",
       " ('ребенок_NOUN', 0.5703864693641663),\n",
       " ('младенческий_ADJ', 0.5644773244857788),\n",
       " ('ясельный_ADJ', 0.5644679069519043),\n",
       " ('подростковый_ADJ', 0.5627633333206177),\n",
       " ('ясел_NOUN', 0.5566546320915222)]"
      ]
     },
     "execution_count": 53,
     "metadata": {},
     "output_type": "execute_result"
    }
   ],
   "source": [
    "word2vec_rus.most_similar(['детский_ADJ'])"
   ]
  },
  {
   "cell_type": "markdown",
   "metadata": {},
   "source": [
    "36"
   ]
  },
  {
   "cell_type": "code",
   "execution_count": 54,
   "metadata": {},
   "outputs": [
    {
     "data": {
      "text/plain": [
       "[('взрослый_NOUN', 0.679785430431366),\n",
       " ('подростковый_ADJ', 0.649376630783081),\n",
       " ('взрослый_ADJ', 0.6303962469100952),\n",
       " ('мальчик_NOUN', 0.6047288775444031),\n",
       " ('девочка_NOUN', 0.5990970730781555),\n",
       " ('школьник_NOUN', 0.5895147919654846),\n",
       " ('несовершеннолетний_ADJ', 0.5824267864227295),\n",
       " ('ребенок_NOUN', 0.5819493532180786),\n",
       " ('мальчишка_NOUN', 0.5787150859832764),\n",
       " ('старшеклассник_NOUN', 0.5716299414634705)]"
      ]
     },
     "execution_count": 54,
     "metadata": {},
     "output_type": "execute_result"
    }
   ],
   "source": [
    "word2vec_rus.most_similar(['подросток_NOUN'])"
   ]
  },
  {
   "cell_type": "markdown",
   "metadata": {},
   "source": [
    "37"
   ]
  },
  {
   "cell_type": "code",
   "execution_count": 55,
   "metadata": {},
   "outputs": [
    {
     "data": {
      "text/plain": [
       "[('паренек_NOUN', 0.8012157082557678),\n",
       " ('парнишка_NOUN', 0.7545560002326965),\n",
       " ('девушка_NOUN', 0.6962783932685852),\n",
       " ('ребята_NOUN', 0.6942609548568726),\n",
       " ('девчонка_NOUN', 0.6828367114067078),\n",
       " ('девка_NOUN', 0.6756445169448853),\n",
       " ('мужик_NOUN', 0.6661965847015381),\n",
       " ('пацан_NOUN', 0.6641927361488342),\n",
       " ('девчата_NOUN', 0.6404098868370056),\n",
       " ('детина_NOUN', 0.6267892718315125)]"
      ]
     },
     "execution_count": 55,
     "metadata": {},
     "output_type": "execute_result"
    }
   ],
   "source": [
    "word2vec_rus.most_similar(['парень_NOUN'])"
   ]
  },
  {
   "cell_type": "markdown",
   "metadata": {},
   "source": [
    "Сходство с девушка на 0.6962783932685852"
   ]
  },
  {
   "cell_type": "markdown",
   "metadata": {},
   "source": [
    "38"
   ]
  },
  {
   "cell_type": "code",
   "execution_count": 56,
   "metadata": {},
   "outputs": [
    {
     "data": {
      "text/plain": [
       "[('женщина_NOUN', 0.7294459939002991),\n",
       " ('девочка_NOUN', 0.7085126638412476),\n",
       " ('девица_NOUN', 0.7008163332939148),\n",
       " ('парень_NOUN', 0.69627845287323),\n",
       " ('юноша_NOUN', 0.6957588195800781),\n",
       " ('девчонка_NOUN', 0.6638965606689453),\n",
       " ('барышня_NOUN', 0.6593115329742432),\n",
       " ('красавица_NOUN', 0.6515588164329529),\n",
       " ('миловидный_ADJ', 0.6414471864700317),\n",
       " ('подруга_NOUN', 0.6385024785995483)]"
      ]
     },
     "execution_count": 56,
     "metadata": {},
     "output_type": "execute_result"
    }
   ],
   "source": [
    "word2vec_rus.most_similar(['девушка_NOUN'])"
   ]
  },
  {
   "cell_type": "markdown",
   "metadata": {},
   "source": [
    "39"
   ]
  },
  {
   "cell_type": "code",
   "execution_count": 57,
   "metadata": {},
   "outputs": [
    {
     "data": {
      "text/plain": [
       "[('двигаться_VERB', 0.5406854152679443),\n",
       " ('разгибание_NOUN', 0.5168459415435791),\n",
       " ('качательный_ADJ', 0.5161465406417847),\n",
       " ('сгибательный_ADJ', 0.5149765610694885),\n",
       " ('гребковый_ADJ', 0.5036463737487793),\n",
       " ('вращательный_ADJ', 0.49989455938339233),\n",
       " ('перемещение_NOUN', 0.49716517329216003),\n",
       " ('жест_NOUN', 0.4885140359401703),\n",
       " ('возвратно-поступательный_ADJ', 0.48673659563064575),\n",
       " ('приподнимание_NOUN', 0.48491325974464417)]"
      ]
     },
     "execution_count": 57,
     "metadata": {},
     "output_type": "execute_result"
    }
   ],
   "source": [
    "word2vec_rus.most_similar(['движение_NOUN'])"
   ]
  },
  {
   "cell_type": "markdown",
   "metadata": {},
   "source": [
    "40"
   ]
  },
  {
   "cell_type": "code",
   "execution_count": 58,
   "metadata": {},
   "outputs": [
    {
     "data": {
      "text/plain": [
       "[('стоящий_ADJ', 0.6637146472930908),\n",
       " ('сидеть_VERB', 0.6171644926071167),\n",
       " ('простаивать_VERB', 0.5575822591781616),\n",
       " ('выситься_VERB', 0.5486747026443481),\n",
       " ('стоя_ADV', 0.5406786203384399),\n",
       " ('лежать_VERB', 0.529973030090332),\n",
       " ('столпиться_VERB', 0.5263019800186157),\n",
       " ('поставлять_VERB', 0.5250144004821777),\n",
       " ('толпиться_VERB', 0.5221884250640869),\n",
       " ('неподвижно_ADV', 0.5192099213600159)]"
      ]
     },
     "execution_count": 58,
     "metadata": {},
     "output_type": "execute_result"
    }
   ],
   "source": [
    "word2vec_rus.most_similar(['стоять_VERB'])"
   ]
  },
  {
   "cell_type": "markdown",
   "metadata": {},
   "source": [
    "Сходство с лежать на 0.529973030090332"
   ]
  },
  {
   "cell_type": "markdown",
   "metadata": {},
   "source": [
    "41"
   ]
  },
  {
   "cell_type": "code",
   "execution_count": 59,
   "metadata": {},
   "outputs": [
    {
     "data": {
      "text/plain": [
       "[('валяться_VERB', 0.6407403945922852),\n",
       " ('ложиться_VERB', 0.6325908899307251),\n",
       " ('ничком_ADV', 0.5811019539833069),\n",
       " ('покоиться_VERB', 0.5709569454193115),\n",
       " ('пролеживать_VERB', 0.554681122303009),\n",
       " ('полагать_VERB', 0.5513905882835388),\n",
       " ('стоять_VERB', 0.5299730896949768),\n",
       " ('полусидеть::полулежать_VERB', 0.5194352865219116),\n",
       " ('класть_VERB', 0.5118869543075562),\n",
       " ('нераздетый_ADJ', 0.5097681879997253)]"
      ]
     },
     "execution_count": 59,
     "metadata": {},
     "output_type": "execute_result"
    }
   ],
   "source": [
    "word2vec_rus.most_similar(['лежать_VERB'])"
   ]
  },
  {
   "cell_type": "markdown",
   "metadata": {},
   "source": [
    "42"
   ]
  },
  {
   "cell_type": "code",
   "execution_count": 60,
   "metadata": {},
   "outputs": [
    {
     "data": {
      "text/plain": [
       "[('крошечный_ADJ', 0.8238351941108704),\n",
       " ('крохотный_ADJ', 0.7617193460464478),\n",
       " ('небольшой_ADJ', 0.6840322017669678),\n",
       " ('малюсенький_ADJ', 0.6748129725456238),\n",
       " ('премаленький_ADJ', 0.590681791305542),\n",
       " ('ноготок::вострый_NOUN', 0.5643560290336609),\n",
       " ('оля::чурков_NOUN', 0.5597336292266846),\n",
       " ('игрушечный_ADJ', 0.556629478931427),\n",
       " ('миниатюрный_ADJ', 0.5557196140289307),\n",
       " ('лорд::фаунтлерой_NOUN', 0.5504792332649231)]"
      ]
     },
     "execution_count": 60,
     "metadata": {},
     "output_type": "execute_result"
    }
   ],
   "source": [
    "word2vec_rus.most_similar(['маленький_ADJ'])"
   ]
  },
  {
   "cell_type": "markdown",
   "metadata": {},
   "source": [
    "43"
   ]
  },
  {
   "cell_type": "code",
   "execution_count": 61,
   "metadata": {},
   "outputs": [
    {
     "data": {
      "text/plain": [
       "[('огромный_ADJ', 0.7633992433547974),\n",
       " ('громадный_ADJ', 0.6909629702568054),\n",
       " ('небольшой_ADJ', 0.6376962661743164),\n",
       " ('немалый_ADJ', 0.5968814492225647),\n",
       " ('больший_ADJ', 0.5878646969795227),\n",
       " ('колоссальный_ADJ', 0.5794062614440918),\n",
       " ('значительный_ADJ', 0.5665554404258728),\n",
       " ('маленький_ADJ', 0.5322667956352234),\n",
       " ('меньший_ADJ', 0.5304298996925354),\n",
       " ('малый_ADJ', 0.5238308906555176)]"
      ]
     },
     "execution_count": 61,
     "metadata": {},
     "output_type": "execute_result"
    }
   ],
   "source": [
    "word2vec_rus.most_similar(['большой_ADJ'])"
   ]
  },
  {
   "cell_type": "markdown",
   "metadata": {},
   "source": [
    "Сходство с маленький на 0.5322667956352234"
   ]
  },
  {
   "cell_type": "markdown",
   "metadata": {},
   "source": [
    "44"
   ]
  },
  {
   "cell_type": "code",
   "execution_count": 62,
   "metadata": {},
   "outputs": [
    {
     "data": {
      "text/plain": [
       "[('престарый_ADJ', 0.6504433155059814),\n",
       " ('старинный_ADJ', 0.5639446973800659),\n",
       " ('старое_NOUN', 0.5409898161888123),\n",
       " ('дряхлый_ADJ', 0.5314223170280457),\n",
       " ('ветхий_ADJ', 0.5201783776283264),\n",
       " ('прежний_ADJ', 0.5181597471237183),\n",
       " ('стародавний_ADJ', 0.5057393312454224),\n",
       " ('портофранковский_ADJ', 0.5000864267349243),\n",
       " ('отживать_VERB', 0.48734086751937866),\n",
       " ('старенький_ADJ', 0.4860408306121826)]"
      ]
     },
     "execution_count": 62,
     "metadata": {},
     "output_type": "execute_result"
    }
   ],
   "source": [
    "word2vec_rus.most_similar(['старый_ADJ'])"
   ]
  },
  {
   "cell_type": "markdown",
   "metadata": {},
   "source": [
    "45"
   ]
  },
  {
   "cell_type": "code",
   "execution_count": 63,
   "metadata": {},
   "outputs": [
    {
     "data": {
      "text/plain": [
       "[('солнечный_ADJ', 0.7582582235336304),\n",
       " ('луч_NOUN', 0.724880576133728),\n",
       " ('светить_VERB', 0.7127941846847534),\n",
       " ('солнышко_NOUN', 0.6779330372810364),\n",
       " ('закат_NOUN', 0.663055956363678),\n",
       " ('восход_NOUN', 0.6548522114753723),\n",
       " ('облако_NOUN', 0.6377376317977905),\n",
       " ('луна_NOUN', 0.6367784142494202),\n",
       " ('беззакатный_ADJ', 0.6311318278312683),\n",
       " ('позолотиться_VERB', 0.6215198040008545)]"
      ]
     },
     "execution_count": 63,
     "metadata": {},
     "output_type": "execute_result"
    }
   ],
   "source": [
    "word2vec_rus.most_similar(['солнце_NOUN'])"
   ]
  },
  {
   "cell_type": "markdown",
   "metadata": {},
   "source": [
    "46"
   ]
  },
  {
   "cell_type": "code",
   "execution_count": 64,
   "metadata": {},
   "outputs": [
    {
     "data": {
      "text/plain": [
       "[('немолодой_ADJ', 0.8109118342399597),\n",
       " ('худощавый_ADJ', 0.6347253918647766),\n",
       " ('молодой_ADJ', 0.613919734954834),\n",
       " ('усатый_ADJ', 0.5918733477592468),\n",
       " ('предпенсионный_ADJ', 0.585301399230957),\n",
       " ('дородный_ADJ', 0.581805408000946),\n",
       " ('коренастый_ADJ', 0.575583815574646),\n",
       " ('мужчина_NOUN', 0.5731431245803833),\n",
       " ('сухощавый_ADJ', 0.5711685419082642),\n",
       " ('моложавый_ADJ', 0.5706771612167358)]"
      ]
     },
     "execution_count": 64,
     "metadata": {},
     "output_type": "execute_result"
    }
   ],
   "source": [
    "word2vec_rus.most_similar(['пожилой_ADJ'])"
   ]
  },
  {
   "cell_type": "markdown",
   "metadata": {},
   "source": [
    "47"
   ]
  },
  {
   "cell_type": "code",
   "execution_count": 65,
   "metadata": {},
   "outputs": [
    {
     "data": {
      "text/plain": [
       "[('воевать_VERB', 0.6500267386436462),\n",
       " ('мировой::бойня_NOUN', 0.6380674242973328),\n",
       " ('ситлуэт_NOUN', 0.6369897723197937),\n",
       " ('испано-американский_ADJ', 0.6301962733268738),\n",
       " ('империалистический_ADJ', 0.6278791427612305),\n",
       " ('русско-японский_ADJ', 0.6104004383087158),\n",
       " ('англо-бурский_ADJ', 0.5912473201751709),\n",
       " ('брусиловский::прорыв_NOUN', 0.5895888209342957),\n",
       " ('франко-прусский_ADJ', 0.5882444977760315),\n",
       " ('итало::абиссинский_ADJ', 0.5476731061935425)]"
      ]
     },
     "execution_count": 65,
     "metadata": {},
     "output_type": "execute_result"
    }
   ],
   "source": [
    "word2vec_rus.most_similar(['война_NOUN'])"
   ]
  },
  {
   "cell_type": "markdown",
   "metadata": {},
   "source": [
    "48"
   ]
  },
  {
   "cell_type": "code",
   "execution_count": 66,
   "metadata": {},
   "outputs": [
    {
     "data": {
      "text/plain": [
       "[('европа_NOUN', 0.5369696021080017),\n",
       " ('космичный_ADJ', 0.5308237671852112),\n",
       " ('плерома_NOUN', 0.5197948217391968),\n",
       " ('нешам_NOUN', 0.5140327215194702),\n",
       " ('взаимодополнительность_NOUN', 0.5137215256690979),\n",
       " ('человечество_NOUN', 0.5101547241210938),\n",
       " ('внебожественный_ADJ', 0.509213387966156),\n",
       " ('сотворенность_NOUN', 0.5050803422927856),\n",
       " ('внемирный_ADJ', 0.5048025846481323),\n",
       " ('вселенная_NOUN', 0.5039278268814087)]"
      ]
     },
     "execution_count": 66,
     "metadata": {},
     "output_type": "execute_result"
    }
   ],
   "source": [
    "word2vec_rus.most_similar(['мир_NOUN'])"
   ]
  },
  {
   "cell_type": "markdown",
   "metadata": {},
   "source": [
    "49"
   ]
  },
  {
   "cell_type": "code",
   "execution_count": 67,
   "metadata": {},
   "outputs": [
    {
     "data": {
      "text/plain": [
       "[('останавливаться_VERB', 0.5840883851051331),\n",
       " ('отворять_VERB', 0.5157368183135986),\n",
       " ('приостановиться_VERB', 0.5117720365524292),\n",
       " ('оборотиться_VERB', 0.5114949345588684),\n",
       " ('жолтай::куртка_NOUN', 0.5009909868240356),\n",
       " ('сомко_NOUN', 0.5004817247390747),\n",
       " ('вполголоса_ADV', 0.4942726492881775),\n",
       " ('оправиться_VERB', 0.49116653203964233),\n",
       " ('обратиться_VERB', 0.48942989110946655),\n",
       " ('оживиться_VERB', 0.48467332124710083)]"
      ]
     },
     "execution_count": 67,
     "metadata": {},
     "output_type": "execute_result"
    }
   ],
   "source": [
    "word2vec_rus.most_similar(['остановиться_VERB'])"
   ]
  },
  {
   "cell_type": "markdown",
   "metadata": {},
   "source": [
    "50"
   ]
  },
  {
   "cell_type": "code",
   "execution_count": 68,
   "metadata": {},
   "outputs": [
    {
     "data": {
      "text/plain": [
       "[('звонить_VERB', 0.6559710502624512),\n",
       " ('телефонный_ADJ', 0.6503711938858032),\n",
       " ('позвонить_VERB', 0.6163811087608337),\n",
       " ('тренькнуть_VERB', 0.6094027161598206),\n",
       " ('телефон_NOUN', 0.5979376435279846),\n",
       " ('зазвонить_VERB', 0.5911634564399719),\n",
       " ('ньюс::рум_NOUN', 0.5670908093452454),\n",
       " ('межгород_NOUN', 0.55207359790802),\n",
       " ('нажимать::кнопка_VERB', 0.5409184694290161),\n",
       " ('звоночек_NOUN', 0.5374894738197327)]"
      ]
     },
     "execution_count": 68,
     "metadata": {},
     "output_type": "execute_result"
    }
   ],
   "source": [
    "word2vec_rus.most_similar(['звонок_NOUN'])"
   ]
  },
  {
   "cell_type": "markdown",
   "metadata": {},
   "source": [
    "51"
   ]
  },
  {
   "cell_type": "code",
   "execution_count": 69,
   "metadata": {},
   "outputs": [
    {
     "data": {
      "text/plain": [
       "[('дожидаться_VERB', 0.7912707328796387),\n",
       " ('ожидать_VERB', 0.7899836301803589),\n",
       " ('дождаться_VERB', 0.748540461063385),\n",
       " ('поджидать_VERB', 0.668449878692627),\n",
       " ('ожидание_NOUN', 0.6064499616622925),\n",
       " ('нетерпение_NOUN', 0.5820263624191284),\n",
       " ('выжидать_VERB', 0.565498948097229),\n",
       " ('подождать_VERB', 0.565147876739502),\n",
       " ('прождать_VERB', 0.5641930103302002),\n",
       " ('медлить_VERB', 0.5367820262908936)]"
      ]
     },
     "execution_count": 69,
     "metadata": {},
     "output_type": "execute_result"
    }
   ],
   "source": [
    "word2vec_rus.most_similar(['ждать_VERB'])"
   ]
  },
  {
   "cell_type": "markdown",
   "metadata": {},
   "source": [
    "52"
   ]
  },
  {
   "cell_type": "code",
   "execution_count": 70,
   "metadata": {},
   "outputs": [
    {
     "data": {
      "text/plain": [
       "[('полежать_VERB', 0.6965344548225403),\n",
       " ('побыть_VERB', 0.6854257583618164),\n",
       " ('постоять_VERB', 0.653368353843689),\n",
       " ('погулять_VERB', 0.649203896522522),\n",
       " ('покурить_VERB', 0.6488432884216309),\n",
       " ('поболтать_VERB', 0.6471668481826782),\n",
       " ('часок_NOUN', 0.6300534009933472),\n",
       " ('поспать_VERB', 0.6237409114837646),\n",
       " ('поговорить_VERB', 0.6188113689422607),\n",
       " ('попить_VERB', 0.6138584017753601)]"
      ]
     },
     "execution_count": 70,
     "metadata": {},
     "output_type": "execute_result"
    }
   ],
   "source": [
    "word2vec_rus.most_similar(['посидеть_VERB'])"
   ]
  },
  {
   "cell_type": "markdown",
   "metadata": {},
   "source": [
    "53"
   ]
  },
  {
   "cell_type": "code",
   "execution_count": 71,
   "metadata": {},
   "outputs": [
    {
     "data": {
      "text/plain": [
       "[('зимний_ADJ', 0.6103171110153198),\n",
       " ('осенний_ADJ', 0.5705555081367493),\n",
       " ('весенний_ADJ', 0.5457171201705933),\n",
       " ('десятилетний_ADJ', 0.5393471121788025),\n",
       " ('лето_NOUN', 0.5186918377876282),\n",
       " ('майский_ADJ', 0.5110883116722107),\n",
       " ('летнйи_NOUN', 0.4972410202026367),\n",
       " ('раннеосенний_ADJ', 0.49233025312423706),\n",
       " ('безморозный_ADJ', 0.48703232407569885),\n",
       " ('пятнадцатилетний_ADJ', 0.48666250705718994)]"
      ]
     },
     "execution_count": 71,
     "metadata": {},
     "output_type": "execute_result"
    }
   ],
   "source": [
    "word2vec_rus.most_similar(['летний_ADJ'])"
   ]
  },
  {
   "cell_type": "markdown",
   "metadata": {},
   "source": [
    "Сходство с зимний на 0.6103171110153198"
   ]
  },
  {
   "cell_type": "markdown",
   "metadata": {},
   "source": [
    "54"
   ]
  },
  {
   "cell_type": "code",
   "execution_count": 72,
   "metadata": {},
   "outputs": [
    {
     "data": {
      "text/plain": [
       "[('возить_VERB', 0.7334160804748535),\n",
       " ('разъезжать_VERB', 0.7210493087768555),\n",
       " ('поехать_VERB', 0.7157444953918457),\n",
       " ('ехать_VERB', 0.7042784094810486),\n",
       " ('приезжать_VERB', 0.6908524632453918),\n",
       " ('выезжать_VERB', 0.6634229421615601),\n",
       " ('ходить_VERB', 0.6517950892448425),\n",
       " ('езжать_VERB', 0.6308326721191406),\n",
       " ('съездить_VERB', 0.6224575638771057),\n",
       " ('заезжать_VERB', 0.6168586611747742)]"
      ]
     },
     "execution_count": 72,
     "metadata": {},
     "output_type": "execute_result"
    }
   ],
   "source": [
    "word2vec_rus.most_similar(['ездить_VERB'])"
   ]
  },
  {
   "cell_type": "markdown",
   "metadata": {},
   "source": [
    "55"
   ]
  },
  {
   "cell_type": "code",
   "execution_count": 73,
   "metadata": {},
   "outputs": [
    {
     "data": {
      "text/plain": [
       "[('вечер_NOUN', 0.7375167012214661),\n",
       " ('рассвет_NOUN', 0.736522376537323),\n",
       " ('утро_NOUN', 0.6998549699783325),\n",
       " ('полночь_NOUN', 0.6829676032066345),\n",
       " ('напролет_ADV', 0.6194927096366882),\n",
       " ('сумерки_NOUN', 0.6130235195159912),\n",
       " ('ночной_ADJ', 0.6043827533721924),\n",
       " ('бессонный_ADJ', 0.5970311760902405),\n",
       " ('спать_VERB', 0.5932828187942505),\n",
       " ('полдень_NOUN', 0.5922213196754456)]"
      ]
     },
     "execution_count": 73,
     "metadata": {},
     "output_type": "execute_result"
    }
   ],
   "source": [
    "word2vec_rus.most_similar(['ночь_NOUN'])"
   ]
  },
  {
   "cell_type": "markdown",
   "metadata": {},
   "source": [
    "Сходство с утро на 0.6998549699783325"
   ]
  },
  {
   "cell_type": "markdown",
   "metadata": {},
   "source": [
    "56"
   ]
  },
  {
   "cell_type": "code",
   "execution_count": 74,
   "metadata": {},
   "outputs": [
    {
     "data": {
      "text/plain": [
       "[('закатный_ADJ', 0.7623971104621887),\n",
       " ('заря_NOUN', 0.7170749306678772),\n",
       " ('восход_NOUN', 0.6777684688568115),\n",
       " ('солнце_NOUN', 0.6630560159683228),\n",
       " ('сумерки_NOUN', 0.6406779289245605),\n",
       " ('зарево_NOUN', 0.6400619149208069),\n",
       " ('эстерель_NOUN', 0.6194590926170349),\n",
       " ('отблеск_NOUN', 0.6129485368728638),\n",
       " ('вполнеба_ADV', 0.611789882183075),\n",
       " ('багрянеть_VERB', 0.6112107634544373)]"
      ]
     },
     "execution_count": 74,
     "metadata": {},
     "output_type": "execute_result"
    }
   ],
   "source": [
    "word2vec_rus.most_similar(['закат_NOUN'])"
   ]
  },
  {
   "cell_type": "markdown",
   "metadata": {},
   "source": [
    "Сходство с солнцем на 0.6630560159683228"
   ]
  },
  {
   "cell_type": "markdown",
   "metadata": {},
   "source": [
    "57"
   ]
  },
  {
   "cell_type": "code",
   "execution_count": 75,
   "metadata": {},
   "outputs": [
    {
     "data": {
      "text/plain": [
       "[('безлюдный_ADJ', 0.8468911051750183),\n",
       " ('пустыня_NOUN', 0.6237062215805054),\n",
       " ('равнина_NOUN', 0.6234194040298462),\n",
       " ('пустынно_ADV', 0.614431619644165),\n",
       " ('каменистый_ADJ', 0.6059890389442444),\n",
       " ('щебнистый_ADJ', 0.5893515944480896),\n",
       " ('холмистый_ADJ', 0.5820925235748291),\n",
       " ('песчаный_ADJ', 0.581294059753418),\n",
       " ('гористый_ADJ', 0.578934907913208),\n",
       " ('полупустынный_ADJ', 0.5789198279380798)]"
      ]
     },
     "execution_count": 75,
     "metadata": {},
     "output_type": "execute_result"
    }
   ],
   "source": [
    "word2vec_rus.most_similar(['пустынный_ADJ'])"
   ]
  },
  {
   "cell_type": "markdown",
   "metadata": {},
   "source": [
    "58"
   ]
  },
  {
   "cell_type": "code",
   "execution_count": 76,
   "metadata": {},
   "outputs": [
    {
     "data": {
      "text/plain": [
       "[('дома_ADV', 0.6836265921592712),\n",
       " ('домик_NOUN', 0.6716411113739014),\n",
       " ('особняк_NOUN', 0.6681575775146484),\n",
       " ('квартира_NOUN', 0.6364003419876099),\n",
       " ('флигель_NOUN', 0.6331559419631958),\n",
       " ('двухэтажный_ADJ', 0.5991461873054504),\n",
       " ('полукаменный_ADJ', 0.5857471823692322),\n",
       " ('мезонин_NOUN', 0.5743653774261475),\n",
       " ('усадьба_NOUN', 0.5727247595787048),\n",
       " ('изба_NOUN', 0.5710321664810181)]"
      ]
     },
     "execution_count": 76,
     "metadata": {},
     "output_type": "execute_result"
    }
   ],
   "source": [
    "word2vec_rus.most_similar(['дом_NOUN'])"
   ]
  },
  {
   "cell_type": "markdown",
   "metadata": {},
   "source": [
    "59"
   ]
  },
  {
   "cell_type": "code",
   "execution_count": 77,
   "metadata": {},
   "outputs": [
    {
     "data": {
      "text/plain": [
       "[('переулок_NOUN', 0.772068977355957),\n",
       " ('тротуар_NOUN', 0.7517545223236084),\n",
       " ('бульвар_NOUN', 0.7150248885154724),\n",
       " ('улочка_NOUN', 0.6857051849365234),\n",
       " ('набережная_NOUN', 0.6781991124153137),\n",
       " ('мостовая_NOUN', 0.657218337059021),\n",
       " ('домниковка_NOUN', 0.6525576710700989),\n",
       " ('проспект_NOUN', 0.6503961682319641),\n",
       " ('сквер_NOUN', 0.6449273824691772),\n",
       " ('прохожий_NOUN', 0.6363465785980225)]"
      ]
     },
     "execution_count": 77,
     "metadata": {},
     "output_type": "execute_result"
    }
   ],
   "source": [
    "word2vec_rus.most_similar(['улица_NOUN'])"
   ]
  },
  {
   "cell_type": "markdown",
   "metadata": {},
   "source": [
    "60"
   ]
  },
  {
   "cell_type": "code",
   "execution_count": 78,
   "metadata": {},
   "outputs": [
    {
     "data": {
      "text/plain": [
       "[('работать_VERB', 0.6488216519355774),\n",
       " ('пуско::наладочный_ADJ', 0.5520831942558289),\n",
       " ('наладочный_ADJ', 0.5179657936096191),\n",
       " ('общестроительный_ADJ', 0.5123682618141174),\n",
       " ('учеба_NOUN', 0.5118712782859802),\n",
       " ('деятельность_NOUN', 0.5090660452842712),\n",
       " ('грант::рффи_NOUN', 0.5028563737869263),\n",
       " ('работник_NOUN', 0.5006853938102722),\n",
       " ('тогр_NOUN', 0.4930512309074402),\n",
       " ('односменный_ADJ', 0.49021145701408386)]"
      ]
     },
     "execution_count": 78,
     "metadata": {},
     "output_type": "execute_result"
    }
   ],
   "source": [
    "word2vec_rus.most_similar(['работа_NOUN'])"
   ]
  },
  {
   "cell_type": "markdown",
   "metadata": {},
   "source": [
    "61"
   ]
  },
  {
   "cell_type": "code",
   "execution_count": 79,
   "metadata": {},
   "outputs": [
    {
     "data": {
      "text/plain": [
       "[('фабрика_NOUN', 0.741375744342804),\n",
       " ('паровозо_NOUN', 0.6969562768936157),\n",
       " ('машиностроительный_ADJ', 0.6938170194625854),\n",
       " ('вагоностроительный_ADJ', 0.6915866136550903),\n",
       " ('харьковский::паровозостроительный_ADJ', 0.6878175735473633),\n",
       " ('комбинат_NOUN', 0.6805789470672607),\n",
       " ('азотнотуковый_ADJ', 0.6705189347267151),\n",
       " ('руставский_NOUN', 0.6704084873199463),\n",
       " ('металлургический_ADJ', 0.6688265204429626),\n",
       " ('станколит_NOUN', 0.6668234467506409)]"
      ]
     },
     "execution_count": 79,
     "metadata": {},
     "output_type": "execute_result"
    }
   ],
   "source": [
    "word2vec_rus.most_similar(['завод_NOUN'])"
   ]
  },
  {
   "cell_type": "markdown",
   "metadata": {},
   "source": [
    "62"
   ]
  },
  {
   "cell_type": "code",
   "execution_count": 80,
   "metadata": {},
   "outputs": [
    {
     "data": {
      "text/plain": [
       "[('утомляться_VERB', 0.7338153123855591),\n",
       " ('утомлять_VERB', 0.6846556663513184),\n",
       " ('усталый_ADJ', 0.6377957463264465),\n",
       " ('надоедать_VERB', 0.6330567598342896),\n",
       " ('измучиваться_VERB', 0.627461850643158),\n",
       " ('утомленный_ADJ', 0.6262072920799255),\n",
       " ('отдыхать_VERB', 0.5998038053512573),\n",
       " ('измучивать_VERB', 0.5892552733421326),\n",
       " ('усталость_NOUN', 0.5773071050643921),\n",
       " ('соскучиться_VERB', 0.5752314925193787)]"
      ]
     },
     "execution_count": 80,
     "metadata": {},
     "output_type": "execute_result"
    }
   ],
   "source": [
    "word2vec_rus.most_similar(['уставать_VERB'])"
   ]
  },
  {
   "cell_type": "markdown",
   "metadata": {},
   "source": [
    "63"
   ]
  },
  {
   "cell_type": "code",
   "execution_count": 81,
   "metadata": {},
   "outputs": [
    {
     "data": {
      "text/plain": [
       "[('река_NOUN', 0.7577697038650513),\n",
       " ('отмель_NOUN', 0.7229728102684021),\n",
       " ('устье_NOUN', 0.7119936347007751),\n",
       " ('лизард_NOUN', 0.6939881443977356),\n",
       " ('прибрежный_ADJ', 0.6875395774841309),\n",
       " ('речка_NOUN', 0.6853841543197632),\n",
       " ('песчаный::отмель_NOUN', 0.6834509372711182),\n",
       " ('приглубый_ADJ', 0.6687864065170288),\n",
       " ('пристань_NOUN', 0.6488717794418335),\n",
       " ('обрывистый_ADJ', 0.6475945711135864)]"
      ]
     },
     "execution_count": 81,
     "metadata": {},
     "output_type": "execute_result"
    }
   ],
   "source": [
    "word2vec_rus.most_similar(['берег_NOUN'])"
   ]
  },
  {
   "cell_type": "markdown",
   "metadata": {},
   "source": [
    "Сходство с песчаный на 0.6834509372711182"
   ]
  },
  {
   "cell_type": "markdown",
   "metadata": {},
   "source": [
    "64"
   ]
  },
  {
   "cell_type": "code",
   "execution_count": 82,
   "metadata": {},
   "outputs": [
    {
     "data": {
      "text/plain": [
       "[('север_NOUN', 0.8875203132629395),\n",
       " ('юго-восток_NOUN', 0.8023578524589539),\n",
       " ('северо-восток_NOUN', 0.7917273044586182),\n",
       " ('юго-запад_NOUN', 0.7529000639915466),\n",
       " ('северо-запад_NOUN', 0.7498179078102112),\n",
       " ('восток_NOUN', 0.6991261839866638),\n",
       " ('запад_NOUN', 0.6806805729866028),\n",
       " ('южный_ADJ', 0.6763699054718018),\n",
       " ('северный_ADJ', 0.6256608963012695),\n",
       " ('гуа::чжеу_NOUN', 0.6224043369293213)]"
      ]
     },
     "execution_count": 82,
     "metadata": {},
     "output_type": "execute_result"
    }
   ],
   "source": [
    "word2vec_rus.most_similar(['юг_NOUN'])"
   ]
  },
  {
   "cell_type": "markdown",
   "metadata": {},
   "source": [
    "65"
   ]
  },
  {
   "cell_type": "code",
   "execution_count": 83,
   "metadata": {},
   "outputs": [
    {
     "data": {
      "text/plain": [
       "[('праздность_NOUN', 0.6258744597434998),\n",
       " ('скука_NOUN', 0.608644425868988),\n",
       " ('безделие_NOUN', 0.5849834680557251),\n",
       " ('ничегонеделание_NOUN', 0.5212043523788452),\n",
       " ('изнывать_VERB', 0.5198105573654175),\n",
       " ('бездельничанье_NOUN', 0.5198010802268982),\n",
       " ('скучать_VERB', 0.5119922161102295),\n",
       " ('слоняться_VERB', 0.51124107837677),\n",
       " ('лень_NOUN', 0.5046164989471436),\n",
       " ('одиночество_NOUN', 0.5026265382766724)]"
      ]
     },
     "execution_count": 83,
     "metadata": {},
     "output_type": "execute_result"
    }
   ],
   "source": [
    "word2vec_rus.most_similar(['безделье_NOUN'])"
   ]
  },
  {
   "cell_type": "markdown",
   "metadata": {},
   "source": [
    "66"
   ]
  },
  {
   "cell_type": "code",
   "execution_count": 84,
   "metadata": {},
   "outputs": [
    {
     "data": {
      "text/plain": [
       "[('ветерок_NOUN', 0.7076680660247803),\n",
       " ('ветер_NOUN', 0.5587250590324402),\n",
       " ('обвевать_VERB', 0.555806040763855),\n",
       " ('прикосновение_NOUN', 0.5527330636978149),\n",
       " ('сквознячок_NOUN', 0.531085193157196),\n",
       " ('веяние_NOUN', 0.5309581756591797),\n",
       " ('шорох_NOUN', 0.5258617401123047),\n",
       " ('веять_VERB', 0.5150594115257263),\n",
       " ('подуть_VERB', 0.5133370161056519),\n",
       " ('взвевать_VERB', 0.5100914835929871)]"
      ]
     },
     "execution_count": 84,
     "metadata": {},
     "output_type": "execute_result"
    }
   ],
   "source": [
    "word2vec_rus.most_similar(['дуновение_NOUN'])"
   ]
  },
  {
   "cell_type": "markdown",
   "metadata": {},
   "source": [
    "67"
   ]
  },
  {
   "cell_type": "code",
   "execution_count": 85,
   "metadata": {},
   "outputs": [
    {
     "data": {
      "text/plain": [
       "[('дуть_VERB', 0.7771806716918945),\n",
       " ('ветерок_NOUN', 0.7619227170944214),\n",
       " ('подуть_VERB', 0.7069258093833923),\n",
       " ('задувать_VERB', 0.6909410357475281),\n",
       " ('шквалистый_ADJ', 0.6558048725128174),\n",
       " ('скрепчать_VERB', 0.638143002986908),\n",
       " ('дождь_NOUN', 0.631079912185669),\n",
       " ('ветрище_NOUN', 0.6279959082603455),\n",
       " ('метель_NOUN', 0.6251730918884277),\n",
       " ('задуть_VERB', 0.6201468110084534)]"
      ]
     },
     "execution_count": 85,
     "metadata": {},
     "output_type": "execute_result"
    }
   ],
   "source": [
    "word2vec_rus.most_similar(['ветер_NOUN'])"
   ]
  },
  {
   "cell_type": "markdown",
   "metadata": {},
   "source": [
    "68"
   ]
  },
  {
   "cell_type": "code",
   "execution_count": 86,
   "metadata": {},
   "outputs": [
    {
     "data": {
      "text/plain": [
       "[('влажный_ADJ', 0.7167389392852783),\n",
       " ('промокнуть_VERB', 0.6992236375808716),\n",
       " ('мокро_ADV', 0.6773616075515747),\n",
       " ('намокать_VERB', 0.6560070514678955),\n",
       " ('потный_ADJ', 0.6520527005195618),\n",
       " ('липкий_ADJ', 0.6458374261856079),\n",
       " ('мокроватый_ADJ', 0.6426368951797485),\n",
       " ('смачивать_VERB', 0.6285988688468933),\n",
       " ('хлюпать_VERB', 0.6193389296531677),\n",
       " ('размокать_VERB', 0.6113543510437012)]"
      ]
     },
     "execution_count": 86,
     "metadata": {},
     "output_type": "execute_result"
    }
   ],
   "source": [
    "word2vec_rus.most_similar(['мокрый_ADJ'])"
   ]
  },
  {
   "cell_type": "markdown",
   "metadata": {},
   "source": [
    "69"
   ]
  },
  {
   "cell_type": "code",
   "execution_count": 87,
   "metadata": {},
   "outputs": [
    {
     "data": {
      "text/plain": [
       "[('степной_ADJ', 0.8015413284301758),\n",
       " ('равнина_NOUN', 0.7045283317565918),\n",
       " ('ковыль_NOUN', 0.6290345788002014),\n",
       " ('ковылистый_ADJ', 0.6249306201934814),\n",
       " ('шлях_NOUN', 0.6246176958084106),\n",
       " ('ковыльный::степь_NOUN', 0.6230382323265076),\n",
       " ('обдонье_NOUN', 0.6151097416877747),\n",
       " ('копет::даг_NOUN', 0.6081622242927551),\n",
       " ('бестравный_ADJ', 0.6048274636268616),\n",
       " ('бескрайний_ADJ', 0.6044518351554871)]"
      ]
     },
     "execution_count": 87,
     "metadata": {},
     "output_type": "execute_result"
    }
   ],
   "source": [
    "word2vec_rus.most_similar(['степь_NOUN'])"
   ]
  },
  {
   "cell_type": "markdown",
   "metadata": {},
   "source": [
    "70"
   ]
  },
  {
   "cell_type": "code",
   "execution_count": 88,
   "metadata": {},
   "outputs": [
    {
     "data": {
      "text/plain": [
       "[('прегрязный_ADJ', 0.6861900091171265),\n",
       " ('неопрятный_ADJ', 0.6844646334648132),\n",
       " ('вонючий_ADJ', 0.6722943186759949),\n",
       " ('грязь_NOUN', 0.6620672941207886),\n",
       " ('грязно_ADV', 0.652313768863678),\n",
       " ('грязноватый_ADJ', 0.6485370397567749),\n",
       " ('немытый_ADJ', 0.6397035717964172),\n",
       " ('запачкать_VERB', 0.6289220452308655),\n",
       " ('мокрый_ADJ', 0.6030596494674683),\n",
       " ('рваный_ADJ', 0.600457489490509)]"
      ]
     },
     "execution_count": 88,
     "metadata": {},
     "output_type": "execute_result"
    }
   ],
   "source": [
    "word2vec_rus.most_similar(['грязный_ADJ'])"
   ]
  },
  {
   "cell_type": "markdown",
   "metadata": {},
   "source": [
    "Совпадение с мокрый на 0.6030596494674683"
   ]
  },
  {
   "cell_type": "markdown",
   "metadata": {},
   "source": [
    "71"
   ]
  },
  {
   "cell_type": "code",
   "execution_count": 89,
   "metadata": {},
   "outputs": [
    {
     "data": {
      "text/plain": [
       "[('забытый_ADJ', 0.5724154114723206),\n",
       " ('вспоминать_VERB', 0.5165311694145203),\n",
       " ('вспоминаться_VERB', 0.5103641748428345),\n",
       " ('воспоминание_NOUN', 0.4872249662876129),\n",
       " ('знакомый_ADJ', 0.482165664434433),\n",
       " ('вспомнить_VERB', 0.48091986775398254),\n",
       " ('воскрешаться_VERB', 0.4704672396183014),\n",
       " ('давний_ADJ', 0.4700312614440918),\n",
       " ('щемящий_ADJ', 0.4687977433204651),\n",
       " ('когда-то_ADV', 0.46710941195487976)]"
      ]
     },
     "execution_count": 89,
     "metadata": {},
     "output_type": "execute_result"
    }
   ],
   "source": [
    "word2vec_rus.most_similar(['полузабытый_ADJ'])"
   ]
  },
  {
   "cell_type": "markdown",
   "metadata": {},
   "source": [
    "Сходство с вспоминать на 0.48091986775398254"
   ]
  },
  {
   "cell_type": "markdown",
   "metadata": {},
   "source": [
    "72"
   ]
  },
  {
   "cell_type": "code",
   "execution_count": 90,
   "metadata": {},
   "outputs": [
    {
     "data": {
      "text/plain": [
       "[('вспоминаться_VERB', 0.7509555816650391),\n",
       " ('вспомнить_VERB', 0.7378633618354797),\n",
       " ('припоминать_VERB', 0.6566435098648071),\n",
       " ('помнить_VERB', 0.6209763288497925),\n",
       " ('воспоминание_NOUN', 0.6078059077262878),\n",
       " ('вспомниться_VERB', 0.6037886142730713),\n",
       " ('припоминаться_VERB', 0.6020289659500122),\n",
       " ('рассказывать_VERB', 0.5906240940093994),\n",
       " ('забывать_VERB', 0.5551363229751587),\n",
       " ('думать_VERB', 0.5173665881156921)]"
      ]
     },
     "execution_count": 90,
     "metadata": {},
     "output_type": "execute_result"
    }
   ],
   "source": [
    "word2vec_rus.most_similar(['вспоминать_VERB'])"
   ]
  },
  {
   "cell_type": "markdown",
   "metadata": {},
   "source": [
    "Сходство с думать на 0.5173665881156921"
   ]
  },
  {
   "cell_type": "markdown",
   "metadata": {},
   "source": [
    "73"
   ]
  },
  {
   "cell_type": "code",
   "execution_count": 91,
   "metadata": {},
   "outputs": [
    {
     "data": {
      "text/plain": [
       "[('девчонка_NOUN', 0.806207537651062),\n",
       " ('мальчуган_NOUN', 0.7414295673370361),\n",
       " ('мальчик_NOUN', 0.7172996997833252),\n",
       " ('ребятишки_NOUN', 0.7037432193756104),\n",
       " ('парнишка_NOUN', 0.6984620690345764),\n",
       " ('пацан_NOUN', 0.6776584386825562),\n",
       " ('ребята_NOUN', 0.6741530895233154),\n",
       " ('девочка_NOUN', 0.6461262702941895),\n",
       " ('мальчонка_NOUN', 0.6442229151725769),\n",
       " ('салки_NOUN', 0.6136921048164368)]"
      ]
     },
     "execution_count": 91,
     "metadata": {},
     "output_type": "execute_result"
    }
   ],
   "source": [
    "word2vec_rus.most_similar(['мальчишка_NOUN'])"
   ]
  },
  {
   "cell_type": "markdown",
   "metadata": {},
   "source": [
    "74"
   ]
  },
  {
   "cell_type": "code",
   "execution_count": 92,
   "metadata": {},
   "outputs": [
    {
     "data": {
      "text/plain": [
       "[('влажный_ADJ', 0.6875859498977661),\n",
       " ('испарение_NOUN', 0.6504511833190918),\n",
       " ('влажность_NOUN', 0.6467483043670654),\n",
       " ('дождевой_ADJ', 0.6104384660720825),\n",
       " ('вода_NOUN', 0.5929107666015625),\n",
       " ('увлажнять_VERB', 0.5844509601593018),\n",
       " ('испарять_VERB', 0.5792763233184814),\n",
       " ('переувлажнение_NOUN', 0.5711315870285034),\n",
       " ('транспирация_NOUN', 0.5688215494155884),\n",
       " ('воздух_NOUN', 0.568605363368988)]"
      ]
     },
     "execution_count": 92,
     "metadata": {},
     "output_type": "execute_result"
    }
   ],
   "source": [
    "word2vec_rus.most_similar(['влага_NOUN'])"
   ]
  },
  {
   "cell_type": "markdown",
   "metadata": {},
   "source": [
    "75"
   ]
  },
  {
   "cell_type": "code",
   "execution_count": 93,
   "metadata": {},
   "outputs": [
    {
     "data": {
      "text/plain": [
       "[('луна_NOUN', 0.753523051738739),\n",
       " ('солнечный_ADJ', 0.6541467905044556),\n",
       " ('солнце_NOUN', 0.5674200057983398),\n",
       " ('безлунный_ADJ', 0.5427224636077881),\n",
       " ('серебристый_ADJ', 0.5383630990982056),\n",
       " ('серпик_NOUN', 0.5307267308235168),\n",
       " ('яркозвездный_ADJ', 0.5285578966140747),\n",
       " ('сияние_NOUN', 0.5241496562957764),\n",
       " ('звездный_ADJ', 0.5229997634887695),\n",
       " ('венера_NOUN', 0.5120295882225037)]"
      ]
     },
     "execution_count": 93,
     "metadata": {},
     "output_type": "execute_result"
    }
   ],
   "source": [
    "word2vec_rus.most_similar(['лунный_ADJ'])"
   ]
  },
  {
   "cell_type": "markdown",
   "metadata": {},
   "source": [
    "Сходство с солнце на  0.5674200057983398"
   ]
  },
  {
   "cell_type": "markdown",
   "metadata": {},
   "source": [
    "76"
   ]
  },
  {
   "cell_type": "code",
   "execution_count": 94,
   "metadata": {},
   "outputs": [
    {
     "data": {
      "text/plain": [
       "[('пригорок_NOUN', 0.7795998454093933),\n",
       " ('гора_NOUN', 0.7609919309616089),\n",
       " ('равнина_NOUN', 0.7315649390220642),\n",
       " ('холмистый_ADJ', 0.7183884978294373),\n",
       " ('лощина_NOUN', 0.7137323617935181),\n",
       " ('долина_NOUN', 0.7055290937423706),\n",
       " ('скалистый_ADJ', 0.7031927704811096),\n",
       " ('косогор_NOUN', 0.6969284415245056),\n",
       " ('подножие_NOUN', 0.6964482069015503),\n",
       " ('склон_NOUN', 0.6947034597396851)]"
      ]
     },
     "execution_count": 94,
     "metadata": {},
     "output_type": "execute_result"
    }
   ],
   "source": [
    "word2vec_rus.most_similar(['холм_NOUN'])"
   ]
  },
  {
   "cell_type": "markdown",
   "metadata": {},
   "source": [
    "77"
   ]
  },
  {
   "cell_type": "code",
   "execution_count": 95,
   "metadata": {},
   "outputs": [
    {
     "data": {
      "text/plain": [
       "[('лощина_NOUN', 0.6908294558525085),\n",
       " ('пригорок_NOUN', 0.6787751913070679),\n",
       " ('холм_NOUN', 0.6613072156906128),\n",
       " ('косогор_NOUN', 0.6521585583686829),\n",
       " ('мочажина_NOUN', 0.6447030901908875),\n",
       " ('заболоченный::низина_NOUN', 0.6344491839408875),\n",
       " ('овраг_NOUN', 0.6321479082107544),\n",
       " ('обдонье_NOUN', 0.624998152256012),\n",
       " ('взгорок_NOUN', 0.6201273798942566),\n",
       " ('лывина_NOUN', 0.6181423664093018)]"
      ]
     },
     "execution_count": 95,
     "metadata": {},
     "output_type": "execute_result"
    }
   ],
   "source": [
    "word2vec_rus.most_similar(['низина_NOUN'])"
   ]
  },
  {
   "cell_type": "markdown",
   "metadata": {},
   "source": [
    "78"
   ]
  },
  {
   "cell_type": "code",
   "execution_count": 96,
   "metadata": {},
   "outputs": [
    {
     "data": {
      "text/plain": [
       "[('вспоминать_VERB', 0.6078058481216431),\n",
       " ('память_NOUN', 0.6070387363433838),\n",
       " ('мемуары_NOUN', 0.5509399771690369),\n",
       " ('юность_NOUN', 0.5300004482269287),\n",
       " ('рассказ_NOUN', 0.5296549797058105),\n",
       " ('пережитое_NOUN', 0.5264909863471985),\n",
       " ('прошлое_NOUN', 0.5216702222824097),\n",
       " ('вспоминаться_VERB', 0.5156686305999756),\n",
       " ('мысль_NOUN', 0.5115755796432495),\n",
       " ('ощущение_NOUN', 0.5068775415420532)]"
      ]
     },
     "execution_count": 96,
     "metadata": {},
     "output_type": "execute_result"
    }
   ],
   "source": [
    "word2vec_rus.most_similar(['воспоминание_NOUN'])"
   ]
  },
  {
   "cell_type": "markdown",
   "metadata": {},
   "source": [
    "Сходство с юность на 0.5300004482269287"
   ]
  },
  {
   "cell_type": "markdown",
   "metadata": {},
   "source": [
    "79"
   ]
  },
  {
   "cell_type": "code",
   "execution_count": 97,
   "metadata": {},
   "outputs": [
    {
     "data": {
      "text/plain": [
       "[('богинька_NOUN', 0.5358371734619141),\n",
       " ('родимушка_NOUN', 0.5350940823554993),\n",
       " ('хрестный_NOUN', 0.5258017778396606),\n",
       " ('заспокоиться_VERB', 0.5248385071754456),\n",
       " ('галав_NOUN', 0.5217131972312927),\n",
       " ('патапушка_NOUN', 0.5212068557739258),\n",
       " ('клюкувка_NOUN', 0.5207588076591492),\n",
       " ('сердешненький_ADJ', 0.5196961760520935),\n",
       " ('гаранюшка_NOUN', 0.517556369304657),\n",
       " ('викеша_NOUN', 0.5162904858589172)]"
      ]
     },
     "execution_count": 97,
     "metadata": {},
     "output_type": "execute_result"
    }
   ],
   "source": [
    "word2vec_rus.most_similar(['родный_ADJ'])"
   ]
  },
  {
   "cell_type": "markdown",
   "metadata": {},
   "source": [
    "80"
   ]
  },
  {
   "cell_type": "code",
   "execution_count": 98,
   "metadata": {},
   "outputs": [
    {
     "data": {
      "text/plain": [
       "[('отдаленный_ADJ', 0.6834790706634521),\n",
       " ('туманный_ADJ', 0.581929624080658),\n",
       " ('дальний_ADJ', 0.5352893471717834),\n",
       " ('недалекий_ADJ', 0.5199480056762695),\n",
       " ('отдалять_VERB', 0.515679121017456),\n",
       " ('вдали_ADV', 0.5116113424301147),\n",
       " ('даль_NOUN', 0.5106717348098755),\n",
       " ('близкий_ADJ', 0.5091188549995422),\n",
       " ('прошлое_NOUN', 0.5076875686645508),\n",
       " ('далеко_ADV', 0.4965364933013916)]"
      ]
     },
     "execution_count": 98,
     "metadata": {},
     "output_type": "execute_result"
    }
   ],
   "source": [
    "word2vec_rus.most_similar(['далекий_ADJ'])"
   ]
  },
  {
   "cell_type": "markdown",
   "metadata": {},
   "source": [
    "81"
   ]
  },
  {
   "cell_type": "code",
   "execution_count": 99,
   "metadata": {},
   "outputs": [
    {
     "data": {
      "text/plain": [
       "[('давнишний_ADJ', 0.7300230860710144),\n",
       " ('недавний_ADJ', 0.6228041648864746),\n",
       " ('стародавний_ADJ', 0.5781295895576477),\n",
       " ('незапамятный_ADJ', 0.5489473938941956),\n",
       " ('когда-то_ADV', 0.5381636023521423),\n",
       " ('былой_ADJ', 0.5364517569541931),\n",
       " ('давным-давно_ADV', 0.47579681873321533),\n",
       " ('полузабытый_ADJ', 0.4700312614440918),\n",
       " ('давно_ADV', 0.46825435757637024),\n",
       " ('пора_NOUN', 0.4655507802963257)]"
      ]
     },
     "execution_count": 99,
     "metadata": {},
     "output_type": "execute_result"
    }
   ],
   "source": [
    "word2vec_rus.most_similar(['давний_ADJ'])"
   ]
  },
  {
   "cell_type": "markdown",
   "metadata": {},
   "source": [
    "Сходство с полузабытый на 0.4700312614440918"
   ]
  },
  {
   "cell_type": "markdown",
   "metadata": {},
   "source": [
    "82"
   ]
  },
  {
   "cell_type": "code",
   "execution_count": 100,
   "metadata": {},
   "outputs": [
    {
     "data": {
      "text/plain": [
       "[('вагон_NOUN', 0.7433513402938843),\n",
       " ('купэ_NOUN', 0.6175939440727234),\n",
       " ('проводница_NOUN', 0.6078729629516602),\n",
       " ('купейный_ADJ', 0.606768012046814),\n",
       " ('поезд_NOUN', 0.5983363389968872),\n",
       " ('тамбур_NOUN', 0.5852926969528198),\n",
       " ('плацкартный_ADJ', 0.5683884620666504),\n",
       " ('плацкарта_NOUN', 0.5632871389389038),\n",
       " ('теплушка_NOUN', 0.5536596179008484),\n",
       " ('каюта_NOUN', 0.5524041652679443)]"
      ]
     },
     "execution_count": 100,
     "metadata": {},
     "output_type": "execute_result"
    }
   ],
   "source": [
    "word2vec_rus.most_similar(['купе_NOUN'])"
   ]
  },
  {
   "cell_type": "markdown",
   "metadata": {},
   "source": [
    "83"
   ]
  },
  {
   "cell_type": "code",
   "execution_count": 101,
   "metadata": {},
   "outputs": [
    {
     "data": {
      "text/plain": [
       "[('оротук_NOUN', 0.5142683982849121),\n",
       " ('дюшембай_NOUN', 0.5080208778381348),\n",
       " ('бухаингол_NOUN', 0.49829769134521484),\n",
       " ('донкыр_NOUN', 0.49510806798934937),\n",
       " ('дэбсык_ADJ', 0.4881310760974884),\n",
       " ('цоктоев_NOUN', 0.48739463090896606),\n",
       " ('провожатый_NOUN', 0.47994762659072876),\n",
       " ('язгулон_NOUN', 0.478135347366333),\n",
       " ('цэндэ_NOUN', 0.47590553760528564),\n",
       " ('кильчегасов_NOUN', 0.47248852252960205)]"
      ]
     },
     "execution_count": 101,
     "metadata": {},
     "output_type": "execute_result"
    }
   ],
   "source": [
    "word2vec_rus.most_similar(['проводник_NOUN'])"
   ]
  },
  {
   "cell_type": "markdown",
   "metadata": {},
   "source": [
    "84"
   ]
  },
  {
   "cell_type": "code",
   "execution_count": 102,
   "metadata": {},
   "outputs": [
    {
     "data": {
      "text/plain": [
       "[('вечер_NOUN', 0.8054012060165405),\n",
       " ('рассвет_NOUN', 0.7630836367607117),\n",
       " ('полдень_NOUN', 0.7589681148529053),\n",
       " ('поутру_ADV', 0.7479579448699951),\n",
       " ('наутро_ADV', 0.7144489288330078),\n",
       " ('час_NOUN', 0.7124212980270386),\n",
       " ('ночь_NOUN', 0.6998549699783325),\n",
       " ('день_NOUN', 0.6839577555656433),\n",
       " ('полночь_NOUN', 0.6561633944511414),\n",
       " ('утренний_ADJ', 0.6492198705673218)]"
      ]
     },
     "execution_count": 102,
     "metadata": {},
     "output_type": "execute_result"
    }
   ],
   "source": [
    "word2vec_rus.most_similar(['утро_NOUN'])"
   ]
  },
  {
   "cell_type": "markdown",
   "metadata": {},
   "source": [
    "Сходство с ночь на 0.6998549699783325"
   ]
  },
  {
   "cell_type": "markdown",
   "metadata": {},
   "source": [
    "85"
   ]
  },
  {
   "cell_type": "code",
   "execution_count": 103,
   "metadata": {},
   "outputs": [
    {
     "data": {
      "text/plain": [
       "[('перрон_NOUN', 0.7546072602272034),\n",
       " ('вокзальный_ADJ', 0.6866600513458252),\n",
       " ('поезд_NOUN', 0.6810490489006042),\n",
       " ('вагон_NOUN', 0.6348622441291809),\n",
       " ('привокзальный_ADJ', 0.6221245527267456),\n",
       " ('брестский::жел_NOUN', 0.6184203028678894),\n",
       " ('электричка_NOUN', 0.6134830713272095),\n",
       " ('метро_NOUN', 0.6070419549942017),\n",
       " ('каланчевка_NOUN', 0.6026817560195923),\n",
       " ('трамвай_NOUN', 0.5963736772537231)]"
      ]
     },
     "execution_count": 103,
     "metadata": {},
     "output_type": "execute_result"
    }
   ],
   "source": [
    "word2vec_rus.most_similar(['вокзал_NOUN'])"
   ]
  },
  {
   "cell_type": "markdown",
   "metadata": {},
   "source": [
    "86"
   ]
  },
  {
   "cell_type": "code",
   "execution_count": 104,
   "metadata": {},
   "outputs": [
    {
     "data": {
      "text/plain": [
       "[('поезд_NOUN', 0.5795676112174988),\n",
       " ('курьерский_ADJ', 0.5479750633239746),\n",
       " ('tgv_NOUN', 0.541475772857666),\n",
       " ('товарно-пассажирский_ADJ', 0.5041955709457397),\n",
       " ('почтово-пассажирский_ADJ', 0.5040866732597351),\n",
       " ('токио::осака_NOUN', 0.4902481734752655),\n",
       " ('дизель-поезд_NOUN', 0.4819667935371399),\n",
       " ('tee_NOUN', 0.4762352705001831),\n",
       " ('bahn_NOUN', 0.47569090127944946),\n",
       " ('электричка_NOUN', 0.47173333168029785)]"
      ]
     },
     "execution_count": 104,
     "metadata": {},
     "output_type": "execute_result"
    }
   ],
   "source": [
    "word2vec_rus.most_similar(['экспресс_NOUN'])"
   ]
  },
  {
   "cell_type": "markdown",
   "metadata": {},
   "source": [
    "87"
   ]
  },
  {
   "cell_type": "code",
   "execution_count": 105,
   "metadata": {},
   "outputs": [
    {
     "data": {
      "text/plain": [
       "[('окошко_NOUN', 0.8440899848937988),\n",
       " ('оконце_NOUN', 0.7215075492858887),\n",
       " ('форточка_NOUN', 0.7003422975540161),\n",
       " ('ставня_NOUN', 0.6936780214309692),\n",
       " ('подоконник_NOUN', 0.684985876083374),\n",
       " ('занавеска_NOUN', 0.6753472089767456),\n",
       " ('оконный_ADJ', 0.6740248203277588),\n",
       " ('незавешивать_VERB', 0.6645145416259766),\n",
       " ('дверь_NOUN', 0.6585590839385986),\n",
       " ('балкон_NOUN', 0.6529538035392761)]"
      ]
     },
     "execution_count": 105,
     "metadata": {},
     "output_type": "execute_result"
    }
   ],
   "source": [
    "word2vec_rus.most_similar(['окно_NOUN'])"
   ]
  },
  {
   "cell_type": "markdown",
   "metadata": {},
   "source": [
    "88"
   ]
  },
  {
   "cell_type": "code",
   "execution_count": 106,
   "metadata": {},
   "outputs": [
    {
     "data": {
      "text/plain": [
       "[('восток_NOUN', 0.8211065530776978),\n",
       " ('западный_ADJ', 0.7016541957855225),\n",
       " ('юг_NOUN', 0.6806805729866028),\n",
       " ('север_NOUN', 0.6770570278167725),\n",
       " ('северо-восток_NOUN', 0.6332821846008301),\n",
       " ('северо-запад_NOUN', 0.6332789659500122),\n",
       " ('юго-восток_NOUN', 0.6330687403678894),\n",
       " ('востоко_ADV', 0.6077799797058105),\n",
       " ('юго-запад_NOUN', 0.5924649834632874),\n",
       " ('гуа::чжеу_NOUN', 0.5921199321746826)]"
      ]
     },
     "execution_count": 106,
     "metadata": {},
     "output_type": "execute_result"
    }
   ],
   "source": [
    "word2vec_rus.most_similar(['запад_NOUN'])"
   ]
  },
  {
   "cell_type": "markdown",
   "metadata": {},
   "source": [
    "Сходство с юг на 0.6806805729866028"
   ]
  },
  {
   "cell_type": "markdown",
   "metadata": {},
   "source": [
    "89"
   ]
  },
  {
   "cell_type": "code",
   "execution_count": 107,
   "metadata": {},
   "outputs": [
    {
     "data": {
      "text/plain": [
       "[('вод_NOUN', 0.5985299348831177),\n",
       " ('влага_NOUN', 0.5929107069969177),\n",
       " ('отчерпывать_VERB', 0.5788257122039795),\n",
       " ('водяной_ADJ', 0.5782485008239746),\n",
       " ('дождевой_ADJ', 0.57403963804245),\n",
       " ('зачерпывать_VERB', 0.5738123655319214),\n",
       " ('всполаскивать_VERB', 0.5690749287605286),\n",
       " ('вычерпываться_VERB', 0.5665957927703857),\n",
       " ('непроточный_ADJ', 0.563467800617218),\n",
       " ('пресный_ADJ', 0.5565341711044312)]"
      ]
     },
     "execution_count": 107,
     "metadata": {},
     "output_type": "execute_result"
    }
   ],
   "source": [
    "word2vec_rus.most_similar(['вода_NOUN'])"
   ]
  },
  {
   "cell_type": "markdown",
   "metadata": {},
   "source": [
    "Сходство с влагой на 0.5929107069969177"
   ]
  },
  {
   "cell_type": "markdown",
   "metadata": {},
   "source": [
    "90"
   ]
  },
  {
   "cell_type": "code",
   "execution_count": 108,
   "metadata": {},
   "outputs": [
    {
     "data": {
      "text/plain": [
       "[('вдыхать_VERB', 0.5744795799255371),\n",
       " ('влага_NOUN', 0.568605363368988),\n",
       " ('испарение_NOUN', 0.5475196242332458),\n",
       " ('спертый_ADJ', 0.5449986457824707),\n",
       " ('влажный_ADJ', 0.5443288087844849),\n",
       " ('морозный_ADJ', 0.5414724946022034),\n",
       " ('десатурация_NOUN', 0.5386695265769958),\n",
       " ('вода_NOUN', 0.5367262363433838),\n",
       " ('атмосферный_ADJ', 0.5331810116767883),\n",
       " ('озонировать_VERB', 0.530894935131073)]"
      ]
     },
     "execution_count": 108,
     "metadata": {},
     "output_type": "execute_result"
    }
   ],
   "source": [
    "word2vec_rus.most_similar(['воздух_NOUN'])"
   ]
  },
  {
   "cell_type": "markdown",
   "metadata": {},
   "source": [
    "Сходство с влага на 0.568605363368988"
   ]
  },
  {
   "cell_type": "markdown",
   "metadata": {},
   "source": [
    "91"
   ]
  },
  {
   "cell_type": "code",
   "execution_count": 109,
   "metadata": {},
   "outputs": [
    {
     "data": {
      "text/plain": [
       "[('полчаса_NOUN', 0.763296365737915),\n",
       " ('утро_NOUN', 0.7124212980270386),\n",
       " ('пополудни_ADV', 0.6792699098587036),\n",
       " ('полдень_NOUN', 0.6741731762886047),\n",
       " ('получас_NOUN', 0.6674282550811768),\n",
       " ('полночь_NOUN', 0.6536139249801636),\n",
       " ('полдевятого_NOUN', 0.6457253694534302),\n",
       " ('минута_NOUN', 0.6453344821929932),\n",
       " ('вечер_NOUN', 0.633373498916626),\n",
       " ('день_NOUN', 0.6197121143341064)]"
      ]
     },
     "execution_count": 109,
     "metadata": {},
     "output_type": "execute_result"
    }
   ],
   "source": [
    "word2vec_rus.most_similar(['час_NOUN'])"
   ]
  },
  {
   "cell_type": "markdown",
   "metadata": {},
   "source": [
    "Сходство с утро на 0.7124212980270386"
   ]
  },
  {
   "cell_type": "markdown",
   "metadata": {},
   "source": [
    "92"
   ]
  },
  {
   "cell_type": "code",
   "execution_count": 110,
   "metadata": {},
   "outputs": [
    {
     "data": {
      "text/plain": [
       "[('запад_NOUN', 0.8211066722869873),\n",
       " ('север_NOUN', 0.7260047197341919),\n",
       " ('юг_NOUN', 0.6991261839866638),\n",
       " ('северо-восток_NOUN', 0.6590980291366577),\n",
       " ('восточный_ADJ', 0.6385484337806702),\n",
       " ('юго-восток_NOUN', 0.6310352087020874),\n",
       " ('северо-запад_NOUN', 0.6249892711639404),\n",
       " ('гуа::чжеу_NOUN', 0.5984067320823669),\n",
       " ('дальний_ADJ', 0.5953179001808167),\n",
       " ('востоко_ADV', 0.5850409269332886)]"
      ]
     },
     "execution_count": 110,
     "metadata": {},
     "output_type": "execute_result"
    }
   ],
   "source": [
    "word2vec_rus.most_similar(['восток_NOUN'])"
   ]
  },
  {
   "cell_type": "markdown",
   "metadata": {},
   "source": [
    "Сходство с запад на 0.8211066722869873"
   ]
  },
  {
   "cell_type": "markdown",
   "metadata": {},
   "source": [
    "93"
   ]
  },
  {
   "cell_type": "code",
   "execution_count": 111,
   "metadata": {},
   "outputs": [
    {
     "data": {
      "text/plain": [
       "[('пыль_NOUN', 0.5712383985519409),\n",
       " ('цокать::подкова_VERB', 0.5670296549797058),\n",
       " ('обхлестывать_VERB', 0.5471707582473755),\n",
       " ('екать::селезенка_VERB', 0.5343247652053833),\n",
       " ('дубнячок_NOUN', 0.529870331287384),\n",
       " ('осклизаться_VERB', 0.5256933569908142),\n",
       " ('пыльный_ADJ', 0.5223495960235596),\n",
       " ('гетманский::шлях_NOUN', 0.5186079740524292),\n",
       " ('напересечь_VERB', 0.5122075080871582),\n",
       " ('сгруживаться_VERB', 0.5085173845291138)]"
      ]
     },
     "execution_count": 111,
     "metadata": {},
     "output_type": "execute_result"
    }
   ],
   "source": [
    "word2vec_rus.most_similar(['пылить_VERB'])"
   ]
  },
  {
   "cell_type": "markdown",
   "metadata": {},
   "source": [
    "94"
   ]
  },
  {
   "cell_type": "code",
   "execution_count": 112,
   "metadata": {},
   "outputs": [
    {
     "data": {
      "text/plain": [
       "[('оранжевый_ADJ', 0.6596629023551941),\n",
       " ('желтый_ADJ', 0.646358847618103),\n",
       " ('малиновый_ADJ', 0.6371119022369385),\n",
       " ('белый_ADJ', 0.6290608048439026),\n",
       " ('зеленый_ADJ', 0.6119566559791565),\n",
       " ('синий_ADJ', 0.6091575622558594),\n",
       " ('красный_NOUN', 0.5898571610450745),\n",
       " ('алый_ADJ', 0.5759385824203491),\n",
       " ('фиолетовый_ADJ', 0.5757593512535095),\n",
       " ('рубиновый_ADJ', 0.5564912557601929)]"
      ]
     },
     "execution_count": 112,
     "metadata": {},
     "output_type": "execute_result"
    }
   ],
   "source": [
    "word2vec_rus.most_similar(['красный_ADJ'])"
   ]
  },
  {
   "cell_type": "markdown",
   "metadata": {},
   "source": [
    "Сходство с зелёный на 0.6119566559791565"
   ]
  },
  {
   "cell_type": "markdown",
   "metadata": {},
   "source": [
    "95"
   ]
  },
  {
   "cell_type": "code",
   "execution_count": 113,
   "metadata": {},
   "outputs": [
    {
     "data": {
      "text/plain": [
       "[('откос_NOUN', 0.7205343842506409),\n",
       " ('овраг_NOUN', 0.6426966190338135),\n",
       " ('лощина_NOUN', 0.636102020740509),\n",
       " ('канава_NOUN', 0.6336348056793213),\n",
       " ('недорыть_VERB', 0.6266834139823914),\n",
       " ('холм_NOUN', 0.6172018051147461),\n",
       " ('песчаный_ADJ', 0.6062968969345093),\n",
       " ('пригорок_NOUN', 0.6060384511947632),\n",
       " ('косогор_NOUN', 0.6045027375221252),\n",
       " ('шпала_NOUN', 0.6022049188613892)]"
      ]
     },
     "execution_count": 113,
     "metadata": {},
     "output_type": "execute_result"
    }
   ],
   "source": [
    "word2vec_rus.most_similar(['насыпь_NOUN'])"
   ]
  },
  {
   "cell_type": "markdown",
   "metadata": {},
   "source": [
    "Сходство с холм на 0.6172018051147461"
   ]
  },
  {
   "cell_type": "markdown",
   "metadata": {},
   "source": [
    "96"
   ]
  },
  {
   "cell_type": "code",
   "execution_count": 114,
   "metadata": {},
   "outputs": [
    {
     "data": {
      "text/plain": [
       "[('сырость_NOUN', 0.6483373045921326),\n",
       " ('сыроватый_ADJ', 0.6034640669822693),\n",
       " ('влажный_ADJ', 0.6000412702560425),\n",
       " ('мокрый_ADJ', 0.585041880607605),\n",
       " ('мерзлый_ADJ', 0.5703492164611816),\n",
       " ('промозглый_ADJ', 0.5688345432281494),\n",
       " ('сухой_ADJ', 0.5607006549835205),\n",
       " ('мозглый_ADJ', 0.5498963594436646),\n",
       " ('перемерзлый_ADJ', 0.548734188079834),\n",
       " ('промозгнуть_VERB', 0.5481418967247009)]"
      ]
     },
     "execution_count": 114,
     "metadata": {},
     "output_type": "execute_result"
    }
   ],
   "source": [
    "word2vec_rus.most_similar(['сырой_ADJ'])"
   ]
  },
  {
   "cell_type": "markdown",
   "metadata": {},
   "source": [
    "97"
   ]
  },
  {
   "cell_type": "markdown",
   "metadata": {},
   "source": [
    "Сходство с сухой на  0.5607006549835205"
   ]
  },
  {
   "cell_type": "code",
   "execution_count": 115,
   "metadata": {},
   "outputs": [
    {
     "data": {
      "text/plain": [
       "[('полынок_NOUN', 0.6646319627761841),\n",
       " ('донник_NOUN', 0.6482293009757996),\n",
       " ('трава_NOUN', 0.6419804096221924),\n",
       " ('конский::щавель_NOUN', 0.6366508603096008),\n",
       " ('ковыль_NOUN', 0.6351107954978943),\n",
       " ('чабрец_NOUN', 0.6332190632820129),\n",
       " ('чернобыл_NOUN', 0.6129744052886963),\n",
       " ('artemisia_NOUN', 0.611190676689148),\n",
       " ('сурепица_NOUN', 0.6104690432548523),\n",
       " ('бурьян_NOUN', 0.6062859296798706)]"
      ]
     },
     "execution_count": 115,
     "metadata": {},
     "output_type": "execute_result"
    }
   ],
   "source": [
    "word2vec_rus.most_similar(['полынь_NOUN'])"
   ]
  },
  {
   "cell_type": "markdown",
   "metadata": {},
   "source": [
    "98"
   ]
  },
  {
   "cell_type": "code",
   "execution_count": 116,
   "metadata": {},
   "outputs": [
    {
     "data": {
      "text/plain": [
       "[('шоссе_NOUN', 0.6953741908073425),\n",
       " ('проселочный_ADJ', 0.6713245511054993),\n",
       " ('проселок_NOUN', 0.6334177851676941),\n",
       " ('тропинка_NOUN', 0.6229061484336853),\n",
       " ('путь_NOUN', 0.6030533313751221),\n",
       " ('малоезженый_ADJ', 0.6024035215377808),\n",
       " ('шоссейный_ADJ', 0.5898980498313904),\n",
       " ('веребей_NOUN', 0.5786528587341309),\n",
       " ('ширококолейный_ADJ', 0.5780025720596313),\n",
       " ('тракт_NOUN', 0.5718089938163757)]"
      ]
     },
     "execution_count": 116,
     "metadata": {},
     "output_type": "execute_result"
    }
   ],
   "source": [
    "word2vec_rus.most_similar(['дорога_NOUN'])"
   ]
  },
  {
   "cell_type": "markdown",
   "metadata": {},
   "source": [
    "99"
   ]
  },
  {
   "cell_type": "code",
   "execution_count": 117,
   "metadata": {},
   "outputs": [
    {
     "data": {
      "text/plain": [
       "[('росистый_ADJ', 0.6458486914634705),\n",
       " ('трава_NOUN', 0.6083438396453857),\n",
       " ('росный_ADJ', 0.595980703830719),\n",
       " ('иней_NOUN', 0.5869171619415283),\n",
       " ('обдаться_VERB', 0.5826936364173889),\n",
       " ('росяный_ADJ', 0.570565938949585),\n",
       " ('дождь_NOUN', 0.5667375922203064),\n",
       " ('росяной_ADJ', 0.5665947794914246),\n",
       " ('позолотиться_VERB', 0.5642951130867004),\n",
       " ('влажный_ADJ', 0.5551788806915283)]"
      ]
     },
     "execution_count": 117,
     "metadata": {},
     "output_type": "execute_result"
    }
   ],
   "source": [
    "word2vec_rus.most_similar(['роса_NOUN'])"
   ]
  },
  {
   "cell_type": "markdown",
   "metadata": {},
   "source": [
    "Сходство с дождь на 0.5667375922203064"
   ]
  },
  {
   "cell_type": "markdown",
   "metadata": {},
   "source": [
    "100"
   ]
  },
  {
   "cell_type": "code",
   "execution_count": 119,
   "metadata": {},
   "outputs": [
    {
     "data": {
      "text/plain": [
       "[('сорвать_VERB', 0.792291522026062),\n",
       " ('рвать_VERB', 0.6164212226867676),\n",
       " ('обрывать_VERB', 0.5143072009086609),\n",
       " ('ломать_VERB', 0.4694325923919678),\n",
       " ('швырять_VERB', 0.4667205810546875),\n",
       " ('вырывать_VERB', 0.4660356640815735),\n",
       " ('топтать_VERB', 0.46322715282440186),\n",
       " ('сдергивать_VERB', 0.4599342346191406),\n",
       " ('сбрасывать_VERB', 0.4540652334690094),\n",
       " ('срезать_VERB', 0.4474576711654663)]"
      ]
     },
     "execution_count": 119,
     "metadata": {},
     "output_type": "execute_result"
    }
   ],
   "source": [
    "word2vec_rus.most_similar(['срывать_VERB'])"
   ]
  },
  {
   "cell_type": "markdown",
   "metadata": {},
   "source": [
    "Всего схожих по значению векторов 23 из 100 слов"
   ]
  },
  {
   "cell_type": "code",
   "execution_count": null,
   "metadata": {},
   "outputs": [],
   "source": []
  }
 ],
 "metadata": {
  "kernelspec": {
   "display_name": "Python 3",
   "language": "python",
   "name": "python3"
  },
  "language_info": {
   "codemirror_mode": {
    "name": "ipython",
    "version": 3
   },
   "file_extension": ".py",
   "mimetype": "text/x-python",
   "name": "python",
   "nbconvert_exporter": "python",
   "pygments_lexer": "ipython3",
   "version": "3.10.11"
  }
 },
 "nbformat": 4,
 "nbformat_minor": 2
}
