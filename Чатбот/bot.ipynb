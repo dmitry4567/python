{
 "cells": [
  {
   "cell_type": "code",
   "execution_count": 1,
   "metadata": {},
   "outputs": [
    {
     "name": "stdout",
     "output_type": "stream",
     "text": [
      "WARNING:tensorflow:From c:\\Users\\user\\AppData\\Local\\Programs\\Python\\Python311\\Lib\\site-packages\\keras\\src\\losses.py:2976: The name tf.losses.sparse_softmax_cross_entropy is deprecated. Please use tf.compat.v1.losses.sparse_softmax_cross_entropy instead.\n",
      "\n"
     ]
    }
   ],
   "source": [
    "from transformers import pipeline, tokenization_utils\n",
    "\n",
    "chatbot = pipeline(\"text-generation\", model=\"EleutherAI/gpt-neo-2.7B\",\n",
    "temperature=0.7, top_p=0.9)\n",
    "\n",
    "def generate_response(prompt):\n",
    "    response = chatbot(prompt, pad_token_id=chatbot.tokenizer.eos_token_id)\n",
    "    return response[0][\"generated_text\"].strip()\n"
   ]
  },
  {
   "cell_type": "code",
   "execution_count": 2,
   "metadata": {},
   "outputs": [
    {
     "name": "stdout",
     "output_type": "stream",
     "text": [
      "You: что делаешь?\n",
      "Response: что делаешь?\n",
      "\n",
      "— Да, я делаю всё, что угодно.\n",
      "You: кто ты?\n",
      "Response: кто ты?\n",
      "\n",
      "— Это твоя девушка. И ты знаешь, что о\n",
      "You: что такое вода?\n",
      "Response: что такое вода?\n",
      "\n",
      "– Нет, я не спрашиваю своих �\n",
      "You: так что такое вода?\n",
      "Response: так что такое вода?\n",
      "Ну, это как вода или почти\n",
      "You: exit\n",
      "Response: exit\n"
     ]
    }
   ],
   "source": [
    "prompt = ''\n",
    "\n",
    "while prompt != \"exit\":\n",
    "    prompt = input()\n",
    "    response = generate_response(prompt)\n",
    "    print(\"You: \" + prompt)\n",
    "    print(\"Response: \" + response)\n"
   ]
  },
  {
   "cell_type": "code",
   "execution_count": null,
   "metadata": {},
   "outputs": [],
   "source": []
  }
 ],
 "metadata": {
  "kernelspec": {
   "display_name": "Python 3",
   "language": "python",
   "name": "python3"
  },
  "language_info": {
   "codemirror_mode": {
    "name": "ipython",
    "version": 3
   },
   "file_extension": ".py",
   "mimetype": "text/x-python",
   "name": "python",
   "nbconvert_exporter": "python",
   "pygments_lexer": "ipython3",
   "version": "3.11.2"
  }
 },
 "nbformat": 4,
 "nbformat_minor": 2
}
